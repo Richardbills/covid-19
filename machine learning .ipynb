{
 "cells": [
  {
   "cell_type": "markdown",
   "metadata": {
    "id": "d26cb1da"
   },
   "source": [
    "# Covid 19 Analysis and Prediction"
   ]
  },
  {
   "cell_type": "markdown",
   "metadata": {
    "id": "4920ce1e"
   },
   "source": [
    "## Table of Contents\n",
    "\n",
    "* 1. Introduction\n",
    "\n",
    "* 2. Dataset Content\n",
    "\n",
    "* 3. Initial Questions to be Answered\n",
    "\n",
    "* 4. Importing our Libraries and Modules\n",
    "\n",
    "* 5. Data Preparation and Pre-processing\n",
    "     * 5.1 Data Overview\n",
    "     * 5.2 Handling Missing Values\n",
    "    \n",
    "* 6. Exploratory Data Analysis\n",
    "     * 6.1 How many people have died?\n",
    "     * 6.2 And, did they all have the same results?\n",
    "     * 6.3 What is the percentage of Covid carriers among those dead patients?\n",
    "     * 6.4 What about the percentage of Covid carriers among all the patients?\n",
    "     * 6.5 What is the percentage of death among those carriers?\n",
    "     * 6.6 Is it true that age has some impact?\n",
    "     * 6.7 Does obesity has an impact?\n",
    "     * 6.8 Does gender has any impact?\n",
    "     * 6.9 Does pregnancy has any impact?\n",
    "     * 6.10 Do other diseases affect the patient classification?\n",
    "     * 6.11 How many patients were hospitalized?\n",
    "     * 6.12 How many of them (hospitalized people) have died?\n",
    "     * 6.13 How many of the dead patients were hospitalized?\n",
    "     * 6.14 How many of those hospitalized patients had been admitted to the ICU?\n",
    "     * 6.15 How many of those hospitalized patients had been admitted to the ICU?\n",
    "     * 6.16 How many of those ICU patients have died?\n",
    "     * 6.17 What is the death trend with respect to time?\n",
    "   \n",
    "* 7. Modeling and Results\n",
    "     * 7.1 Feature Selection\n",
    "         * 7.1.1 Data Splitting\n",
    "         * 7.1.2 Checking for Correlated Features\n",
    "     * 7.2 Checking Data for Balance    \n",
    "     * 7.3 Training and Testing\n",
    "         * 7.3.1 Logistic Regression\n",
    "         * 7.3.2 Decision Tree\n",
    "         * 7.3.3 Random Forest\n",
    "         * 7.3.4 Naive Bayes\n",
    "                  \n",
    "* 8. Conclusion"
   ]
  },
  {
   "cell_type": "markdown",
   "metadata": {
    "id": "19e4fdec"
   },
   "source": [
    "# Introduction\n",
    "\n",
    "Coronavirus disease (COVID-19) is an infectious disease caused by a newly discovered coronavirus. Most people infected with COVID-19 virus will experience mild to moderate respiratory illness and recover without requiring special treatment. Older people, and those with underlying medical problems like cardiovascular disease, diabetes, chronic respiratory disease, and cancer are more likely to develop serious illness.\n",
    "During the entire course of the pandemic, one of the main problems that healthcare providers have faced is the shortage of medical resources and a proper plan to efficiently distribute them. In these tough times, being able to predict what kind of resource an individual might require at the time of being tested positive or even before that will be of immense help to the authorities as they would be able to procure and arrange for the resources necessary to save the life of that patient.\n",
    "\n",
    "The main goal of this project is to build a machine learning model that, given a Covid-19 patient's current symptom, status, and medical history, will predict whether the patient is at high risk or not."
   ]
  },
  {
   "cell_type": "markdown",
   "metadata": {
    "id": "262cd5fc"
   },
   "source": [
    "# Dataset Content\n",
    "The dataset is obtained from Kaggle at the following link:\n",
    "https://www.kaggle.com/datasets/meirnizri/covid19-dataset, and was provided by the Mexican government, which can be found at this link:\n",
    "https://datos.gob.mx/busca/dataset/informacion-referente-a-casos-covid-19-en-mexico\n",
    "\n",
    "\n",
    "\n",
    "This dataset contains an enormous number of anonymized patient-related information including pre-conditions. The raw dataset consists of 21 unique features and 1,048,576 unique patients. In the Boolean features, **1 means \"yes\" and 2 means \"no\". values as 97 and 99 are missing data**.\n",
    "<br>\n",
    "<br>\n",
    "The features can be explained as follows:\n",
    "<br>\n",
    "* **sex**: 1 for female and 2 for male.\n",
    "<br>\n",
    "* **age**: of the patient.\n",
    "<br>\n",
    "* **classification**: covid test findings. Values 1-3 mean that the patient was diagnosed with covid in different degrees. 4 or higher means that the patient is not a carrier of covid or that the test is inconclusive.\n",
    "<br>\n",
    "* **patient type**: type of care the patient received in the unit. 1 for returned home and 2 for hospitalization.\n",
    "<br>\n",
    "* **pneumonia**: whether the patient already have air sacs inflammation or not.\n",
    "<br>\n",
    "* **pregnancy**: whether the patient is pregnant or not.\n",
    "<br>\n",
    "* **diabetes**: whether the patient has diabetes or not.\n",
    "<br>\n",
    "* **copd**: Indicates whether the patient has Chronic obstructive pulmonary disease or not.\n",
    "<br>\n",
    "* **asthma**: whether the patient has asthma or not.\n",
    "<br>\n",
    "* **inmsupr**: whether the patient is immunosuppressed or not.\n",
    "<br>\n",
    "* **hypertension**: whether the patient has hypertension or not.\n",
    "<br>\n",
    "* **cardiovascular**: whether the patient has heart or blood vessels related disease.\n",
    "<br>\n",
    "* **renal chronic**: whether the patient has chronic renal disease or not.\n",
    "<br>\n",
    "* **other disease**: whether the patient has other disease or not.\n",
    "<br>\n",
    "* **obesity**: whether the patient is obese or not.\n",
    "<br>\n",
    "* **tobacco**: whether the patient is a tobacco user.\n",
    "<br>\n",
    "* **usmr** Indicates whether the patient treated medical units of the first, second or third level.\n",
    "<br>\n",
    "* **medical unit**: type of institution of the National Health System that provided the care.\n",
    "<br>\n",
    "* **intubed**: whether the patient was connected to the ventilator.\n",
    "<br>\n",
    "* **icu**: Indicates whether the patient had been admitted to an Intensive Care Unit.\n",
    "<br>\n",
    "* **date died**: If the patient died indicate the date of death, and 9999-99-99 otherwise."
   ]
  },
  {
   "cell_type": "markdown",
   "metadata": {
    "id": "ddd2432b"
   },
   "source": [
    "-------------"
   ]
  },
  {
   "cell_type": "markdown",
   "metadata": {
    "id": "8b810057"
   },
   "source": [
    "# Initial Questions to be Answered:\n",
    "\n",
    "### 1-  How many people have died?\n",
    "### 2-  And, did they all have the same results?\n",
    "### 3-  Is it true that age has some impact?\n",
    "### 4-  Does Obesity have any impact\n",
    "### 5-  Does gender have any impact?\n",
    "### 6-  How do other diseases affect the patient classification?\n",
    "### 7-  How many patients were diagnosed with Covid 19 of 1st, 2nd, or 3rd degrees?\n",
    "### 8-  How many of them have died?\n",
    "### 9-  How many patients were hospitalized?\n",
    "### 10-  How many of them have died?\n",
    "### 11-  How many patients had been admitted to an Intensive Care Unit?\n",
    "### 12-  How many of them have died?\n",
    "<br>\n",
    "<br>\n",
    "\n",
    "### More questions to come as we progress through our analysis :D"
   ]
  },
  {
   "cell_type": "markdown",
   "metadata": {
    "id": "fd1640ff"
   },
   "source": [
    "------------------------"
   ]
  },
  {
   "cell_type": "markdown",
   "metadata": {
    "id": "8b8d068b"
   },
   "source": [
    "# Importing our Libraries and Modules:"
   ]
  },
  {
   "cell_type": "code",
   "execution_count": 1,
   "metadata": {
    "id": "3ee0b576"
   },
   "outputs": [],
   "source": [
    "import pandas as pd\n",
    "import numpy as np\n",
    "import seaborn as sns\n",
    "import matplotlib.pyplot as plt\n",
    "from matplotlib.ticker import FormatStrFormatter # To adjust the ticks formatting\n",
    "import warnings\n",
    "warnings.filterwarnings('ignore') # To ignore warning messages\n",
    "from sklearn.model_selection import train_test_split\n",
    "from sklearn.ensemble import RandomForestClassifier\n",
    "from sklearn.linear_model import LogisticRegression\n",
    "from sklearn.tree import DecisionTreeClassifier\n",
    "from sklearn.svm import SVC\n",
    "from sklearn.neighbors import KNeighborsClassifier\n",
    "from sklearn.naive_bayes import GaussianNB\n",
    "from imblearn.over_sampling import SMOTE\n",
    "from sklearn.metrics import classification_report"
   ]
  },
  {
   "cell_type": "markdown",
   "metadata": {
    "id": "12c1f72d"
   },
   "source": [
    "--------------------------------------------"
   ]
  },
  {
   "cell_type": "markdown",
   "metadata": {
    "id": "b1792d0b"
   },
   "source": [
    "# Data Preparation and Preprocessing"
   ]
  },
  {
   "cell_type": "code",
   "execution_count": 2,
   "metadata": {
    "id": "94307a41"
   },
   "outputs": [],
   "source": [
    "# Loading our dataset\n",
    "df = pd.read_csv(\"Covid Data.csv\")"
   ]
  },
  {
   "cell_type": "code",
   "execution_count": 3,
   "metadata": {
    "id": "c3dc693f",
    "outputId": "7d85c982-d4c4-45eb-fe39-3ac306e64abe"
   },
   "outputs": [
    {
     "data": {
      "text/html": [
       "<div>\n",
       "<style scoped>\n",
       "    .dataframe tbody tr th:only-of-type {\n",
       "        vertical-align: middle;\n",
       "    }\n",
       "\n",
       "    .dataframe tbody tr th {\n",
       "        vertical-align: top;\n",
       "    }\n",
       "\n",
       "    .dataframe thead th {\n",
       "        text-align: right;\n",
       "    }\n",
       "</style>\n",
       "<table border=\"1\" class=\"dataframe\">\n",
       "  <thead>\n",
       "    <tr style=\"text-align: right;\">\n",
       "      <th></th>\n",
       "      <th>USMER</th>\n",
       "      <th>MEDICAL_UNIT</th>\n",
       "      <th>SEX</th>\n",
       "      <th>PATIENT_TYPE</th>\n",
       "      <th>DATE_DIED</th>\n",
       "      <th>INTUBED</th>\n",
       "      <th>PNEUMONIA</th>\n",
       "      <th>AGE</th>\n",
       "      <th>PREGNANT</th>\n",
       "      <th>DIABETES</th>\n",
       "      <th>...</th>\n",
       "      <th>ASTHMA</th>\n",
       "      <th>INMSUPR</th>\n",
       "      <th>HIPERTENSION</th>\n",
       "      <th>OTHER_DISEASE</th>\n",
       "      <th>CARDIOVASCULAR</th>\n",
       "      <th>OBESITY</th>\n",
       "      <th>RENAL_CHRONIC</th>\n",
       "      <th>TOBACCO</th>\n",
       "      <th>CLASIFFICATION_FINAL</th>\n",
       "      <th>ICU</th>\n",
       "    </tr>\n",
       "  </thead>\n",
       "  <tbody>\n",
       "    <tr>\n",
       "      <th>0</th>\n",
       "      <td>2</td>\n",
       "      <td>1</td>\n",
       "      <td>1</td>\n",
       "      <td>1</td>\n",
       "      <td>03/05/2020</td>\n",
       "      <td>97</td>\n",
       "      <td>1</td>\n",
       "      <td>65</td>\n",
       "      <td>2</td>\n",
       "      <td>2</td>\n",
       "      <td>...</td>\n",
       "      <td>2</td>\n",
       "      <td>2</td>\n",
       "      <td>1</td>\n",
       "      <td>2</td>\n",
       "      <td>2</td>\n",
       "      <td>2</td>\n",
       "      <td>2</td>\n",
       "      <td>2</td>\n",
       "      <td>3</td>\n",
       "      <td>97</td>\n",
       "    </tr>\n",
       "    <tr>\n",
       "      <th>1</th>\n",
       "      <td>2</td>\n",
       "      <td>1</td>\n",
       "      <td>2</td>\n",
       "      <td>1</td>\n",
       "      <td>03/06/2020</td>\n",
       "      <td>97</td>\n",
       "      <td>1</td>\n",
       "      <td>72</td>\n",
       "      <td>97</td>\n",
       "      <td>2</td>\n",
       "      <td>...</td>\n",
       "      <td>2</td>\n",
       "      <td>2</td>\n",
       "      <td>1</td>\n",
       "      <td>2</td>\n",
       "      <td>2</td>\n",
       "      <td>1</td>\n",
       "      <td>1</td>\n",
       "      <td>2</td>\n",
       "      <td>5</td>\n",
       "      <td>97</td>\n",
       "    </tr>\n",
       "    <tr>\n",
       "      <th>2</th>\n",
       "      <td>2</td>\n",
       "      <td>1</td>\n",
       "      <td>2</td>\n",
       "      <td>2</td>\n",
       "      <td>09/06/2020</td>\n",
       "      <td>1</td>\n",
       "      <td>2</td>\n",
       "      <td>55</td>\n",
       "      <td>97</td>\n",
       "      <td>1</td>\n",
       "      <td>...</td>\n",
       "      <td>2</td>\n",
       "      <td>2</td>\n",
       "      <td>2</td>\n",
       "      <td>2</td>\n",
       "      <td>2</td>\n",
       "      <td>2</td>\n",
       "      <td>2</td>\n",
       "      <td>2</td>\n",
       "      <td>3</td>\n",
       "      <td>2</td>\n",
       "    </tr>\n",
       "    <tr>\n",
       "      <th>3</th>\n",
       "      <td>2</td>\n",
       "      <td>1</td>\n",
       "      <td>1</td>\n",
       "      <td>1</td>\n",
       "      <td>12/06/2020</td>\n",
       "      <td>97</td>\n",
       "      <td>2</td>\n",
       "      <td>53</td>\n",
       "      <td>2</td>\n",
       "      <td>2</td>\n",
       "      <td>...</td>\n",
       "      <td>2</td>\n",
       "      <td>2</td>\n",
       "      <td>2</td>\n",
       "      <td>2</td>\n",
       "      <td>2</td>\n",
       "      <td>2</td>\n",
       "      <td>2</td>\n",
       "      <td>2</td>\n",
       "      <td>7</td>\n",
       "      <td>97</td>\n",
       "    </tr>\n",
       "    <tr>\n",
       "      <th>4</th>\n",
       "      <td>2</td>\n",
       "      <td>1</td>\n",
       "      <td>2</td>\n",
       "      <td>1</td>\n",
       "      <td>21/06/2020</td>\n",
       "      <td>97</td>\n",
       "      <td>2</td>\n",
       "      <td>68</td>\n",
       "      <td>97</td>\n",
       "      <td>1</td>\n",
       "      <td>...</td>\n",
       "      <td>2</td>\n",
       "      <td>2</td>\n",
       "      <td>1</td>\n",
       "      <td>2</td>\n",
       "      <td>2</td>\n",
       "      <td>2</td>\n",
       "      <td>2</td>\n",
       "      <td>2</td>\n",
       "      <td>3</td>\n",
       "      <td>97</td>\n",
       "    </tr>\n",
       "    <tr>\n",
       "      <th>...</th>\n",
       "      <td>...</td>\n",
       "      <td>...</td>\n",
       "      <td>...</td>\n",
       "      <td>...</td>\n",
       "      <td>...</td>\n",
       "      <td>...</td>\n",
       "      <td>...</td>\n",
       "      <td>...</td>\n",
       "      <td>...</td>\n",
       "      <td>...</td>\n",
       "      <td>...</td>\n",
       "      <td>...</td>\n",
       "      <td>...</td>\n",
       "      <td>...</td>\n",
       "      <td>...</td>\n",
       "      <td>...</td>\n",
       "      <td>...</td>\n",
       "      <td>...</td>\n",
       "      <td>...</td>\n",
       "      <td>...</td>\n",
       "      <td>...</td>\n",
       "    </tr>\n",
       "    <tr>\n",
       "      <th>1048570</th>\n",
       "      <td>2</td>\n",
       "      <td>13</td>\n",
       "      <td>2</td>\n",
       "      <td>1</td>\n",
       "      <td>9999-99-99</td>\n",
       "      <td>97</td>\n",
       "      <td>2</td>\n",
       "      <td>40</td>\n",
       "      <td>97</td>\n",
       "      <td>2</td>\n",
       "      <td>...</td>\n",
       "      <td>2</td>\n",
       "      <td>2</td>\n",
       "      <td>2</td>\n",
       "      <td>2</td>\n",
       "      <td>2</td>\n",
       "      <td>2</td>\n",
       "      <td>2</td>\n",
       "      <td>2</td>\n",
       "      <td>7</td>\n",
       "      <td>97</td>\n",
       "    </tr>\n",
       "    <tr>\n",
       "      <th>1048571</th>\n",
       "      <td>1</td>\n",
       "      <td>13</td>\n",
       "      <td>2</td>\n",
       "      <td>2</td>\n",
       "      <td>9999-99-99</td>\n",
       "      <td>2</td>\n",
       "      <td>2</td>\n",
       "      <td>51</td>\n",
       "      <td>97</td>\n",
       "      <td>2</td>\n",
       "      <td>...</td>\n",
       "      <td>2</td>\n",
       "      <td>2</td>\n",
       "      <td>1</td>\n",
       "      <td>2</td>\n",
       "      <td>2</td>\n",
       "      <td>2</td>\n",
       "      <td>2</td>\n",
       "      <td>2</td>\n",
       "      <td>7</td>\n",
       "      <td>2</td>\n",
       "    </tr>\n",
       "    <tr>\n",
       "      <th>1048572</th>\n",
       "      <td>2</td>\n",
       "      <td>13</td>\n",
       "      <td>2</td>\n",
       "      <td>1</td>\n",
       "      <td>9999-99-99</td>\n",
       "      <td>97</td>\n",
       "      <td>2</td>\n",
       "      <td>55</td>\n",
       "      <td>97</td>\n",
       "      <td>2</td>\n",
       "      <td>...</td>\n",
       "      <td>2</td>\n",
       "      <td>2</td>\n",
       "      <td>2</td>\n",
       "      <td>2</td>\n",
       "      <td>2</td>\n",
       "      <td>2</td>\n",
       "      <td>2</td>\n",
       "      <td>2</td>\n",
       "      <td>7</td>\n",
       "      <td>97</td>\n",
       "    </tr>\n",
       "    <tr>\n",
       "      <th>1048573</th>\n",
       "      <td>2</td>\n",
       "      <td>13</td>\n",
       "      <td>2</td>\n",
       "      <td>1</td>\n",
       "      <td>9999-99-99</td>\n",
       "      <td>97</td>\n",
       "      <td>2</td>\n",
       "      <td>28</td>\n",
       "      <td>97</td>\n",
       "      <td>2</td>\n",
       "      <td>...</td>\n",
       "      <td>2</td>\n",
       "      <td>2</td>\n",
       "      <td>2</td>\n",
       "      <td>2</td>\n",
       "      <td>2</td>\n",
       "      <td>2</td>\n",
       "      <td>2</td>\n",
       "      <td>2</td>\n",
       "      <td>7</td>\n",
       "      <td>97</td>\n",
       "    </tr>\n",
       "    <tr>\n",
       "      <th>1048574</th>\n",
       "      <td>2</td>\n",
       "      <td>13</td>\n",
       "      <td>2</td>\n",
       "      <td>1</td>\n",
       "      <td>9999-99-99</td>\n",
       "      <td>97</td>\n",
       "      <td>2</td>\n",
       "      <td>52</td>\n",
       "      <td>97</td>\n",
       "      <td>2</td>\n",
       "      <td>...</td>\n",
       "      <td>2</td>\n",
       "      <td>2</td>\n",
       "      <td>2</td>\n",
       "      <td>2</td>\n",
       "      <td>2</td>\n",
       "      <td>2</td>\n",
       "      <td>2</td>\n",
       "      <td>2</td>\n",
       "      <td>7</td>\n",
       "      <td>97</td>\n",
       "    </tr>\n",
       "  </tbody>\n",
       "</table>\n",
       "<p>1048575 rows × 21 columns</p>\n",
       "</div>"
      ],
      "text/plain": [
       "         USMER  MEDICAL_UNIT  SEX  PATIENT_TYPE   DATE_DIED  INTUBED  \\\n",
       "0            2             1    1             1  03/05/2020       97   \n",
       "1            2             1    2             1  03/06/2020       97   \n",
       "2            2             1    2             2  09/06/2020        1   \n",
       "3            2             1    1             1  12/06/2020       97   \n",
       "4            2             1    2             1  21/06/2020       97   \n",
       "...        ...           ...  ...           ...         ...      ...   \n",
       "1048570      2            13    2             1  9999-99-99       97   \n",
       "1048571      1            13    2             2  9999-99-99        2   \n",
       "1048572      2            13    2             1  9999-99-99       97   \n",
       "1048573      2            13    2             1  9999-99-99       97   \n",
       "1048574      2            13    2             1  9999-99-99       97   \n",
       "\n",
       "         PNEUMONIA  AGE  PREGNANT  DIABETES  ...  ASTHMA  INMSUPR  \\\n",
       "0                1   65         2         2  ...       2        2   \n",
       "1                1   72        97         2  ...       2        2   \n",
       "2                2   55        97         1  ...       2        2   \n",
       "3                2   53         2         2  ...       2        2   \n",
       "4                2   68        97         1  ...       2        2   \n",
       "...            ...  ...       ...       ...  ...     ...      ...   \n",
       "1048570          2   40        97         2  ...       2        2   \n",
       "1048571          2   51        97         2  ...       2        2   \n",
       "1048572          2   55        97         2  ...       2        2   \n",
       "1048573          2   28        97         2  ...       2        2   \n",
       "1048574          2   52        97         2  ...       2        2   \n",
       "\n",
       "         HIPERTENSION  OTHER_DISEASE  CARDIOVASCULAR  OBESITY  RENAL_CHRONIC  \\\n",
       "0                   1              2               2        2              2   \n",
       "1                   1              2               2        1              1   \n",
       "2                   2              2               2        2              2   \n",
       "3                   2              2               2        2              2   \n",
       "4                   1              2               2        2              2   \n",
       "...               ...            ...             ...      ...            ...   \n",
       "1048570             2              2               2        2              2   \n",
       "1048571             1              2               2        2              2   \n",
       "1048572             2              2               2        2              2   \n",
       "1048573             2              2               2        2              2   \n",
       "1048574             2              2               2        2              2   \n",
       "\n",
       "         TOBACCO  CLASIFFICATION_FINAL  ICU  \n",
       "0              2                     3   97  \n",
       "1              2                     5   97  \n",
       "2              2                     3    2  \n",
       "3              2                     7   97  \n",
       "4              2                     3   97  \n",
       "...          ...                   ...  ...  \n",
       "1048570        2                     7   97  \n",
       "1048571        2                     7    2  \n",
       "1048572        2                     7   97  \n",
       "1048573        2                     7   97  \n",
       "1048574        2                     7   97  \n",
       "\n",
       "[1048575 rows x 21 columns]"
      ]
     },
     "execution_count": 3,
     "metadata": {},
     "output_type": "execute_result"
    }
   ],
   "source": [
    "# Viewing our dataset\n",
    "df"
   ]
  },
  {
   "cell_type": "code",
   "execution_count": 4,
   "metadata": {
    "id": "31bc029f",
    "outputId": "5012bd39-aeeb-40c6-8e1c-1c8158b324a1"
   },
   "outputs": [
    {
     "data": {
      "text/plain": [
       "77.44310135183463"
      ]
     },
     "execution_count": 4,
     "metadata": {},
     "output_type": "execute_result"
    }
   ],
   "source": [
    "# Check duplication percentage:\n",
    "(df.duplicated().sum()/df.shape[0])*100"
   ]
  },
  {
   "cell_type": "code",
   "execution_count": 5,
   "metadata": {
    "id": "c040ab18",
    "outputId": "794e4de9-533b-4a86-a9a4-1e07e2c63225"
   },
   "outputs": [
    {
     "data": {
      "text/plain": [
       "USMER                    int64\n",
       "MEDICAL_UNIT             int64\n",
       "SEX                      int64\n",
       "PATIENT_TYPE             int64\n",
       "DATE_DIED               object\n",
       "INTUBED                  int64\n",
       "PNEUMONIA                int64\n",
       "AGE                      int64\n",
       "PREGNANT                 int64\n",
       "DIABETES                 int64\n",
       "COPD                     int64\n",
       "ASTHMA                   int64\n",
       "INMSUPR                  int64\n",
       "HIPERTENSION             int64\n",
       "OTHER_DISEASE            int64\n",
       "CARDIOVASCULAR           int64\n",
       "OBESITY                  int64\n",
       "RENAL_CHRONIC            int64\n",
       "TOBACCO                  int64\n",
       "CLASIFFICATION_FINAL     int64\n",
       "ICU                      int64\n",
       "dtype: object"
      ]
     },
     "execution_count": 5,
     "metadata": {},
     "output_type": "execute_result"
    }
   ],
   "source": [
    "df.dtypes"
   ]
  },
  {
   "cell_type": "code",
   "execution_count": 6,
   "metadata": {
    "id": "67e7b3e7",
    "outputId": "d8341908-d2fc-4ff9-cf12-ae4738055966"
   },
   "outputs": [
    {
     "data": {
      "text/plain": [
       "USMER                   0\n",
       "MEDICAL_UNIT            0\n",
       "SEX                     0\n",
       "PATIENT_TYPE            0\n",
       "DATE_DIED               0\n",
       "INTUBED                 0\n",
       "PNEUMONIA               0\n",
       "AGE                     0\n",
       "PREGNANT                0\n",
       "DIABETES                0\n",
       "COPD                    0\n",
       "ASTHMA                  0\n",
       "INMSUPR                 0\n",
       "HIPERTENSION            0\n",
       "OTHER_DISEASE           0\n",
       "CARDIOVASCULAR          0\n",
       "OBESITY                 0\n",
       "RENAL_CHRONIC           0\n",
       "TOBACCO                 0\n",
       "CLASIFFICATION_FINAL    0\n",
       "ICU                     0\n",
       "dtype: int64"
      ]
     },
     "execution_count": 6,
     "metadata": {},
     "output_type": "execute_result"
    }
   ],
   "source": [
    "# Check for missing values\n",
    "df.isnull().sum()"
   ]
  },
  {
   "cell_type": "markdown",
   "metadata": {
    "id": "7e5300b6"
   },
   "source": [
    "### But this is not our actual status regarding missing values, let's reveal our true status:"
   ]
  },
  {
   "cell_type": "code",
   "execution_count": 7,
   "metadata": {
    "id": "dafd23ef"
   },
   "outputs": [],
   "source": [
    "df_null = df.copy()\n",
    "for i in [97, 98, 99]:\n",
    "   df_null.replace(i , np.nan, inplace = True)"
   ]
  },
  {
   "cell_type": "code",
   "execution_count": 8,
   "metadata": {
    "id": "4fdf4495",
    "outputId": "228305ff-3962-4a89-fd86-8116b8c18f06"
   },
   "outputs": [
    {
     "data": {
      "text/plain": [
       "USMER                        0\n",
       "MEDICAL_UNIT                 0\n",
       "SEX                          0\n",
       "PATIENT_TYPE                 0\n",
       "DATE_DIED                    0\n",
       "INTUBED                 855869\n",
       "PNEUMONIA                16003\n",
       "AGE                        345\n",
       "PREGNANT                527265\n",
       "DIABETES                  3338\n",
       "COPD                      3003\n",
       "ASTHMA                    2979\n",
       "INMSUPR                   3404\n",
       "HIPERTENSION              3104\n",
       "OTHER_DISEASE             5045\n",
       "CARDIOVASCULAR            3076\n",
       "OBESITY                   3032\n",
       "RENAL_CHRONIC             3006\n",
       "TOBACCO                   3220\n",
       "CLASIFFICATION_FINAL         0\n",
       "ICU                     856032\n",
       "dtype: int64"
      ]
     },
     "execution_count": 8,
     "metadata": {},
     "output_type": "execute_result"
    }
   ],
   "source": [
    "df_null.isnull().sum()"
   ]
  },
  {
   "cell_type": "code",
   "execution_count": 14,
   "metadata": {
    "id": "780aac77",
    "outputId": "96a9af8c-f8ad-4750-9101-5f6540ffad81"
   },
   "outputs": [
    {
     "data": {
      "image/png": "[encoded data removed]",
      "text/plain": [
       "<Figure size 640x480 with 2 Axes>"
      ]
     },
     "metadata": {},
     "output_type": "display_data"
    }
   ],
   "source": [
    "sns.heatmap(df_null.isnull())\n",
    "plt.title('Before Handling the Missing Values', color = 'black', fontsize = 15)\n",
    "plt.show()"
   ]
  },
  {
   "cell_type": "code",
   "execution_count": 13,
   "metadata": {
    "id": "e4f760cd",
    "outputId": "57a5c236-cce6-4f72-f624-823f29129365"
   },
   "outputs": [
    {
     "data": {
      "text/plain": [
       "0          03/05/2020\n",
       "1          03/06/2020\n",
       "2          09/06/2020\n",
       "3          12/06/2020\n",
       "4          21/06/2020\n",
       "              ...    \n",
       "1048570    9999-99-99\n",
       "1048571    9999-99-99\n",
       "1048572    9999-99-99\n",
       "1048573    9999-99-99\n",
       "1048574    9999-99-99\n",
       "Name: DATE_DIED, Length: 1048575, dtype: object"
      ]
     },
     "execution_count": 13,
     "metadata": {},
     "output_type": "execute_result"
    }
   ],
   "source": [
    "# Check for any strings in the feature \"DATE_DIED\"\n",
    "df['DATE_DIED'][df['DATE_DIED'].apply(lambda x: isinstance(x, str))]"
   ]
  },
  {
   "attachments": {
    "image.png": {
     "image/png": "[encoded data removed]"
    }
   },
   "cell_type": "markdown",
   "metadata": {
    "id": "12c63dc9"
   },
   "source": [
    "The `isinstance()` function returns `True` if the specified object is of the specified type, otherwise `False`.\n",
    "![image.png](attachment:image.png)\n",
    "<br>\n",
    "for example:<br>\n",
    "Check if the number 5 is an integer:\n",
    "`x = isinstance(5, int)`\n",
    "<br>\n",
    "output -----> `True`\n",
    "<br>\n",
    "<br>\n",
    "If the type parameter is a tuple, this function will return True if the object is one of the types in the tuple.<br>\n",
    "for example:<br>\n",
    "`x = isinstance(\"Hello\", (str, float, int, str, list, dict, tuple))` <br>\n",
    "`print(x)`\n",
    "<br>\n",
    "output -----> `True`\n"
   ]
  },
  {
   "cell_type": "markdown",
   "metadata": {
    "id": "37e32c85"
   },
   "source": [
    "#### As predicted Python treats the written dates as strings, so we can leave things as they are for now."
   ]
  },
  {
   "cell_type": "code",
   "execution_count": 11,
   "metadata": {
    "id": "08087b56"
   },
   "outputs": [],
   "source": [
    "df['DEAD'] = [0 if i=='9999-99-99' else 1 for i in df.DATE_DIED]"
   ]
  },
  {
   "cell_type": "code",
   "execution_count": 12,
   "metadata": {
    "id": "45891db7",
    "outputId": "fe28bad3-051c-4f17-9a12-72cdbf7db7ff"
   },
   "outputs": [
    {
     "data": {
      "text/plain": [
       "DEAD\n",
       "0    971633\n",
       "1     76942\n",
       "Name: count, dtype: int64"
      ]
     },
     "execution_count": 12,
     "metadata": {},
     "output_type": "execute_result"
    }
   ],
   "source": [
    "df['DEAD'].value_counts()"
   ]
  },
  {
   "cell_type": "code",
   "execution_count": 13,
   "metadata": {
    "id": "75a8dc18"
   },
   "outputs": [
    {
     "data": {
      "text/plain": [
       "0    03/05/2020\n",
       "1    03/06/2020\n",
       "2    09/06/2020\n",
       "3    12/06/2020\n",
       "4    21/06/2020\n",
       "Name: DATE_DIED, dtype: object"
      ]
     },
     "execution_count": 13,
     "metadata": {},
     "output_type": "execute_result"
    }
   ],
   "source": [
    "df['DATE_DIED'].head()"
   ]
  },
  {
   "cell_type": "code",
   "execution_count": 14,
   "metadata": {
    "id": "43840b3a",
    "outputId": "63eb202c-13f1-4fb0-c273-53aa956a7d9b"
   },
   "outputs": [
    {
     "data": {
      "text/plain": [
       "0          03/05/2020\n",
       "1          03/06/2020\n",
       "2          09/06/2020\n",
       "3          12/06/2020\n",
       "4          21/06/2020\n",
       "              ...    \n",
       "1048570    9999-99-99\n",
       "1048571    9999-99-99\n",
       "1048572    9999-99-99\n",
       "1048573    9999-99-99\n",
       "1048574    9999-99-99\n",
       "Name: DATE_DIED, Length: 1048575, dtype: object"
      ]
     },
     "execution_count": 14,
     "metadata": {},
     "output_type": "execute_result"
    }
   ],
   "source": [
    "df['DATE_DIED']"
   ]
  },
  {
   "cell_type": "code",
   "execution_count": 15,
   "metadata": {},
   "outputs": [],
   "source": [
    "df = df[df['DATE_DIED'] != '9999-99-99']"
   ]
  },
  {
   "cell_type": "code",
   "execution_count": 16,
   "metadata": {},
   "outputs": [],
   "source": [
    "# Delete rows with '9999-99-99' pattern in 'DATE_DIED' column\n",
    "df['DATE_DIED'] = pd.to_datetime(df['DATE_DIED'], format='%d/%m/%Y')"
   ]
  },
  {
   "cell_type": "code",
   "execution_count": 17,
   "metadata": {},
   "outputs": [
    {
     "data": {
      "text/plain": [
       "0         2020-05-03\n",
       "1         2020-06-03\n",
       "2         2020-06-09\n",
       "3         2020-06-12\n",
       "4         2020-06-21\n",
       "             ...    \n",
       "1047635   2020-07-18\n",
       "1047636   2020-07-26\n",
       "1047637   2020-07-27\n",
       "1047638   2020-07-29\n",
       "1047639   2020-07-29\n",
       "Name: DATE_DIED, Length: 76942, dtype: datetime64[ns]"
      ]
     },
     "execution_count": 17,
     "metadata": {},
     "output_type": "execute_result"
    }
   ],
   "source": [
    "df['DATE_DIED']"
   ]
  },
  {
   "cell_type": "code",
   "execution_count": 18,
   "metadata": {
    "id": "4365fcda",
    "outputId": "aa3bca5f-1090-447f-b190-bbca570abd5d"
   },
   "outputs": [
    {
     "data": {
      "text/plain": [
       "0         2020-05-03\n",
       "1         2020-06-03\n",
       "2         2020-06-09\n",
       "3         2020-06-12\n",
       "4         2020-06-21\n",
       "             ...    \n",
       "1047635   2020-07-18\n",
       "1047636   2020-07-26\n",
       "1047637   2020-07-27\n",
       "1047638   2020-07-29\n",
       "1047639   2020-07-29\n",
       "Name: DATE_DIED, Length: 76942, dtype: datetime64[ns]"
      ]
     },
     "execution_count": 18,
     "metadata": {},
     "output_type": "execute_result"
    }
   ],
   "source": [
    "df['DATE_DIED']"
   ]
  },
  {
   "cell_type": "code",
   "execution_count": 19,
   "metadata": {
    "id": "6ea2befd",
    "outputId": "dc052132-dd8b-4fa8-8a04-ae35a402b469"
   },
   "outputs": [
    {
     "data": {
      "text/plain": [
       "0"
      ]
     },
     "execution_count": 19,
     "metadata": {},
     "output_type": "execute_result"
    }
   ],
   "source": [
    "df['DATE_DIED'].isnull().sum()"
   ]
  },
  {
   "cell_type": "markdown",
   "metadata": {
    "id": "da7e2b1a"
   },
   "source": [
    "### Let's have a general overview of our dataset:"
   ]
  },
  {
   "cell_type": "code",
   "execution_count": 20,
   "metadata": {
    "id": "e884ee57",
    "outputId": "747e935f-54d8-4de6-f318-3330398643fb"
   },
   "outputs": [
    {
     "data": {
      "text/html": [
       "<div>\n",
       "<style scoped>\n",
       "    .dataframe tbody tr th:only-of-type {\n",
       "        vertical-align: middle;\n",
       "    }\n",
       "\n",
       "    .dataframe tbody tr th {\n",
       "        vertical-align: top;\n",
       "    }\n",
       "\n",
       "    .dataframe thead th {\n",
       "        text-align: right;\n",
       "    }\n",
       "</style>\n",
       "<table border=\"1\" class=\"dataframe\">\n",
       "  <thead>\n",
       "    <tr style=\"text-align: right;\">\n",
       "      <th></th>\n",
       "      <th>mean</th>\n",
       "      <th>min</th>\n",
       "      <th>25%</th>\n",
       "      <th>50%</th>\n",
       "      <th>75%</th>\n",
       "      <th>max</th>\n",
       "      <th>std</th>\n",
       "    </tr>\n",
       "  </thead>\n",
       "  <tbody>\n",
       "    <tr>\n",
       "      <th>USMER</th>\n",
       "      <td>1.439</td>\n",
       "      <td>1.0</td>\n",
       "      <td>1.0</td>\n",
       "      <td>1.0</td>\n",
       "      <td>2.0</td>\n",
       "      <td>2.0</td>\n",
       "      <td>0.496</td>\n",
       "    </tr>\n",
       "    <tr>\n",
       "      <th>MEDICAL_UNIT</th>\n",
       "      <td>7.009</td>\n",
       "      <td>1.0</td>\n",
       "      <td>4.0</td>\n",
       "      <td>4.0</td>\n",
       "      <td>12.0</td>\n",
       "      <td>13.0</td>\n",
       "      <td>3.669</td>\n",
       "    </tr>\n",
       "    <tr>\n",
       "      <th>SEX</th>\n",
       "      <td>1.644</td>\n",
       "      <td>1.0</td>\n",
       "      <td>1.0</td>\n",
       "      <td>2.0</td>\n",
       "      <td>2.0</td>\n",
       "      <td>2.0</td>\n",
       "      <td>0.479</td>\n",
       "    </tr>\n",
       "    <tr>\n",
       "      <th>PATIENT_TYPE</th>\n",
       "      <td>1.911</td>\n",
       "      <td>1.0</td>\n",
       "      <td>2.0</td>\n",
       "      <td>2.0</td>\n",
       "      <td>2.0</td>\n",
       "      <td>2.0</td>\n",
       "      <td>0.285</td>\n",
       "    </tr>\n",
       "    <tr>\n",
       "      <th>DATE_DIED</th>\n",
       "      <td>2020-06-09 16:17:04.480777728</td>\n",
       "      <td>2020-01-02 00:00:00</td>\n",
       "      <td>2020-05-18 00:00:00</td>\n",
       "      <td>2020-06-11 00:00:00</td>\n",
       "      <td>2020-07-04 00:00:00</td>\n",
       "      <td>2021-05-02 00:00:00</td>\n",
       "      <td>NaN</td>\n",
       "    </tr>\n",
       "    <tr>\n",
       "      <th>INTUBED</th>\n",
       "      <td>12.774</td>\n",
       "      <td>1.0</td>\n",
       "      <td>1.0</td>\n",
       "      <td>2.0</td>\n",
       "      <td>2.0</td>\n",
       "      <td>99.0</td>\n",
       "      <td>30.751</td>\n",
       "    </tr>\n",
       "    <tr>\n",
       "      <th>PNEUMONIA</th>\n",
       "      <td>2.225</td>\n",
       "      <td>1.0</td>\n",
       "      <td>1.0</td>\n",
       "      <td>1.0</td>\n",
       "      <td>2.0</td>\n",
       "      <td>99.0</td>\n",
       "      <td>9.508</td>\n",
       "    </tr>\n",
       "    <tr>\n",
       "      <th>AGE</th>\n",
       "      <td>61.069</td>\n",
       "      <td>0.0</td>\n",
       "      <td>52.0</td>\n",
       "      <td>62.0</td>\n",
       "      <td>72.0</td>\n",
       "      <td>119.0</td>\n",
       "      <td>15.366</td>\n",
       "    </tr>\n",
       "    <tr>\n",
       "      <th>PREGNANT</th>\n",
       "      <td>63.249</td>\n",
       "      <td>1.0</td>\n",
       "      <td>2.0</td>\n",
       "      <td>97.0</td>\n",
       "      <td>97.0</td>\n",
       "      <td>98.0</td>\n",
       "      <td>45.469</td>\n",
       "    </tr>\n",
       "    <tr>\n",
       "      <th>DIABETES</th>\n",
       "      <td>2.545</td>\n",
       "      <td>1.0</td>\n",
       "      <td>1.0</td>\n",
       "      <td>2.0</td>\n",
       "      <td>2.0</td>\n",
       "      <td>98.0</td>\n",
       "      <td>9.361</td>\n",
       "    </tr>\n",
       "    <tr>\n",
       "      <th>COPD</th>\n",
       "      <td>2.835</td>\n",
       "      <td>1.0</td>\n",
       "      <td>2.0</td>\n",
       "      <td>2.0</td>\n",
       "      <td>2.0</td>\n",
       "      <td>98.0</td>\n",
       "      <td>9.193</td>\n",
       "    </tr>\n",
       "    <tr>\n",
       "      <th>ASTHMA</th>\n",
       "      <td>2.859</td>\n",
       "      <td>1.0</td>\n",
       "      <td>2.0</td>\n",
       "      <td>2.0</td>\n",
       "      <td>2.0</td>\n",
       "      <td>98.0</td>\n",
       "      <td>9.144</td>\n",
       "    </tr>\n",
       "    <tr>\n",
       "      <th>INMSUPR</th>\n",
       "      <td>2.908</td>\n",
       "      <td>1.0</td>\n",
       "      <td>2.0</td>\n",
       "      <td>2.0</td>\n",
       "      <td>2.0</td>\n",
       "      <td>98.0</td>\n",
       "      <td>9.468</td>\n",
       "    </tr>\n",
       "    <tr>\n",
       "      <th>HIPERTENSION</th>\n",
       "      <td>2.444</td>\n",
       "      <td>1.0</td>\n",
       "      <td>1.0</td>\n",
       "      <td>2.0</td>\n",
       "      <td>2.0</td>\n",
       "      <td>98.0</td>\n",
       "      <td>9.103</td>\n",
       "    </tr>\n",
       "    <tr>\n",
       "      <th>OTHER_DISEASE</th>\n",
       "      <td>3.231</td>\n",
       "      <td>1.0</td>\n",
       "      <td>2.0</td>\n",
       "      <td>2.0</td>\n",
       "      <td>2.0</td>\n",
       "      <td>98.0</td>\n",
       "      <td>11.063</td>\n",
       "    </tr>\n",
       "    <tr>\n",
       "      <th>CARDIOVASCULAR</th>\n",
       "      <td>2.857</td>\n",
       "      <td>1.0</td>\n",
       "      <td>2.0</td>\n",
       "      <td>2.0</td>\n",
       "      <td>2.0</td>\n",
       "      <td>98.0</td>\n",
       "      <td>9.334</td>\n",
       "    </tr>\n",
       "    <tr>\n",
       "      <th>OBESITY</th>\n",
       "      <td>2.667</td>\n",
       "      <td>1.0</td>\n",
       "      <td>2.0</td>\n",
       "      <td>2.0</td>\n",
       "      <td>2.0</td>\n",
       "      <td>98.0</td>\n",
       "      <td>9.242</td>\n",
       "    </tr>\n",
       "    <tr>\n",
       "      <th>RENAL_CHRONIC</th>\n",
       "      <td>2.803</td>\n",
       "      <td>1.0</td>\n",
       "      <td>2.0</td>\n",
       "      <td>2.0</td>\n",
       "      <td>2.0</td>\n",
       "      <td>98.0</td>\n",
       "      <td>9.145</td>\n",
       "    </tr>\n",
       "    <tr>\n",
       "      <th>TOBACCO</th>\n",
       "      <td>2.819</td>\n",
       "      <td>1.0</td>\n",
       "      <td>2.0</td>\n",
       "      <td>2.0</td>\n",
       "      <td>2.0</td>\n",
       "      <td>98.0</td>\n",
       "      <td>9.287</td>\n",
       "    </tr>\n",
       "    <tr>\n",
       "      <th>CLASIFFICATION_FINAL</th>\n",
       "      <td>3.995</td>\n",
       "      <td>1.0</td>\n",
       "      <td>3.0</td>\n",
       "      <td>3.0</td>\n",
       "      <td>6.0</td>\n",
       "      <td>7.0</td>\n",
       "      <td>1.701</td>\n",
       "    </tr>\n",
       "    <tr>\n",
       "      <th>ICU</th>\n",
       "      <td>13.026</td>\n",
       "      <td>1.0</td>\n",
       "      <td>2.0</td>\n",
       "      <td>2.0</td>\n",
       "      <td>2.0</td>\n",
       "      <td>99.0</td>\n",
       "      <td>30.682</td>\n",
       "    </tr>\n",
       "    <tr>\n",
       "      <th>DEAD</th>\n",
       "      <td>1.0</td>\n",
       "      <td>1.0</td>\n",
       "      <td>1.0</td>\n",
       "      <td>1.0</td>\n",
       "      <td>1.0</td>\n",
       "      <td>1.0</td>\n",
       "      <td>0.0</td>\n",
       "    </tr>\n",
       "  </tbody>\n",
       "</table>\n",
       "</div>"
      ],
      "text/plain": [
       "                                               mean                  min  \\\n",
       "USMER                                         1.439                  1.0   \n",
       "MEDICAL_UNIT                                  7.009                  1.0   \n",
       "SEX                                           1.644                  1.0   \n",
       "PATIENT_TYPE                                  1.911                  1.0   \n",
       "DATE_DIED             2020-06-09 16:17:04.480777728  2020-01-02 00:00:00   \n",
       "INTUBED                                      12.774                  1.0   \n",
       "PNEUMONIA                                     2.225                  1.0   \n",
       "AGE                                          61.069                  0.0   \n",
       "PREGNANT                                     63.249                  1.0   \n",
       "DIABETES                                      2.545                  1.0   \n",
       "COPD                                          2.835                  1.0   \n",
       "ASTHMA                                        2.859                  1.0   \n",
       "INMSUPR                                       2.908                  1.0   \n",
       "HIPERTENSION                                  2.444                  1.0   \n",
       "OTHER_DISEASE                                 3.231                  1.0   \n",
       "CARDIOVASCULAR                                2.857                  1.0   \n",
       "OBESITY                                       2.667                  1.0   \n",
       "RENAL_CHRONIC                                 2.803                  1.0   \n",
       "TOBACCO                                       2.819                  1.0   \n",
       "CLASIFFICATION_FINAL                          3.995                  1.0   \n",
       "ICU                                          13.026                  1.0   \n",
       "DEAD                                            1.0                  1.0   \n",
       "\n",
       "                                      25%                  50%  \\\n",
       "USMER                                 1.0                  1.0   \n",
       "MEDICAL_UNIT                          4.0                  4.0   \n",
       "SEX                                   1.0                  2.0   \n",
       "PATIENT_TYPE                          2.0                  2.0   \n",
       "DATE_DIED             2020-05-18 00:00:00  2020-06-11 00:00:00   \n",
       "INTUBED                               1.0                  2.0   \n",
       "PNEUMONIA                             1.0                  1.0   \n",
       "AGE                                  52.0                 62.0   \n",
       "PREGNANT                              2.0                 97.0   \n",
       "DIABETES                              1.0                  2.0   \n",
       "COPD                                  2.0                  2.0   \n",
       "ASTHMA                                2.0                  2.0   \n",
       "INMSUPR                               2.0                  2.0   \n",
       "HIPERTENSION                          1.0                  2.0   \n",
       "OTHER_DISEASE                         2.0                  2.0   \n",
       "CARDIOVASCULAR                        2.0                  2.0   \n",
       "OBESITY                               2.0                  2.0   \n",
       "RENAL_CHRONIC                         2.0                  2.0   \n",
       "TOBACCO                               2.0                  2.0   \n",
       "CLASIFFICATION_FINAL                  3.0                  3.0   \n",
       "ICU                                   2.0                  2.0   \n",
       "DEAD                                  1.0                  1.0   \n",
       "\n",
       "                                      75%                  max     std  \n",
       "USMER                                 2.0                  2.0   0.496  \n",
       "MEDICAL_UNIT                         12.0                 13.0   3.669  \n",
       "SEX                                   2.0                  2.0   0.479  \n",
       "PATIENT_TYPE                          2.0                  2.0   0.285  \n",
       "DATE_DIED             2020-07-04 00:00:00  2021-05-02 00:00:00     NaN  \n",
       "INTUBED                               2.0                 99.0  30.751  \n",
       "PNEUMONIA                             2.0                 99.0   9.508  \n",
       "AGE                                  72.0                119.0  15.366  \n",
       "PREGNANT                             97.0                 98.0  45.469  \n",
       "DIABETES                              2.0                 98.0   9.361  \n",
       "COPD                                  2.0                 98.0   9.193  \n",
       "ASTHMA                                2.0                 98.0   9.144  \n",
       "INMSUPR                               2.0                 98.0   9.468  \n",
       "HIPERTENSION                          2.0                 98.0   9.103  \n",
       "OTHER_DISEASE                         2.0                 98.0  11.063  \n",
       "CARDIOVASCULAR                        2.0                 98.0   9.334  \n",
       "OBESITY                               2.0                 98.0   9.242  \n",
       "RENAL_CHRONIC                         2.0                 98.0   9.145  \n",
       "TOBACCO                               2.0                 98.0   9.287  \n",
       "CLASIFFICATION_FINAL                  6.0                  7.0   1.701  \n",
       "ICU                                   2.0                 99.0  30.682  \n",
       "DEAD                                  1.0                  1.0     0.0  "
      ]
     },
     "execution_count": 20,
     "metadata": {},
     "output_type": "execute_result"
    }
   ],
   "source": [
    "df.describe().round(3).T.drop('count', axis = 1)"
   ]
  },
  {
   "cell_type": "markdown",
   "metadata": {
    "id": "80b3ba8f"
   },
   "source": [
    "### First, let's deal with our missing data (values of 97, 98 and 99):"
   ]
  },
  {
   "cell_type": "markdown",
   "metadata": {
    "id": "e57d998e"
   },
   "source": [
    "### We can notice that we have major missing values at the following features:\n",
    "#### 1- \"ICU\"\n",
    "#### 2- \"INTUBED\"\n",
    "#### 3- \"PREGNANT\"\n",
    "\n",
    "#### We ignored those of the \"DATE_DIED\" feature; as those values aren't actually missing ;D"
   ]
  },
  {
   "cell_type": "code",
   "execution_count": 21,
   "metadata": {
    "id": "56b7e49b",
    "outputId": "05ff9d23-ff4b-4cd1-eeb3-32099167f9d0"
   },
   "outputs": [
    {
     "data": {
      "text/plain": [
       "1"
      ]
     },
     "execution_count": 21,
     "metadata": {},
     "output_type": "execute_result"
    }
   ],
   "source": [
    "df['AGE'][df['AGE'] > 110].value_counts().sum()"
   ]
  },
  {
   "cell_type": "markdown",
   "metadata": {
    "id": "f07c498e"
   },
   "source": [
    "### Obviously these values are 90% most likely to be missing data, but we are going to ignore that (as they are very very few) and assume that these people are \"Centenarians\" with ages greater than 110."
   ]
  },
  {
   "cell_type": "code",
   "execution_count": 22,
   "metadata": {
    "id": "e5d24c00",
    "outputId": "4ea34174-0245-4447-d385-1b1b5e13a776"
   },
   "outputs": [
    {
     "data": {
      "text/plain": [
       "SEX\n",
       "2    49540\n",
       "1    27402\n",
       "Name: count, dtype: int64"
      ]
     },
     "execution_count": 22,
     "metadata": {},
     "output_type": "execute_result"
    }
   ],
   "source": [
    "df.SEX.value_counts()"
   ]
  },
  {
   "cell_type": "code",
   "execution_count": 23,
   "metadata": {
    "id": "07a1f3ea",
    "outputId": "63b46f46-8c64-4459-ae38-bc9dd8ca03b5",
    "scrolled": true
   },
   "outputs": [
    {
     "data": {
      "text/plain": [
       "(76942,)"
      ]
     },
     "execution_count": 23,
     "metadata": {},
     "output_type": "execute_result"
    }
   ],
   "source": [
    "df.SEX.shape"
   ]
  },
  {
   "cell_type": "code",
   "execution_count": 24,
   "metadata": {
    "id": "6a636997",
    "outputId": "2c4bf632-7431-48bc-885a-e95a55729a4e"
   },
   "outputs": [
    {
     "data": {
      "text/plain": [
       "(27402, 22)"
      ]
     },
     "execution_count": 24,
     "metadata": {},
     "output_type": "execute_result"
    }
   ],
   "source": [
    "df[(df['SEX'] == 1)].shape"
   ]
  },
  {
   "cell_type": "code",
   "execution_count": 25,
   "metadata": {
    "id": "473c8ad9",
    "outputId": "44326e90-58a4-4039-82a6-b7f69ea97c3b"
   },
   "outputs": [
    {
     "data": {
      "text/plain": [
       "(49540, 22)"
      ]
     },
     "execution_count": 25,
     "metadata": {},
     "output_type": "execute_result"
    }
   ],
   "source": [
    "df[(df['SEX'] == 2)].shape"
   ]
  },
  {
   "cell_type": "code",
   "execution_count": 26,
   "metadata": {
    "id": "f10f1d8b",
    "outputId": "175311fb-3953-4668-ae6e-a32528bdc286",
    "scrolled": true
   },
   "outputs": [
    {
     "data": {
      "text/plain": [
       "0          2\n",
       "3          2\n",
       "151        2\n",
       "153        2\n",
       "320        2\n",
       "          ..\n",
       "1047628    2\n",
       "1047629    2\n",
       "1047632    2\n",
       "1047634    2\n",
       "1047637    2\n",
       "Name: PREGNANT, Length: 27402, dtype: int64"
      ]
     },
     "execution_count": 26,
     "metadata": {},
     "output_type": "execute_result"
    }
   ],
   "source": [
    "df[(df['SEX'] == 1)]['PREGNANT'] # Females corresponding values in 'PREGNANT' feature"
   ]
  },
  {
   "cell_type": "code",
   "execution_count": 27,
   "metadata": {
    "id": "d1268a1e",
    "outputId": "28ea83fd-9608-4bbf-93ac-cffc829656bb"
   },
   "outputs": [
    {
     "data": {
      "text/plain": [
       "PREGNANT\n",
       "2     27246\n",
       "1        89\n",
       "98       67\n",
       "Name: count, dtype: int64"
      ]
     },
     "execution_count": 27,
     "metadata": {},
     "output_type": "execute_result"
    }
   ],
   "source": [
    "df[(df['SEX'] == 1)]['PREGNANT'].value_counts()"
   ]
  },
  {
   "cell_type": "code",
   "execution_count": 28,
   "metadata": {
    "id": "b68d7cec",
    "outputId": "9a2fe572-69d2-4455-fef2-fbec72185e93"
   },
   "outputs": [
    {
     "data": {
      "text/plain": [
       "525064"
      ]
     },
     "execution_count": 28,
     "metadata": {},
     "output_type": "execute_result"
    }
   ],
   "source": [
    "513179+8131+3754"
   ]
  },
  {
   "cell_type": "markdown",
   "metadata": {
    "id": "0d1175be"
   },
   "source": [
    "### Which equals to the no. of all females."
   ]
  },
  {
   "cell_type": "code",
   "execution_count": 29,
   "metadata": {
    "id": "98d1efa9",
    "outputId": "1b41b455-5d43-46d3-d790-b5dcde882896",
    "scrolled": true
   },
   "outputs": [
    {
     "data": {
      "text/plain": [
       "1          97\n",
       "2          97\n",
       "4          97\n",
       "152        97\n",
       "154        97\n",
       "           ..\n",
       "1047633    97\n",
       "1047635    97\n",
       "1047636    97\n",
       "1047638    97\n",
       "1047639    97\n",
       "Name: PREGNANT, Length: 49540, dtype: int64"
      ]
     },
     "execution_count": 29,
     "metadata": {},
     "output_type": "execute_result"
    }
   ],
   "source": [
    "df[(df['SEX'] == 2)]['PREGNANT'] # Males corresponding values in 'PREGNANT' feature"
   ]
  },
  {
   "cell_type": "code",
   "execution_count": 30,
   "metadata": {
    "id": "8da13bfb",
    "outputId": "f3d48ade-af91-4269-d32b-21dca690dfd3"
   },
   "outputs": [
    {
     "data": {
      "text/plain": [
       "PREGNANT\n",
       "97    49540\n",
       "Name: count, dtype: int64"
      ]
     },
     "execution_count": 30,
     "metadata": {},
     "output_type": "execute_result"
    }
   ],
   "source": [
    "df[(df['SEX'] == 2) & (df['PREGNANT'])]['PREGNANT'].value_counts()"
   ]
  },
  {
   "cell_type": "code",
   "execution_count": 31,
   "metadata": {
    "id": "84a104fc",
    "outputId": "52d9a9ef-cc90-463d-cd5f-14f9c2ebf883"
   },
   "outputs": [
    {
     "data": {
      "text/plain": [
       "PREGNANT\n",
       "97    49540\n",
       "2     27246\n",
       "1        89\n",
       "98       67\n",
       "Name: count, dtype: int64"
      ]
     },
     "execution_count": 31,
     "metadata": {},
     "output_type": "execute_result"
    }
   ],
   "source": [
    "df['PREGNANT'].value_counts()"
   ]
  },
  {
   "cell_type": "markdown",
   "metadata": {
    "id": "8fdf7675"
   },
   "source": [
    "### As suspected, we noticed that all values of 98 are of the missing values corresponding to the **female** values, while all those of 97 are of the ones corresponding to the **male** values."
   ]
  },
  {
   "cell_type": "markdown",
   "metadata": {
    "id": "0b33da11"
   },
   "source": [
    "### So obviously we can replace all the corresponding values to the male section (97) with (2); since obviously men can't be pregnant ;D."
   ]
  },
  {
   "cell_type": "code",
   "execution_count": 32,
   "metadata": {
    "id": "7ba0320b"
   },
   "outputs": [],
   "source": [
    "df['PREGNANT'].replace (97, 2, inplace = True)"
   ]
  },
  {
   "cell_type": "code",
   "execution_count": 33,
   "metadata": {
    "id": "1805d10c",
    "outputId": "41880e0f-b42e-4e4d-b918-9c756ca31e71"
   },
   "outputs": [
    {
     "data": {
      "text/plain": [
       "PREGNANT\n",
       "2     76786\n",
       "1        89\n",
       "98       67\n",
       "Name: count, dtype: int64"
      ]
     },
     "execution_count": 33,
     "metadata": {},
     "output_type": "execute_result"
    }
   ],
   "source": [
    "df['PREGNANT'].value_counts()"
   ]
  },
  {
   "cell_type": "markdown",
   "metadata": {
    "id": "94f8ed92"
   },
   "source": [
    "### Unfortunatley we can't fill or replace the missing values of (98); because we can't tell which of these women were pregnant and which were not, and we can't also predict these values or fill them by random as it will affect our analysis which we are trying to build here based on only true and real life data, but luckily for us those values are very few with a very low impact so we can simply ignore them for now."
   ]
  },
  {
   "cell_type": "code",
   "execution_count": 34,
   "metadata": {
    "id": "f388aaf1",
    "outputId": "cd8576e6-699f-4cbc-f60f-adb04695f607"
   },
   "outputs": [
    {
     "data": {
      "text/plain": [
       "ICU\n",
       "2     59775\n",
       "1      8195\n",
       "97     6876\n",
       "99     2096\n",
       "Name: count, dtype: int64"
      ]
     },
     "execution_count": 34,
     "metadata": {},
     "output_type": "execute_result"
    }
   ],
   "source": [
    "df.ICU.value_counts()"
   ]
  },
  {
   "cell_type": "code",
   "execution_count": 35,
   "metadata": {
    "id": "8b62257b",
    "outputId": "c49346a6-516a-4c89-e258-7107c0b97638"
   },
   "outputs": [
    {
     "name": "stdout",
     "output_type": "stream",
     "text": [
      "At PATIENT_TYPE = 1 and at ICU = 1 the shape will be: \n",
      "\n",
      "(0, 22) \n",
      " -------------------------------------------------------------------------------- \n",
      "\n",
      "\n",
      "At PATIENT_TYPE = 2 and at ICU = 1 the shape will be: \n",
      "\n",
      "(8195, 22) \n",
      " -------------------------------------------------------------------------------- \n",
      "\n",
      "\n",
      "At PATIENT_TYPE = 1 and at ICU = 2 the shape will be: \n",
      "\n",
      "(0, 22) \n",
      " -------------------------------------------------------------------------------- \n",
      "\n",
      "\n",
      "At PATIENT_TYPE = 2 and at ICU = 2 the shape will be: \n",
      "\n",
      "(59775, 22) \n",
      " -------------------------------------------------------------------------------- \n",
      "\n",
      "\n",
      "At PATIENT_TYPE = 1 and at ICU = 97 the shape will be: \n",
      "\n",
      "(6876, 22) \n",
      " -------------------------------------------------------------------------------- \n",
      "\n",
      "\n",
      "At PATIENT_TYPE = 2 and at ICU = 97 the shape will be: \n",
      "\n",
      "(0, 22) \n",
      " -------------------------------------------------------------------------------- \n",
      "\n",
      "\n",
      "At PATIENT_TYPE = 1 and at ICU = 99 the shape will be: \n",
      "\n",
      "(0, 22) \n",
      " -------------------------------------------------------------------------------- \n",
      "\n",
      "\n",
      "At PATIENT_TYPE = 2 and at ICU = 99 the shape will be: \n",
      "\n",
      "(2096, 22) \n",
      " -------------------------------------------------------------------------------- \n",
      "\n",
      "\n"
     ]
    }
   ],
   "source": [
    "for i in [1, 2, 97, 99]:\n",
    "    for j in [1, 2]:\n",
    "        print (f\"At PATIENT_TYPE = {j} and at ICU = {i} the shape will be:\", \"\\n\")\n",
    "        print (df[(df['PATIENT_TYPE'] == j) & (df['ICU'] == i)].shape, \"\\n\",\n",
    "               \"--------------------------------------------------------------------------------\", \"\\n\\n\")"
   ]
  },
  {
   "cell_type": "markdown",
   "metadata": {
    "id": "10c8bb5a"
   },
   "source": [
    "### From the above we can see that the missing values of (97) are all corresponding to the values of PATIENT_TYPE = 1 which is for non hospitalized patients, while those of (99) are the missing values of the hospitalized patients, which again can not be telled or predicted.\n",
    "\n",
    "<br>\n",
    "\n",
    "### So we can replace all the values of (97) with (2); since obviously patients who have never been hospitalized couldn't possibly be admitted to the ICU."
   ]
  },
  {
   "cell_type": "code",
   "execution_count": 36,
   "metadata": {
    "id": "2ad9b8fd"
   },
   "outputs": [],
   "source": [
    "df['ICU'].replace (97, 2, inplace = True)"
   ]
  },
  {
   "cell_type": "code",
   "execution_count": 37,
   "metadata": {
    "id": "f4ba2c7b",
    "outputId": "0844afae-b997-4a5e-8af1-4451809d0ed7"
   },
   "outputs": [
    {
     "data": {
      "text/plain": [
       "ICU\n",
       "2     66651\n",
       "1      8195\n",
       "99     2096\n",
       "Name: count, dtype: int64"
      ]
     },
     "execution_count": 37,
     "metadata": {},
     "output_type": "execute_result"
    }
   ],
   "source": [
    "df.ICU.value_counts()"
   ]
  },
  {
   "cell_type": "code",
   "execution_count": 38,
   "metadata": {
    "id": "8bcdb860",
    "outputId": "6df50b98-8a3c-41e5-f2ad-a12f7c0d01cb"
   },
   "outputs": [
    {
     "data": {
      "text/plain": [
       "INTUBED\n",
       "2     41601\n",
       "1     26381\n",
       "97     6876\n",
       "99     2084\n",
       "Name: count, dtype: int64"
      ]
     },
     "execution_count": 38,
     "metadata": {},
     "output_type": "execute_result"
    }
   ],
   "source": [
    "df.INTUBED.value_counts()"
   ]
  },
  {
   "cell_type": "code",
   "execution_count": 39,
   "metadata": {
    "id": "c83576a1",
    "outputId": "4b1eefdf-71cc-4517-c582-702fcc9d7b3a"
   },
   "outputs": [
    {
     "name": "stdout",
     "output_type": "stream",
     "text": [
      "At PATIENT_TYPE = 1 and at INTUBED = 1 the shape will be: \n",
      "\n",
      "(0, 22) \n",
      " -------------------------------------------------------------------------------- \n",
      "\n",
      "\n",
      "At PATIENT_TYPE = 2 and at INTUBED = 1 the shape will be: \n",
      "\n",
      "(26381, 22) \n",
      " -------------------------------------------------------------------------------- \n",
      "\n",
      "\n",
      "At PATIENT_TYPE = 1 and at INTUBED = 2 the shape will be: \n",
      "\n",
      "(0, 22) \n",
      " -------------------------------------------------------------------------------- \n",
      "\n",
      "\n",
      "At PATIENT_TYPE = 2 and at INTUBED = 2 the shape will be: \n",
      "\n",
      "(41601, 22) \n",
      " -------------------------------------------------------------------------------- \n",
      "\n",
      "\n",
      "At PATIENT_TYPE = 1 and at INTUBED = 97 the shape will be: \n",
      "\n",
      "(6876, 22) \n",
      " -------------------------------------------------------------------------------- \n",
      "\n",
      "\n",
      "At PATIENT_TYPE = 2 and at INTUBED = 97 the shape will be: \n",
      "\n",
      "(0, 22) \n",
      " -------------------------------------------------------------------------------- \n",
      "\n",
      "\n",
      "At PATIENT_TYPE = 1 and at INTUBED = 99 the shape will be: \n",
      "\n",
      "(0, 22) \n",
      " -------------------------------------------------------------------------------- \n",
      "\n",
      "\n",
      "At PATIENT_TYPE = 2 and at INTUBED = 99 the shape will be: \n",
      "\n",
      "(2084, 22) \n",
      " -------------------------------------------------------------------------------- \n",
      "\n",
      "\n"
     ]
    }
   ],
   "source": [
    "for i in [1, 2, 97, 99]:\n",
    "    for j in [1, 2]:\n",
    "        print (f\"At PATIENT_TYPE = {j} and at INTUBED = {i} the shape will be:\", \"\\n\")\n",
    "        print (df[(df['PATIENT_TYPE'] == j) & (df['INTUBED'] == i)].shape, \"\\n\",\n",
    "               \"--------------------------------------------------------------------------------\", \"\\n\\n\")"
   ]
  },
  {
   "cell_type": "markdown",
   "metadata": {
    "id": "a89346fa"
   },
   "source": [
    "### Again and as predicted it's the same as the ICU case.\n",
    "\n",
    "\n",
    "### So we can replace all the values of (97) with (2); since obviously patients who have never been hospitalized couldn't possibly be connected to the ventilator."
   ]
  },
  {
   "cell_type": "code",
   "execution_count": 40,
   "metadata": {
    "id": "d154f8bc"
   },
   "outputs": [],
   "source": [
    "df['INTUBED'].replace (97, 2, inplace = True)"
   ]
  },
  {
   "cell_type": "code",
   "execution_count": 41,
   "metadata": {
    "id": "32f81c18",
    "outputId": "6fb3f8e9-16e9-42ea-dcae-c56f36e8014a"
   },
   "outputs": [
    {
     "data": {
      "text/plain": [
       "INTUBED\n",
       "2     48477\n",
       "1     26381\n",
       "99     2084\n",
       "Name: count, dtype: int64"
      ]
     },
     "execution_count": 41,
     "metadata": {},
     "output_type": "execute_result"
    }
   ],
   "source": [
    "df.INTUBED.value_counts()"
   ]
  },
  {
   "cell_type": "markdown",
   "metadata": {
    "id": "ba6ee63d"
   },
   "source": [
    "### So, all the rest of these missing values (values of 98 & 99) can't be predicted (at least for now) as they will affect our analysis, which is based on true and actual real life values.\n",
    "\n",
    "### In other words, we can't fill them by random using any filling  (imputation) technique."
   ]
  },
  {
   "cell_type": "code",
   "execution_count": 42,
   "metadata": {
    "id": "809e494c"
   },
   "outputs": [],
   "source": [
    "for i in [98, 99]:\n",
    "   df.replace(i , np.nan, inplace = True)"
   ]
  },
  {
   "cell_type": "code",
   "execution_count": 43,
   "metadata": {
    "id": "64eac429",
    "outputId": "36dcb453-5880-4bbe-be17-342d9b8774bc"
   },
   "outputs": [
    {
     "data": {
      "text/html": [
       "<div>\n",
       "<style scoped>\n",
       "    .dataframe tbody tr th:only-of-type {\n",
       "        vertical-align: middle;\n",
       "    }\n",
       "\n",
       "    .dataframe tbody tr th {\n",
       "        vertical-align: top;\n",
       "    }\n",
       "\n",
       "    .dataframe thead th {\n",
       "        text-align: right;\n",
       "    }\n",
       "</style>\n",
       "<table border=\"1\" class=\"dataframe\">\n",
       "  <thead>\n",
       "    <tr style=\"text-align: right;\">\n",
       "      <th></th>\n",
       "      <th>USMER</th>\n",
       "      <th>MEDICAL_UNIT</th>\n",
       "      <th>SEX</th>\n",
       "      <th>PATIENT_TYPE</th>\n",
       "      <th>DATE_DIED</th>\n",
       "      <th>INTUBED</th>\n",
       "      <th>PNEUMONIA</th>\n",
       "      <th>AGE</th>\n",
       "      <th>PREGNANT</th>\n",
       "      <th>DIABETES</th>\n",
       "      <th>...</th>\n",
       "      <th>INMSUPR</th>\n",
       "      <th>HIPERTENSION</th>\n",
       "      <th>OTHER_DISEASE</th>\n",
       "      <th>CARDIOVASCULAR</th>\n",
       "      <th>OBESITY</th>\n",
       "      <th>RENAL_CHRONIC</th>\n",
       "      <th>TOBACCO</th>\n",
       "      <th>CLASIFFICATION_FINAL</th>\n",
       "      <th>ICU</th>\n",
       "      <th>DEAD</th>\n",
       "    </tr>\n",
       "  </thead>\n",
       "  <tbody>\n",
       "    <tr>\n",
       "      <th>0</th>\n",
       "      <td>2</td>\n",
       "      <td>1</td>\n",
       "      <td>1</td>\n",
       "      <td>1</td>\n",
       "      <td>2020-05-03</td>\n",
       "      <td>2.0</td>\n",
       "      <td>1.0</td>\n",
       "      <td>65.0</td>\n",
       "      <td>2.0</td>\n",
       "      <td>2.0</td>\n",
       "      <td>...</td>\n",
       "      <td>2.0</td>\n",
       "      <td>1.0</td>\n",
       "      <td>2.0</td>\n",
       "      <td>2.0</td>\n",
       "      <td>2.0</td>\n",
       "      <td>2.0</td>\n",
       "      <td>2.0</td>\n",
       "      <td>3</td>\n",
       "      <td>2.0</td>\n",
       "      <td>1</td>\n",
       "    </tr>\n",
       "    <tr>\n",
       "      <th>1</th>\n",
       "      <td>2</td>\n",
       "      <td>1</td>\n",
       "      <td>2</td>\n",
       "      <td>1</td>\n",
       "      <td>2020-06-03</td>\n",
       "      <td>2.0</td>\n",
       "      <td>1.0</td>\n",
       "      <td>72.0</td>\n",
       "      <td>2.0</td>\n",
       "      <td>2.0</td>\n",
       "      <td>...</td>\n",
       "      <td>2.0</td>\n",
       "      <td>1.0</td>\n",
       "      <td>2.0</td>\n",
       "      <td>2.0</td>\n",
       "      <td>1.0</td>\n",
       "      <td>1.0</td>\n",
       "      <td>2.0</td>\n",
       "      <td>5</td>\n",
       "      <td>2.0</td>\n",
       "      <td>1</td>\n",
       "    </tr>\n",
       "    <tr>\n",
       "      <th>2</th>\n",
       "      <td>2</td>\n",
       "      <td>1</td>\n",
       "      <td>2</td>\n",
       "      <td>2</td>\n",
       "      <td>2020-06-09</td>\n",
       "      <td>1.0</td>\n",
       "      <td>2.0</td>\n",
       "      <td>55.0</td>\n",
       "      <td>2.0</td>\n",
       "      <td>1.0</td>\n",
       "      <td>...</td>\n",
       "      <td>2.0</td>\n",
       "      <td>2.0</td>\n",
       "      <td>2.0</td>\n",
       "      <td>2.0</td>\n",
       "      <td>2.0</td>\n",
       "      <td>2.0</td>\n",
       "      <td>2.0</td>\n",
       "      <td>3</td>\n",
       "      <td>2.0</td>\n",
       "      <td>1</td>\n",
       "    </tr>\n",
       "    <tr>\n",
       "      <th>3</th>\n",
       "      <td>2</td>\n",
       "      <td>1</td>\n",
       "      <td>1</td>\n",
       "      <td>1</td>\n",
       "      <td>2020-06-12</td>\n",
       "      <td>2.0</td>\n",
       "      <td>2.0</td>\n",
       "      <td>53.0</td>\n",
       "      <td>2.0</td>\n",
       "      <td>2.0</td>\n",
       "      <td>...</td>\n",
       "      <td>2.0</td>\n",
       "      <td>2.0</td>\n",
       "      <td>2.0</td>\n",
       "      <td>2.0</td>\n",
       "      <td>2.0</td>\n",
       "      <td>2.0</td>\n",
       "      <td>2.0</td>\n",
       "      <td>7</td>\n",
       "      <td>2.0</td>\n",
       "      <td>1</td>\n",
       "    </tr>\n",
       "    <tr>\n",
       "      <th>4</th>\n",
       "      <td>2</td>\n",
       "      <td>1</td>\n",
       "      <td>2</td>\n",
       "      <td>1</td>\n",
       "      <td>2020-06-21</td>\n",
       "      <td>2.0</td>\n",
       "      <td>2.0</td>\n",
       "      <td>68.0</td>\n",
       "      <td>2.0</td>\n",
       "      <td>1.0</td>\n",
       "      <td>...</td>\n",
       "      <td>2.0</td>\n",
       "      <td>1.0</td>\n",
       "      <td>2.0</td>\n",
       "      <td>2.0</td>\n",
       "      <td>2.0</td>\n",
       "      <td>2.0</td>\n",
       "      <td>2.0</td>\n",
       "      <td>3</td>\n",
       "      <td>2.0</td>\n",
       "      <td>1</td>\n",
       "    </tr>\n",
       "    <tr>\n",
       "      <th>...</th>\n",
       "      <td>...</td>\n",
       "      <td>...</td>\n",
       "      <td>...</td>\n",
       "      <td>...</td>\n",
       "      <td>...</td>\n",
       "      <td>...</td>\n",
       "      <td>...</td>\n",
       "      <td>...</td>\n",
       "      <td>...</td>\n",
       "      <td>...</td>\n",
       "      <td>...</td>\n",
       "      <td>...</td>\n",
       "      <td>...</td>\n",
       "      <td>...</td>\n",
       "      <td>...</td>\n",
       "      <td>...</td>\n",
       "      <td>...</td>\n",
       "      <td>...</td>\n",
       "      <td>...</td>\n",
       "      <td>...</td>\n",
       "      <td>...</td>\n",
       "    </tr>\n",
       "    <tr>\n",
       "      <th>1047635</th>\n",
       "      <td>1</td>\n",
       "      <td>13</td>\n",
       "      <td>2</td>\n",
       "      <td>2</td>\n",
       "      <td>2020-07-18</td>\n",
       "      <td>1.0</td>\n",
       "      <td>1.0</td>\n",
       "      <td>73.0</td>\n",
       "      <td>2.0</td>\n",
       "      <td>2.0</td>\n",
       "      <td>...</td>\n",
       "      <td>2.0</td>\n",
       "      <td>1.0</td>\n",
       "      <td>2.0</td>\n",
       "      <td>2.0</td>\n",
       "      <td>1.0</td>\n",
       "      <td>2.0</td>\n",
       "      <td>2.0</td>\n",
       "      <td>3</td>\n",
       "      <td>2.0</td>\n",
       "      <td>1</td>\n",
       "    </tr>\n",
       "    <tr>\n",
       "      <th>1047636</th>\n",
       "      <td>1</td>\n",
       "      <td>13</td>\n",
       "      <td>2</td>\n",
       "      <td>1</td>\n",
       "      <td>2020-07-26</td>\n",
       "      <td>2.0</td>\n",
       "      <td>1.0</td>\n",
       "      <td>82.0</td>\n",
       "      <td>2.0</td>\n",
       "      <td>2.0</td>\n",
       "      <td>...</td>\n",
       "      <td>2.0</td>\n",
       "      <td>1.0</td>\n",
       "      <td>2.0</td>\n",
       "      <td>2.0</td>\n",
       "      <td>2.0</td>\n",
       "      <td>2.0</td>\n",
       "      <td>2.0</td>\n",
       "      <td>3</td>\n",
       "      <td>2.0</td>\n",
       "      <td>1</td>\n",
       "    </tr>\n",
       "    <tr>\n",
       "      <th>1047637</th>\n",
       "      <td>1</td>\n",
       "      <td>13</td>\n",
       "      <td>1</td>\n",
       "      <td>1</td>\n",
       "      <td>2020-07-27</td>\n",
       "      <td>2.0</td>\n",
       "      <td>1.0</td>\n",
       "      <td>82.0</td>\n",
       "      <td>2.0</td>\n",
       "      <td>2.0</td>\n",
       "      <td>...</td>\n",
       "      <td>2.0</td>\n",
       "      <td>2.0</td>\n",
       "      <td>2.0</td>\n",
       "      <td>2.0</td>\n",
       "      <td>2.0</td>\n",
       "      <td>2.0</td>\n",
       "      <td>2.0</td>\n",
       "      <td>3</td>\n",
       "      <td>2.0</td>\n",
       "      <td>1</td>\n",
       "    </tr>\n",
       "    <tr>\n",
       "      <th>1047638</th>\n",
       "      <td>1</td>\n",
       "      <td>13</td>\n",
       "      <td>2</td>\n",
       "      <td>2</td>\n",
       "      <td>2020-07-29</td>\n",
       "      <td>1.0</td>\n",
       "      <td>1.0</td>\n",
       "      <td>80.0</td>\n",
       "      <td>2.0</td>\n",
       "      <td>2.0</td>\n",
       "      <td>...</td>\n",
       "      <td>2.0</td>\n",
       "      <td>2.0</td>\n",
       "      <td>2.0</td>\n",
       "      <td>2.0</td>\n",
       "      <td>1.0</td>\n",
       "      <td>2.0</td>\n",
       "      <td>2.0</td>\n",
       "      <td>3</td>\n",
       "      <td>2.0</td>\n",
       "      <td>1</td>\n",
       "    </tr>\n",
       "    <tr>\n",
       "      <th>1047639</th>\n",
       "      <td>1</td>\n",
       "      <td>13</td>\n",
       "      <td>2</td>\n",
       "      <td>2</td>\n",
       "      <td>2020-07-29</td>\n",
       "      <td>2.0</td>\n",
       "      <td>1.0</td>\n",
       "      <td>61.0</td>\n",
       "      <td>2.0</td>\n",
       "      <td>1.0</td>\n",
       "      <td>...</td>\n",
       "      <td>2.0</td>\n",
       "      <td>1.0</td>\n",
       "      <td>2.0</td>\n",
       "      <td>2.0</td>\n",
       "      <td>2.0</td>\n",
       "      <td>1.0</td>\n",
       "      <td>1.0</td>\n",
       "      <td>7</td>\n",
       "      <td>2.0</td>\n",
       "      <td>1</td>\n",
       "    </tr>\n",
       "  </tbody>\n",
       "</table>\n",
       "<p>76942 rows × 22 columns</p>\n",
       "</div>"
      ],
      "text/plain": [
       "         USMER  MEDICAL_UNIT  SEX  PATIENT_TYPE  DATE_DIED  INTUBED  \\\n",
       "0            2             1    1             1 2020-05-03      2.0   \n",
       "1            2             1    2             1 2020-06-03      2.0   \n",
       "2            2             1    2             2 2020-06-09      1.0   \n",
       "3            2             1    1             1 2020-06-12      2.0   \n",
       "4            2             1    2             1 2020-06-21      2.0   \n",
       "...        ...           ...  ...           ...        ...      ...   \n",
       "1047635      1            13    2             2 2020-07-18      1.0   \n",
       "1047636      1            13    2             1 2020-07-26      2.0   \n",
       "1047637      1            13    1             1 2020-07-27      2.0   \n",
       "1047638      1            13    2             2 2020-07-29      1.0   \n",
       "1047639      1            13    2             2 2020-07-29      2.0   \n",
       "\n",
       "         PNEUMONIA   AGE  PREGNANT  DIABETES  ...  INMSUPR  HIPERTENSION  \\\n",
       "0              1.0  65.0       2.0       2.0  ...      2.0           1.0   \n",
       "1              1.0  72.0       2.0       2.0  ...      2.0           1.0   \n",
       "2              2.0  55.0       2.0       1.0  ...      2.0           2.0   \n",
       "3              2.0  53.0       2.0       2.0  ...      2.0           2.0   \n",
       "4              2.0  68.0       2.0       1.0  ...      2.0           1.0   \n",
       "...            ...   ...       ...       ...  ...      ...           ...   \n",
       "1047635        1.0  73.0       2.0       2.0  ...      2.0           1.0   \n",
       "1047636        1.0  82.0       2.0       2.0  ...      2.0           1.0   \n",
       "1047637        1.0  82.0       2.0       2.0  ...      2.0           2.0   \n",
       "1047638        1.0  80.0       2.0       2.0  ...      2.0           2.0   \n",
       "1047639        1.0  61.0       2.0       1.0  ...      2.0           1.0   \n",
       "\n",
       "         OTHER_DISEASE  CARDIOVASCULAR  OBESITY  RENAL_CHRONIC  TOBACCO  \\\n",
       "0                  2.0             2.0      2.0            2.0      2.0   \n",
       "1                  2.0             2.0      1.0            1.0      2.0   \n",
       "2                  2.0             2.0      2.0            2.0      2.0   \n",
       "3                  2.0             2.0      2.0            2.0      2.0   \n",
       "4                  2.0             2.0      2.0            2.0      2.0   \n",
       "...                ...             ...      ...            ...      ...   \n",
       "1047635            2.0             2.0      1.0            2.0      2.0   \n",
       "1047636            2.0             2.0      2.0            2.0      2.0   \n",
       "1047637            2.0             2.0      2.0            2.0      2.0   \n",
       "1047638            2.0             2.0      1.0            2.0      2.0   \n",
       "1047639            2.0             2.0      2.0            1.0      1.0   \n",
       "\n",
       "         CLASIFFICATION_FINAL  ICU  DEAD  \n",
       "0                           3  2.0     1  \n",
       "1                           5  2.0     1  \n",
       "2                           3  2.0     1  \n",
       "3                           7  2.0     1  \n",
       "4                           3  2.0     1  \n",
       "...                       ...  ...   ...  \n",
       "1047635                     3  2.0     1  \n",
       "1047636                     3  2.0     1  \n",
       "1047637                     3  2.0     1  \n",
       "1047638                     3  2.0     1  \n",
       "1047639                     7  2.0     1  \n",
       "\n",
       "[76942 rows x 22 columns]"
      ]
     },
     "execution_count": 43,
     "metadata": {},
     "output_type": "execute_result"
    }
   ],
   "source": [
    "df"
   ]
  },
  {
   "cell_type": "markdown",
   "metadata": {
    "id": "be5f2748"
   },
   "source": [
    "### Let's check now our progress regarding handling those outliers:"
   ]
  },
  {
   "cell_type": "code",
   "execution_count": 44,
   "metadata": {
    "id": "479742d8"
   },
   "outputs": [],
   "source": [
    "# First, let's temporarily reverse the step we did on \"DATE_DIED\" feature; as they are not really missing:\n",
    "df_null2 = df.copy()\n",
    "df_null2.DATE_DIED = df_null2.DATE_DIED.fillna(\"9999-99-99\")"
   ]
  },
  {
   "cell_type": "code",
   "execution_count": 45,
   "metadata": {
    "id": "02196aec",
    "outputId": "8497da4d-4d30-4a3d-bbf7-40100b518e4e"
   },
   "outputs": [
    {
     "data": {
      "text/plain": [
       "USMER                      0\n",
       "MEDICAL_UNIT               0\n",
       "SEX                        0\n",
       "PATIENT_TYPE               0\n",
       "DATE_DIED                  0\n",
       "INTUBED                 2084\n",
       "PNEUMONIA                734\n",
       "AGE                       57\n",
       "PREGNANT                  67\n",
       "DIABETES                 731\n",
       "COPD                     711\n",
       "ASTHMA                   704\n",
       "INMSUPR                  755\n",
       "HIPERTENSION             690\n",
       "OTHER_DISEASE           1034\n",
       "CARDIOVASCULAR           733\n",
       "OBESITY                  715\n",
       "RENAL_CHRONIC            703\n",
       "TOBACCO                  725\n",
       "CLASIFFICATION_FINAL       0\n",
       "ICU                     2096\n",
       "DEAD                       0\n",
       "dtype: int64"
      ]
     },
     "execution_count": 45,
     "metadata": {},
     "output_type": "execute_result"
    }
   ],
   "source": [
    "#Let's check again for our missing values:\n",
    "df_null2.isnull().sum()"
   ]
  },
  {
   "cell_type": "code",
   "execution_count": 46,
   "metadata": {
    "id": "7986e7e5",
    "outputId": "27759fe3-1577-458b-a333-a24987fd7be1"
   },
   "outputs": [
    {
     "data": {
      "image/png": "[encoded data removed]",
      "text/plain": [
       "<Figure size 640x480 with 2 Axes>"
      ]
     },
     "metadata": {},
     "output_type": "display_data"
    }
   ],
   "source": [
    "sns.heatmap(df_null2.isnull())\n",
    "plt.title('After Handling the Missing Values', color = 'black', fontsize = 15)\n",
    "plt.show()"
   ]
  },
  {
   "cell_type": "markdown",
   "metadata": {
    "id": "c054835b"
   },
   "source": [
    "### Ok, now we can freely drop the rest, but for analysis purposes we will delay this step to the time at which we are done with our analysis."
   ]
  },
  {
   "cell_type": "markdown",
   "metadata": {
    "id": "016676bd"
   },
   "source": [
    "### Now let's check our data again:"
   ]
  },
  {
   "cell_type": "code",
   "execution_count": 47,
   "metadata": {
    "id": "f22f6a38",
    "outputId": "48521c0d-14b2-4a5f-adbd-5a98d68ee1e9"
   },
   "outputs": [
    {
     "data": {
      "text/html": [
       "<div>\n",
       "<style scoped>\n",
       "    .dataframe tbody tr th:only-of-type {\n",
       "        vertical-align: middle;\n",
       "    }\n",
       "\n",
       "    .dataframe tbody tr th {\n",
       "        vertical-align: top;\n",
       "    }\n",
       "\n",
       "    .dataframe thead th {\n",
       "        text-align: right;\n",
       "    }\n",
       "</style>\n",
       "<table border=\"1\" class=\"dataframe\">\n",
       "  <thead>\n",
       "    <tr style=\"text-align: right;\">\n",
       "      <th></th>\n",
       "      <th>mean</th>\n",
       "      <th>min</th>\n",
       "      <th>25%</th>\n",
       "      <th>50%</th>\n",
       "      <th>75%</th>\n",
       "      <th>max</th>\n",
       "      <th>std</th>\n",
       "    </tr>\n",
       "  </thead>\n",
       "  <tbody>\n",
       "    <tr>\n",
       "      <th>USMER</th>\n",
       "      <td>1.439</td>\n",
       "      <td>1.0</td>\n",
       "      <td>1.0</td>\n",
       "      <td>1.0</td>\n",
       "      <td>2.0</td>\n",
       "      <td>2.0</td>\n",
       "      <td>0.496</td>\n",
       "    </tr>\n",
       "    <tr>\n",
       "      <th>MEDICAL_UNIT</th>\n",
       "      <td>7.009</td>\n",
       "      <td>1.0</td>\n",
       "      <td>4.0</td>\n",
       "      <td>4.0</td>\n",
       "      <td>12.0</td>\n",
       "      <td>13.0</td>\n",
       "      <td>3.669</td>\n",
       "    </tr>\n",
       "    <tr>\n",
       "      <th>SEX</th>\n",
       "      <td>1.644</td>\n",
       "      <td>1.0</td>\n",
       "      <td>1.0</td>\n",
       "      <td>2.0</td>\n",
       "      <td>2.0</td>\n",
       "      <td>2.0</td>\n",
       "      <td>0.479</td>\n",
       "    </tr>\n",
       "    <tr>\n",
       "      <th>PATIENT_TYPE</th>\n",
       "      <td>1.911</td>\n",
       "      <td>1.0</td>\n",
       "      <td>2.0</td>\n",
       "      <td>2.0</td>\n",
       "      <td>2.0</td>\n",
       "      <td>2.0</td>\n",
       "      <td>0.285</td>\n",
       "    </tr>\n",
       "    <tr>\n",
       "      <th>DATE_DIED</th>\n",
       "      <td>2020-06-09 16:17:04.480777728</td>\n",
       "      <td>2020-01-02 00:00:00</td>\n",
       "      <td>2020-05-18 00:00:00</td>\n",
       "      <td>2020-06-11 00:00:00</td>\n",
       "      <td>2020-07-04 00:00:00</td>\n",
       "      <td>2021-05-02 00:00:00</td>\n",
       "      <td>NaN</td>\n",
       "    </tr>\n",
       "    <tr>\n",
       "      <th>INTUBED</th>\n",
       "      <td>1.648</td>\n",
       "      <td>1.0</td>\n",
       "      <td>1.0</td>\n",
       "      <td>2.0</td>\n",
       "      <td>2.0</td>\n",
       "      <td>2.0</td>\n",
       "      <td>0.478</td>\n",
       "    </tr>\n",
       "    <tr>\n",
       "      <th>PNEUMONIA</th>\n",
       "      <td>1.292</td>\n",
       "      <td>1.0</td>\n",
       "      <td>1.0</td>\n",
       "      <td>1.0</td>\n",
       "      <td>2.0</td>\n",
       "      <td>2.0</td>\n",
       "      <td>0.455</td>\n",
       "    </tr>\n",
       "    <tr>\n",
       "      <th>AGE</th>\n",
       "      <td>61.041</td>\n",
       "      <td>0.0</td>\n",
       "      <td>52.0</td>\n",
       "      <td>62.0</td>\n",
       "      <td>72.0</td>\n",
       "      <td>119.0</td>\n",
       "      <td>15.339</td>\n",
       "    </tr>\n",
       "    <tr>\n",
       "      <th>PREGNANT</th>\n",
       "      <td>1.999</td>\n",
       "      <td>1.0</td>\n",
       "      <td>2.0</td>\n",
       "      <td>2.0</td>\n",
       "      <td>2.0</td>\n",
       "      <td>2.0</td>\n",
       "      <td>0.034</td>\n",
       "    </tr>\n",
       "    <tr>\n",
       "      <th>DIABETES</th>\n",
       "      <td>1.629</td>\n",
       "      <td>1.0</td>\n",
       "      <td>1.0</td>\n",
       "      <td>2.0</td>\n",
       "      <td>2.0</td>\n",
       "      <td>2.0</td>\n",
       "      <td>0.483</td>\n",
       "    </tr>\n",
       "    <tr>\n",
       "      <th>COPD</th>\n",
       "      <td>1.947</td>\n",
       "      <td>1.0</td>\n",
       "      <td>2.0</td>\n",
       "      <td>2.0</td>\n",
       "      <td>2.0</td>\n",
       "      <td>2.0</td>\n",
       "      <td>0.224</td>\n",
       "    </tr>\n",
       "    <tr>\n",
       "      <th>ASTHMA</th>\n",
       "      <td>1.981</td>\n",
       "      <td>1.0</td>\n",
       "      <td>2.0</td>\n",
       "      <td>2.0</td>\n",
       "      <td>2.0</td>\n",
       "      <td>2.0</td>\n",
       "      <td>0.138</td>\n",
       "    </tr>\n",
       "    <tr>\n",
       "      <th>INMSUPR</th>\n",
       "      <td>1.966</td>\n",
       "      <td>1.0</td>\n",
       "      <td>2.0</td>\n",
       "      <td>2.0</td>\n",
       "      <td>2.0</td>\n",
       "      <td>2.0</td>\n",
       "      <td>0.182</td>\n",
       "    </tr>\n",
       "    <tr>\n",
       "      <th>HIPERTENSION</th>\n",
       "      <td>1.58</td>\n",
       "      <td>1.0</td>\n",
       "      <td>1.0</td>\n",
       "      <td>2.0</td>\n",
       "      <td>2.0</td>\n",
       "      <td>2.0</td>\n",
       "      <td>0.494</td>\n",
       "    </tr>\n",
       "    <tr>\n",
       "      <th>OTHER_DISEASE</th>\n",
       "      <td>1.94</td>\n",
       "      <td>1.0</td>\n",
       "      <td>2.0</td>\n",
       "      <td>2.0</td>\n",
       "      <td>2.0</td>\n",
       "      <td>2.0</td>\n",
       "      <td>0.237</td>\n",
       "    </tr>\n",
       "    <tr>\n",
       "      <th>CARDIOVASCULAR</th>\n",
       "      <td>1.942</td>\n",
       "      <td>1.0</td>\n",
       "      <td>2.0</td>\n",
       "      <td>2.0</td>\n",
       "      <td>2.0</td>\n",
       "      <td>2.0</td>\n",
       "      <td>0.234</td>\n",
       "    </tr>\n",
       "    <tr>\n",
       "      <th>OBESITY</th>\n",
       "      <td>1.773</td>\n",
       "      <td>1.0</td>\n",
       "      <td>2.0</td>\n",
       "      <td>2.0</td>\n",
       "      <td>2.0</td>\n",
       "      <td>2.0</td>\n",
       "      <td>0.419</td>\n",
       "    </tr>\n",
       "    <tr>\n",
       "      <th>RENAL_CHRONIC</th>\n",
       "      <td>1.925</td>\n",
       "      <td>1.0</td>\n",
       "      <td>2.0</td>\n",
       "      <td>2.0</td>\n",
       "      <td>2.0</td>\n",
       "      <td>2.0</td>\n",
       "      <td>0.263</td>\n",
       "    </tr>\n",
       "    <tr>\n",
       "      <th>TOBACCO</th>\n",
       "      <td>1.913</td>\n",
       "      <td>1.0</td>\n",
       "      <td>2.0</td>\n",
       "      <td>2.0</td>\n",
       "      <td>2.0</td>\n",
       "      <td>2.0</td>\n",
       "      <td>0.281</td>\n",
       "    </tr>\n",
       "    <tr>\n",
       "      <th>CLASIFFICATION_FINAL</th>\n",
       "      <td>3.995</td>\n",
       "      <td>1.0</td>\n",
       "      <td>3.0</td>\n",
       "      <td>3.0</td>\n",
       "      <td>6.0</td>\n",
       "      <td>7.0</td>\n",
       "      <td>1.701</td>\n",
       "    </tr>\n",
       "    <tr>\n",
       "      <th>ICU</th>\n",
       "      <td>1.891</td>\n",
       "      <td>1.0</td>\n",
       "      <td>2.0</td>\n",
       "      <td>2.0</td>\n",
       "      <td>2.0</td>\n",
       "      <td>2.0</td>\n",
       "      <td>0.312</td>\n",
       "    </tr>\n",
       "    <tr>\n",
       "      <th>DEAD</th>\n",
       "      <td>1.0</td>\n",
       "      <td>1.0</td>\n",
       "      <td>1.0</td>\n",
       "      <td>1.0</td>\n",
       "      <td>1.0</td>\n",
       "      <td>1.0</td>\n",
       "      <td>0.0</td>\n",
       "    </tr>\n",
       "  </tbody>\n",
       "</table>\n",
       "</div>"
      ],
      "text/plain": [
       "                                               mean                  min  \\\n",
       "USMER                                         1.439                  1.0   \n",
       "MEDICAL_UNIT                                  7.009                  1.0   \n",
       "SEX                                           1.644                  1.0   \n",
       "PATIENT_TYPE                                  1.911                  1.0   \n",
       "DATE_DIED             2020-06-09 16:17:04.480777728  2020-01-02 00:00:00   \n",
       "INTUBED                                       1.648                  1.0   \n",
       "PNEUMONIA                                     1.292                  1.0   \n",
       "AGE                                          61.041                  0.0   \n",
       "PREGNANT                                      1.999                  1.0   \n",
       "DIABETES                                      1.629                  1.0   \n",
       "COPD                                          1.947                  1.0   \n",
       "ASTHMA                                        1.981                  1.0   \n",
       "INMSUPR                                       1.966                  1.0   \n",
       "HIPERTENSION                                   1.58                  1.0   \n",
       "OTHER_DISEASE                                  1.94                  1.0   \n",
       "CARDIOVASCULAR                                1.942                  1.0   \n",
       "OBESITY                                       1.773                  1.0   \n",
       "RENAL_CHRONIC                                 1.925                  1.0   \n",
       "TOBACCO                                       1.913                  1.0   \n",
       "CLASIFFICATION_FINAL                          3.995                  1.0   \n",
       "ICU                                           1.891                  1.0   \n",
       "DEAD                                            1.0                  1.0   \n",
       "\n",
       "                                      25%                  50%  \\\n",
       "USMER                                 1.0                  1.0   \n",
       "MEDICAL_UNIT                          4.0                  4.0   \n",
       "SEX                                   1.0                  2.0   \n",
       "PATIENT_TYPE                          2.0                  2.0   \n",
       "DATE_DIED             2020-05-18 00:00:00  2020-06-11 00:00:00   \n",
       "INTUBED                               1.0                  2.0   \n",
       "PNEUMONIA                             1.0                  1.0   \n",
       "AGE                                  52.0                 62.0   \n",
       "PREGNANT                              2.0                  2.0   \n",
       "DIABETES                              1.0                  2.0   \n",
       "COPD                                  2.0                  2.0   \n",
       "ASTHMA                                2.0                  2.0   \n",
       "INMSUPR                               2.0                  2.0   \n",
       "HIPERTENSION                          1.0                  2.0   \n",
       "OTHER_DISEASE                         2.0                  2.0   \n",
       "CARDIOVASCULAR                        2.0                  2.0   \n",
       "OBESITY                               2.0                  2.0   \n",
       "RENAL_CHRONIC                         2.0                  2.0   \n",
       "TOBACCO                               2.0                  2.0   \n",
       "CLASIFFICATION_FINAL                  3.0                  3.0   \n",
       "ICU                                   2.0                  2.0   \n",
       "DEAD                                  1.0                  1.0   \n",
       "\n",
       "                                      75%                  max     std  \n",
       "USMER                                 2.0                  2.0   0.496  \n",
       "MEDICAL_UNIT                         12.0                 13.0   3.669  \n",
       "SEX                                   2.0                  2.0   0.479  \n",
       "PATIENT_TYPE                          2.0                  2.0   0.285  \n",
       "DATE_DIED             2020-07-04 00:00:00  2021-05-02 00:00:00     NaN  \n",
       "INTUBED                               2.0                  2.0   0.478  \n",
       "PNEUMONIA                             2.0                  2.0   0.455  \n",
       "AGE                                  72.0                119.0  15.339  \n",
       "PREGNANT                              2.0                  2.0   0.034  \n",
       "DIABETES                              2.0                  2.0   0.483  \n",
       "COPD                                  2.0                  2.0   0.224  \n",
       "ASTHMA                                2.0                  2.0   0.138  \n",
       "INMSUPR                               2.0                  2.0   0.182  \n",
       "HIPERTENSION                          2.0                  2.0   0.494  \n",
       "OTHER_DISEASE                         2.0                  2.0   0.237  \n",
       "CARDIOVASCULAR                        2.0                  2.0   0.234  \n",
       "OBESITY                               2.0                  2.0   0.419  \n",
       "RENAL_CHRONIC                         2.0                  2.0   0.263  \n",
       "TOBACCO                               2.0                  2.0   0.281  \n",
       "CLASIFFICATION_FINAL                  6.0                  7.0   1.701  \n",
       "ICU                                   2.0                  2.0   0.312  \n",
       "DEAD                                  1.0                  1.0     0.0  "
      ]
     },
     "execution_count": 47,
     "metadata": {},
     "output_type": "execute_result"
    }
   ],
   "source": [
    "df.describe().round(3).T.drop('count', axis = 1)"
   ]
  },
  {
   "cell_type": "markdown",
   "metadata": {
    "id": "4c0ada44"
   },
   "source": [
    "#### As we can see most of the patients tend to not having any of the diseases, with very minimal of deaths."
   ]
  },
  {
   "cell_type": "code",
   "execution_count": 48,
   "metadata": {
    "id": "6478452a",
    "outputId": "cdca8d0e-5012-464e-be42-046383590f0b"
   },
   "outputs": [
    {
     "name": "stdout",
     "output_type": "stream",
     "text": [
      "USMER  ->  {1: 43155, 2: 33787}\n",
      "MEDICAL_UNIT  ->  {4: 39905, 12: 24620, 6: 5790, 3: 1492, 10: 1468, 9: 1369, 8: 1171, 5: 607, 11: 409, 13: 61, 7: 40, 1: 5, 2: 5}\n",
      "SEX  ->  {2: 49540, 1: 27402}\n",
      "PATIENT_TYPE  ->  {2: 70066, 1: 6876}\n",
      "INTUBED  ->  {2.0: 48477, 1.0: 26381}\n",
      "PNEUMONIA  ->  {1.0: 53923, 2.0: 22285}\n",
      "PREGNANT  ->  {2.0: 76786, 1.0: 89}\n",
      "DIABETES  ->  {2.0: 47946, 1.0: 28265}\n",
      "COPD  ->  {2.0: 72210, 1.0: 4021}\n",
      "ASTHMA  ->  {2.0: 74758, 1.0: 1480}\n",
      "INMSUPR  ->  {2.0: 73569, 1.0: 2618}\n",
      "HIPERTENSION  ->  {2.0: 44191, 1.0: 32061}\n",
      "OTHER_DISEASE  ->  {2.0: 71362, 1.0: 4546}\n",
      "CARDIOVASCULAR  ->  {2.0: 71774, 1.0: 4435}\n",
      "OBESITY  ->  {2.0: 58933, 1.0: 17294}\n",
      "RENAL_CHRONIC  ->  {2.0: 70532, 1.0: 5707}\n",
      "TOBACCO  ->  {2.0: 69621, 1.0: 6596}\n",
      "CLASIFFICATION_FINAL  ->  {3: 51430, 7: 13695, 6: 7652, 2: 1851, 5: 1211, 1: 955, 4: 148}\n",
      "ICU  ->  {2.0: 66651, 1.0: 8195}\n",
      "DEAD  ->  {1: 76942}\n"
     ]
    }
   ],
   "source": [
    "# Let's have a look on our data's different classes:\n",
    "for i in df.columns:\n",
    "    if(i!='AGE' and i!='DATE_DIED'):\n",
    "        print(i,\" -> \", dict(df[i].value_counts()))"
   ]
  },
  {
   "cell_type": "markdown",
   "metadata": {
    "id": "054d22d4"
   },
   "source": [
    "--------------------------------------------------------------"
   ]
  },
  {
   "cell_type": "markdown",
   "metadata": {
    "id": "9040b87f"
   },
   "source": [
    "# Exploratory Data Analysis"
   ]
  },
  {
   "cell_type": "code",
   "execution_count": 49,
   "metadata": {
    "id": "7c17778a",
    "outputId": "f10eb62f-c5af-4aab-a093-4e0039e30a2c"
   },
   "outputs": [
    {
     "data": {
      "image/png": "[encoded data removed]",
      "text/plain": [
       "<Figure size 2000x1500 with 2 Axes>"
      ]
     },
     "metadata": {},
     "output_type": "display_data"
    }
   ],
   "source": [
    "fig, ax = plt.subplots(figsize=(20, 15))\n",
    "mask=np.triu(np.ones_like(df.drop(columns=['DATE_DIED']).corr()))\n",
    "sns.heatmap(df.drop(columns=['DATE_DIED']).corr(), mask = mask, annot = True, cmap = \"Blues\", vmin = -1, vmax = 1)\n",
    "plt.title('Data Correlation', color = 'black', fontsize = 30)\n",
    "plt.show()"
   ]
  },
  {
   "cell_type": "markdown",
   "metadata": {
    "id": "8de0bdbf"
   },
   "source": [
    "#### As colors go darker that indicates positive correlation, and as they go lighter that indicates negative correlation.\n",
    "\n",
    "#### Also as the darkness or the lightness increases that indicates the increasing of the strength of the corresponding correlation."
   ]
  },
  {
   "cell_type": "code",
   "execution_count": 50,
   "metadata": {
    "id": "ec9dc18b",
    "outputId": "df482465-1764-4fb0-aa0c-1aa4bf3b1287"
   },
   "outputs": [
    {
     "data": {
      "text/html": [
       "<div>\n",
       "<style scoped>\n",
       "    .dataframe tbody tr th:only-of-type {\n",
       "        vertical-align: middle;\n",
       "    }\n",
       "\n",
       "    .dataframe tbody tr th {\n",
       "        vertical-align: top;\n",
       "    }\n",
       "\n",
       "    .dataframe thead th {\n",
       "        text-align: right;\n",
       "    }\n",
       "</style>\n",
       "<table border=\"1\" class=\"dataframe\">\n",
       "  <thead>\n",
       "    <tr style=\"text-align: right;\">\n",
       "      <th></th>\n",
       "      <th>PNEUMONIA</th>\n",
       "      <th>PREGNANT</th>\n",
       "      <th>DIABETES</th>\n",
       "      <th>COPD</th>\n",
       "      <th>ASTHMA</th>\n",
       "      <th>INMSUPR</th>\n",
       "      <th>HIPERTENSION</th>\n",
       "      <th>OTHER_DISEASE</th>\n",
       "      <th>CARDIOVASCULAR</th>\n",
       "      <th>OBESITY</th>\n",
       "      <th>RENAL_CHRONIC</th>\n",
       "      <th>TOBACCO</th>\n",
       "      <th>DEAD</th>\n",
       "    </tr>\n",
       "  </thead>\n",
       "  <tbody>\n",
       "    <tr>\n",
       "      <th>0</th>\n",
       "      <td>1.0</td>\n",
       "      <td>2.0</td>\n",
       "      <td>2.0</td>\n",
       "      <td>2.0</td>\n",
       "      <td>2.0</td>\n",
       "      <td>2.0</td>\n",
       "      <td>1.0</td>\n",
       "      <td>2.0</td>\n",
       "      <td>2.0</td>\n",
       "      <td>2.0</td>\n",
       "      <td>2.0</td>\n",
       "      <td>2.0</td>\n",
       "      <td>1</td>\n",
       "    </tr>\n",
       "    <tr>\n",
       "      <th>1</th>\n",
       "      <td>1.0</td>\n",
       "      <td>2.0</td>\n",
       "      <td>2.0</td>\n",
       "      <td>2.0</td>\n",
       "      <td>2.0</td>\n",
       "      <td>2.0</td>\n",
       "      <td>1.0</td>\n",
       "      <td>2.0</td>\n",
       "      <td>2.0</td>\n",
       "      <td>1.0</td>\n",
       "      <td>1.0</td>\n",
       "      <td>2.0</td>\n",
       "      <td>1</td>\n",
       "    </tr>\n",
       "    <tr>\n",
       "      <th>2</th>\n",
       "      <td>2.0</td>\n",
       "      <td>2.0</td>\n",
       "      <td>1.0</td>\n",
       "      <td>2.0</td>\n",
       "      <td>2.0</td>\n",
       "      <td>2.0</td>\n",
       "      <td>2.0</td>\n",
       "      <td>2.0</td>\n",
       "      <td>2.0</td>\n",
       "      <td>2.0</td>\n",
       "      <td>2.0</td>\n",
       "      <td>2.0</td>\n",
       "      <td>1</td>\n",
       "    </tr>\n",
       "    <tr>\n",
       "      <th>3</th>\n",
       "      <td>2.0</td>\n",
       "      <td>2.0</td>\n",
       "      <td>2.0</td>\n",
       "      <td>2.0</td>\n",
       "      <td>2.0</td>\n",
       "      <td>2.0</td>\n",
       "      <td>2.0</td>\n",
       "      <td>2.0</td>\n",
       "      <td>2.0</td>\n",
       "      <td>2.0</td>\n",
       "      <td>2.0</td>\n",
       "      <td>2.0</td>\n",
       "      <td>1</td>\n",
       "    </tr>\n",
       "    <tr>\n",
       "      <th>4</th>\n",
       "      <td>2.0</td>\n",
       "      <td>2.0</td>\n",
       "      <td>1.0</td>\n",
       "      <td>2.0</td>\n",
       "      <td>2.0</td>\n",
       "      <td>2.0</td>\n",
       "      <td>1.0</td>\n",
       "      <td>2.0</td>\n",
       "      <td>2.0</td>\n",
       "      <td>2.0</td>\n",
       "      <td>2.0</td>\n",
       "      <td>2.0</td>\n",
       "      <td>1</td>\n",
       "    </tr>\n",
       "    <tr>\n",
       "      <th>...</th>\n",
       "      <td>...</td>\n",
       "      <td>...</td>\n",
       "      <td>...</td>\n",
       "      <td>...</td>\n",
       "      <td>...</td>\n",
       "      <td>...</td>\n",
       "      <td>...</td>\n",
       "      <td>...</td>\n",
       "      <td>...</td>\n",
       "      <td>...</td>\n",
       "      <td>...</td>\n",
       "      <td>...</td>\n",
       "      <td>...</td>\n",
       "    </tr>\n",
       "    <tr>\n",
       "      <th>1047635</th>\n",
       "      <td>1.0</td>\n",
       "      <td>2.0</td>\n",
       "      <td>2.0</td>\n",
       "      <td>2.0</td>\n",
       "      <td>2.0</td>\n",
       "      <td>2.0</td>\n",
       "      <td>1.0</td>\n",
       "      <td>2.0</td>\n",
       "      <td>2.0</td>\n",
       "      <td>1.0</td>\n",
       "      <td>2.0</td>\n",
       "      <td>2.0</td>\n",
       "      <td>1</td>\n",
       "    </tr>\n",
       "    <tr>\n",
       "      <th>1047636</th>\n",
       "      <td>1.0</td>\n",
       "      <td>2.0</td>\n",
       "      <td>2.0</td>\n",
       "      <td>1.0</td>\n",
       "      <td>2.0</td>\n",
       "      <td>2.0</td>\n",
       "      <td>1.0</td>\n",
       "      <td>2.0</td>\n",
       "      <td>2.0</td>\n",
       "      <td>2.0</td>\n",
       "      <td>2.0</td>\n",
       "      <td>2.0</td>\n",
       "      <td>1</td>\n",
       "    </tr>\n",
       "    <tr>\n",
       "      <th>1047637</th>\n",
       "      <td>1.0</td>\n",
       "      <td>2.0</td>\n",
       "      <td>2.0</td>\n",
       "      <td>2.0</td>\n",
       "      <td>2.0</td>\n",
       "      <td>2.0</td>\n",
       "      <td>2.0</td>\n",
       "      <td>2.0</td>\n",
       "      <td>2.0</td>\n",
       "      <td>2.0</td>\n",
       "      <td>2.0</td>\n",
       "      <td>2.0</td>\n",
       "      <td>1</td>\n",
       "    </tr>\n",
       "    <tr>\n",
       "      <th>1047638</th>\n",
       "      <td>1.0</td>\n",
       "      <td>2.0</td>\n",
       "      <td>2.0</td>\n",
       "      <td>2.0</td>\n",
       "      <td>2.0</td>\n",
       "      <td>2.0</td>\n",
       "      <td>2.0</td>\n",
       "      <td>2.0</td>\n",
       "      <td>2.0</td>\n",
       "      <td>1.0</td>\n",
       "      <td>2.0</td>\n",
       "      <td>2.0</td>\n",
       "      <td>1</td>\n",
       "    </tr>\n",
       "    <tr>\n",
       "      <th>1047639</th>\n",
       "      <td>1.0</td>\n",
       "      <td>2.0</td>\n",
       "      <td>1.0</td>\n",
       "      <td>2.0</td>\n",
       "      <td>2.0</td>\n",
       "      <td>2.0</td>\n",
       "      <td>1.0</td>\n",
       "      <td>2.0</td>\n",
       "      <td>2.0</td>\n",
       "      <td>2.0</td>\n",
       "      <td>1.0</td>\n",
       "      <td>1.0</td>\n",
       "      <td>1</td>\n",
       "    </tr>\n",
       "  </tbody>\n",
       "</table>\n",
       "<p>76942 rows × 13 columns</p>\n",
       "</div>"
      ],
      "text/plain": [
       "         PNEUMONIA  PREGNANT  DIABETES  COPD  ASTHMA  INMSUPR  HIPERTENSION  \\\n",
       "0              1.0       2.0       2.0   2.0     2.0      2.0           1.0   \n",
       "1              1.0       2.0       2.0   2.0     2.0      2.0           1.0   \n",
       "2              2.0       2.0       1.0   2.0     2.0      2.0           2.0   \n",
       "3              2.0       2.0       2.0   2.0     2.0      2.0           2.0   \n",
       "4              2.0       2.0       1.0   2.0     2.0      2.0           1.0   \n",
       "...            ...       ...       ...   ...     ...      ...           ...   \n",
       "1047635        1.0       2.0       2.0   2.0     2.0      2.0           1.0   \n",
       "1047636        1.0       2.0       2.0   1.0     2.0      2.0           1.0   \n",
       "1047637        1.0       2.0       2.0   2.0     2.0      2.0           2.0   \n",
       "1047638        1.0       2.0       2.0   2.0     2.0      2.0           2.0   \n",
       "1047639        1.0       2.0       1.0   2.0     2.0      2.0           1.0   \n",
       "\n",
       "         OTHER_DISEASE  CARDIOVASCULAR  OBESITY  RENAL_CHRONIC  TOBACCO  DEAD  \n",
       "0                  2.0             2.0      2.0            2.0      2.0     1  \n",
       "1                  2.0             2.0      1.0            1.0      2.0     1  \n",
       "2                  2.0             2.0      2.0            2.0      2.0     1  \n",
       "3                  2.0             2.0      2.0            2.0      2.0     1  \n",
       "4                  2.0             2.0      2.0            2.0      2.0     1  \n",
       "...                ...             ...      ...            ...      ...   ...  \n",
       "1047635            2.0             2.0      1.0            2.0      2.0     1  \n",
       "1047636            2.0             2.0      2.0            2.0      2.0     1  \n",
       "1047637            2.0             2.0      2.0            2.0      2.0     1  \n",
       "1047638            2.0             2.0      1.0            2.0      2.0     1  \n",
       "1047639            2.0             2.0      2.0            1.0      1.0     1  \n",
       "\n",
       "[76942 rows x 13 columns]"
      ]
     },
     "execution_count": 50,
     "metadata": {},
     "output_type": "execute_result"
    }
   ],
   "source": [
    "# Let's first create a new DataFrame for medical conditions only:\n",
    "df_med = df.drop(columns=['USMER', 'MEDICAL_UNIT', 'SEX', 'PATIENT_TYPE', 'DATE_DIED',\n",
    "                          'INTUBED', 'AGE', 'CLASIFFICATION_FINAL', 'ICU'], axis=1)\n",
    "df_med"
   ]
  },
  {
   "cell_type": "code",
   "execution_count": 51,
   "metadata": {
    "id": "9ca7711d",
    "outputId": "68f51857-d804-4e02-945b-a2b4e077e1f1"
   },
   "outputs": [
    {
     "data": {
      "text/plain": [
       "76191"
      ]
     },
     "execution_count": 51,
     "metadata": {},
     "output_type": "execute_result"
    }
   ],
   "source": [
    "df_med.duplicated(keep = False).sum()"
   ]
  },
  {
   "cell_type": "markdown",
   "metadata": {
    "id": "fcb358a1"
   },
   "source": [
    "### We can see that there are 1,046,683 patients with similar conditions split into some groups of patients with the same conditions"
   ]
  },
  {
   "cell_type": "markdown",
   "metadata": {
    "id": "0418c272"
   },
   "source": [
    "## 1- How many people have died?"
   ]
  },
  {
   "cell_type": "code",
   "execution_count": 52,
   "metadata": {
    "id": "530a7b1a",
    "outputId": "f1a4c8e6-5e82-4d15-bdbb-162891d1b21d"
   },
   "outputs": [
    {
     "data": {
      "text/plain": [
       "76942"
      ]
     },
     "execution_count": 52,
     "metadata": {},
     "output_type": "execute_result"
    }
   ],
   "source": [
    "dict(df['DEAD'].value_counts())[1]"
   ]
  },
  {
   "cell_type": "code",
   "execution_count": 53,
   "metadata": {},
   "outputs": [
    {
     "data": {
      "text/plain": [
       "{0: 1,\n",
       " 1: 1,\n",
       " 2: 1,\n",
       " 3: 1,\n",
       " 4: 1,\n",
       " 151: 1,\n",
       " 152: 1,\n",
       " 153: 1,\n",
       " 154: 1,\n",
       " 155: 1,\n",
       " 320: 1,\n",
       " 321: 1,\n",
       " 322: 1,\n",
       " 323: 1,\n",
       " 324: 1,\n",
       " 325: 1,\n",
       " 326: 1,\n",
       " 327: 1,\n",
       " 328: 1,\n",
       " 329: 1,\n",
       " 330: 1,\n",
       " 331: 1,\n",
       " 332: 1,\n",
       " 333: 1,\n",
       " 334: 1,\n",
       " 335: 1,\n",
       " 336: 1,\n",
       " 337: 1,\n",
       " 338: 1,\n",
       " 339: 1,\n",
       " 340: 1,\n",
       " 341: 1,\n",
       " 342: 1,\n",
       " 343: 1,\n",
       " 344: 1,\n",
       " 345: 1,\n",
       " 346: 1,\n",
       " 347: 1,\n",
       " 348: 1,\n",
       " 349: 1,\n",
       " 350: 1,\n",
       " 351: 1,\n",
       " 352: 1,\n",
       " 353: 1,\n",
       " 354: 1,\n",
       " 355: 1,\n",
       " 356: 1,\n",
       " 357: 1,\n",
       " 358: 1,\n",
       " 359: 1,\n",
       " 360: 1,\n",
       " 361: 1,\n",
       " 362: 1,\n",
       " 363: 1,\n",
       " 364: 1,\n",
       " 365: 1,\n",
       " 366: 1,\n",
       " 367: 1,\n",
       " 368: 1,\n",
       " 369: 1,\n",
       " 370: 1,\n",
       " 371: 1,\n",
       " 372: 1,\n",
       " 373: 1,\n",
       " 374: 1,\n",
       " 375: 1,\n",
       " 376: 1,\n",
       " 377: 1,\n",
       " 378: 1,\n",
       " 379: 1,\n",
       " 380: 1,\n",
       " 381: 1,\n",
       " 382: 1,\n",
       " 383: 1,\n",
       " 384: 1,\n",
       " 385: 1,\n",
       " 386: 1,\n",
       " 387: 1,\n",
       " 388: 1,\n",
       " 389: 1,\n",
       " 390: 1,\n",
       " 391: 1,\n",
       " 392: 1,\n",
       " 393: 1,\n",
       " 394: 1,\n",
       " 395: 1,\n",
       " 396: 1,\n",
       " 397: 1,\n",
       " 398: 1,\n",
       " 399: 1,\n",
       " 400: 1,\n",
       " 401: 1,\n",
       " 402: 1,\n",
       " 403: 1,\n",
       " 404: 1,\n",
       " 405: 1,\n",
       " 406: 1,\n",
       " 407: 1,\n",
       " 408: 1,\n",
       " 409: 1,\n",
       " 410: 1,\n",
       " 411: 1,\n",
       " 412: 1,\n",
       " 413: 1,\n",
       " 414: 1,\n",
       " 415: 1,\n",
       " 416: 1,\n",
       " 417: 1,\n",
       " 418: 1,\n",
       " 419: 1,\n",
       " 420: 1,\n",
       " 421: 1,\n",
       " 422: 1,\n",
       " 423: 1,\n",
       " 424: 1,\n",
       " 425: 1,\n",
       " 426: 1,\n",
       " 427: 1,\n",
       " 428: 1,\n",
       " 429: 1,\n",
       " 430: 1,\n",
       " 431: 1,\n",
       " 432: 1,\n",
       " 433: 1,\n",
       " 434: 1,\n",
       " 435: 1,\n",
       " 436: 1,\n",
       " 437: 1,\n",
       " 438: 1,\n",
       " 439: 1,\n",
       " 440: 1,\n",
       " 441: 1,\n",
       " 442: 1,\n",
       " 443: 1,\n",
       " 444: 1,\n",
       " 445: 1,\n",
       " 446: 1,\n",
       " 447: 1,\n",
       " 448: 1,\n",
       " 449: 1,\n",
       " 450: 1,\n",
       " 451: 1,\n",
       " 452: 1,\n",
       " 453: 1,\n",
       " 454: 1,\n",
       " 455: 1,\n",
       " 456: 1,\n",
       " 457: 1,\n",
       " 458: 1,\n",
       " 459: 1,\n",
       " 460: 1,\n",
       " 461: 1,\n",
       " 462: 1,\n",
       " 463: 1,\n",
       " 464: 1,\n",
       " 465: 1,\n",
       " 466: 1,\n",
       " 467: 1,\n",
       " 468: 1,\n",
       " 469: 1,\n",
       " 470: 1,\n",
       " 471: 1,\n",
       " 472: 1,\n",
       " 473: 1,\n",
       " 474: 1,\n",
       " 475: 1,\n",
       " 476: 1,\n",
       " 477: 1,\n",
       " 478: 1,\n",
       " 479: 1,\n",
       " 480: 1,\n",
       " 481: 1,\n",
       " 482: 1,\n",
       " 483: 1,\n",
       " 484: 1,\n",
       " 485: 1,\n",
       " 486: 1,\n",
       " 487: 1,\n",
       " 488: 1,\n",
       " 489: 1,\n",
       " 490: 1,\n",
       " 491: 1,\n",
       " 492: 1,\n",
       " 493: 1,\n",
       " 494: 1,\n",
       " 495: 1,\n",
       " 496: 1,\n",
       " 497: 1,\n",
       " 498: 1,\n",
       " 499: 1,\n",
       " 500: 1,\n",
       " 501: 1,\n",
       " 502: 1,\n",
       " 503: 1,\n",
       " 504: 1,\n",
       " 505: 1,\n",
       " 506: 1,\n",
       " 507: 1,\n",
       " 508: 1,\n",
       " 509: 1,\n",
       " 510: 1,\n",
       " 511: 1,\n",
       " 512: 1,\n",
       " 513: 1,\n",
       " 514: 1,\n",
       " 515: 1,\n",
       " 516: 1,\n",
       " 517: 1,\n",
       " 518: 1,\n",
       " 519: 1,\n",
       " 520: 1,\n",
       " 521: 1,\n",
       " 522: 1,\n",
       " 523: 1,\n",
       " 524: 1,\n",
       " 525: 1,\n",
       " 526: 1,\n",
       " 527: 1,\n",
       " 528: 1,\n",
       " 529: 1,\n",
       " 530: 1,\n",
       " 531: 1,\n",
       " 532: 1,\n",
       " 533: 1,\n",
       " 534: 1,\n",
       " 535: 1,\n",
       " 536: 1,\n",
       " 537: 1,\n",
       " 538: 1,\n",
       " 539: 1,\n",
       " 540: 1,\n",
       " 541: 1,\n",
       " 542: 1,\n",
       " 543: 1,\n",
       " 544: 1,\n",
       " 545: 1,\n",
       " 546: 1,\n",
       " 547: 1,\n",
       " 548: 1,\n",
       " 549: 1,\n",
       " 550: 1,\n",
       " 551: 1,\n",
       " 552: 1,\n",
       " 553: 1,\n",
       " 554: 1,\n",
       " 555: 1,\n",
       " 556: 1,\n",
       " 557: 1,\n",
       " 558: 1,\n",
       " 559: 1,\n",
       " 560: 1,\n",
       " 561: 1,\n",
       " 562: 1,\n",
       " 563: 1,\n",
       " 564: 1,\n",
       " 565: 1,\n",
       " 566: 1,\n",
       " 567: 1,\n",
       " 568: 1,\n",
       " 569: 1,\n",
       " 570: 1,\n",
       " 571: 1,\n",
       " 572: 1,\n",
       " 573: 1,\n",
       " 574: 1,\n",
       " 575: 1,\n",
       " 576: 1,\n",
       " 577: 1,\n",
       " 578: 1,\n",
       " 579: 1,\n",
       " 580: 1,\n",
       " 581: 1,\n",
       " 582: 1,\n",
       " 583: 1,\n",
       " 584: 1,\n",
       " 585: 1,\n",
       " 586: 1,\n",
       " 587: 1,\n",
       " 588: 1,\n",
       " 589: 1,\n",
       " 590: 1,\n",
       " 591: 1,\n",
       " 592: 1,\n",
       " 593: 1,\n",
       " 594: 1,\n",
       " 595: 1,\n",
       " 596: 1,\n",
       " 597: 1,\n",
       " 598: 1,\n",
       " 599: 1,\n",
       " 600: 1,\n",
       " 601: 1,\n",
       " 602: 1,\n",
       " 603: 1,\n",
       " 604: 1,\n",
       " 605: 1,\n",
       " 606: 1,\n",
       " 607: 1,\n",
       " 608: 1,\n",
       " 609: 1,\n",
       " 610: 1,\n",
       " 611: 1,\n",
       " 612: 1,\n",
       " 613: 1,\n",
       " 614: 1,\n",
       " 615: 1,\n",
       " 616: 1,\n",
       " 617: 1,\n",
       " 618: 1,\n",
       " 619: 1,\n",
       " 620: 1,\n",
       " 621: 1,\n",
       " 622: 1,\n",
       " 623: 1,\n",
       " 624: 1,\n",
       " 625: 1,\n",
       " 626: 1,\n",
       " 627: 1,\n",
       " 628: 1,\n",
       " 629: 1,\n",
       " 630: 1,\n",
       " 631: 1,\n",
       " 632: 1,\n",
       " 633: 1,\n",
       " 634: 1,\n",
       " 635: 1,\n",
       " 636: 1,\n",
       " 637: 1,\n",
       " 638: 1,\n",
       " 639: 1,\n",
       " 640: 1,\n",
       " 641: 1,\n",
       " 642: 1,\n",
       " 643: 1,\n",
       " 644: 1,\n",
       " 645: 1,\n",
       " 646: 1,\n",
       " 647: 1,\n",
       " 648: 1,\n",
       " 649: 1,\n",
       " 650: 1,\n",
       " 651: 1,\n",
       " 652: 1,\n",
       " 653: 1,\n",
       " 654: 1,\n",
       " 655: 1,\n",
       " 656: 1,\n",
       " 657: 1,\n",
       " 658: 1,\n",
       " 659: 1,\n",
       " 660: 1,\n",
       " 661: 1,\n",
       " 662: 1,\n",
       " 663: 1,\n",
       " 664: 1,\n",
       " 665: 1,\n",
       " 666: 1,\n",
       " 667: 1,\n",
       " 668: 1,\n",
       " 669: 1,\n",
       " 670: 1,\n",
       " 671: 1,\n",
       " 672: 1,\n",
       " 673: 1,\n",
       " 674: 1,\n",
       " 675: 1,\n",
       " 676: 1,\n",
       " 677: 1,\n",
       " 678: 1,\n",
       " 679: 1,\n",
       " 680: 1,\n",
       " 681: 1,\n",
       " 682: 1,\n",
       " 683: 1,\n",
       " 684: 1,\n",
       " 685: 1,\n",
       " 686: 1,\n",
       " 687: 1,\n",
       " 688: 1,\n",
       " 689: 1,\n",
       " 690: 1,\n",
       " 691: 1,\n",
       " 692: 1,\n",
       " 693: 1,\n",
       " 694: 1,\n",
       " 695: 1,\n",
       " 696: 1,\n",
       " 697: 1,\n",
       " 698: 1,\n",
       " 699: 1,\n",
       " 700: 1,\n",
       " 701: 1,\n",
       " 702: 1,\n",
       " 703: 1,\n",
       " 704: 1,\n",
       " 705: 1,\n",
       " 706: 1,\n",
       " 707: 1,\n",
       " 708: 1,\n",
       " 709: 1,\n",
       " 710: 1,\n",
       " 711: 1,\n",
       " 712: 1,\n",
       " 713: 1,\n",
       " 714: 1,\n",
       " 715: 1,\n",
       " 716: 1,\n",
       " 717: 1,\n",
       " 718: 1,\n",
       " 719: 1,\n",
       " 720: 1,\n",
       " 721: 1,\n",
       " 722: 1,\n",
       " 723: 1,\n",
       " 724: 1,\n",
       " 725: 1,\n",
       " 726: 1,\n",
       " 727: 1,\n",
       " 728: 1,\n",
       " 729: 1,\n",
       " 730: 1,\n",
       " 731: 1,\n",
       " 732: 1,\n",
       " 733: 1,\n",
       " 734: 1,\n",
       " 735: 1,\n",
       " 736: 1,\n",
       " 737: 1,\n",
       " 738: 1,\n",
       " 739: 1,\n",
       " 740: 1,\n",
       " 741: 1,\n",
       " 742: 1,\n",
       " 743: 1,\n",
       " 744: 1,\n",
       " 745: 1,\n",
       " 746: 1,\n",
       " 747: 1,\n",
       " 748: 1,\n",
       " 749: 1,\n",
       " 750: 1,\n",
       " 751: 1,\n",
       " 752: 1,\n",
       " 753: 1,\n",
       " 754: 1,\n",
       " 755: 1,\n",
       " 756: 1,\n",
       " 757: 1,\n",
       " 758: 1,\n",
       " 759: 1,\n",
       " 760: 1,\n",
       " 761: 1,\n",
       " 762: 1,\n",
       " 763: 1,\n",
       " 764: 1,\n",
       " 765: 1,\n",
       " 766: 1,\n",
       " 767: 1,\n",
       " 768: 1,\n",
       " 769: 1,\n",
       " 770: 1,\n",
       " 771: 1,\n",
       " 772: 1,\n",
       " 773: 1,\n",
       " 774: 1,\n",
       " 775: 1,\n",
       " 776: 1,\n",
       " 777: 1,\n",
       " 778: 1,\n",
       " 779: 1,\n",
       " 780: 1,\n",
       " 781: 1,\n",
       " 782: 1,\n",
       " 783: 1,\n",
       " 784: 1,\n",
       " 785: 1,\n",
       " 786: 1,\n",
       " 787: 1,\n",
       " 788: 1,\n",
       " 789: 1,\n",
       " 790: 1,\n",
       " 791: 1,\n",
       " 792: 1,\n",
       " 793: 1,\n",
       " 794: 1,\n",
       " 795: 1,\n",
       " 796: 1,\n",
       " 797: 1,\n",
       " 798: 1,\n",
       " 799: 1,\n",
       " 800: 1,\n",
       " 801: 1,\n",
       " 802: 1,\n",
       " 803: 1,\n",
       " 804: 1,\n",
       " 805: 1,\n",
       " 806: 1,\n",
       " 807: 1,\n",
       " 808: 1,\n",
       " 809: 1,\n",
       " 810: 1,\n",
       " 811: 1,\n",
       " 812: 1,\n",
       " 813: 1,\n",
       " 814: 1,\n",
       " 815: 1,\n",
       " 816: 1,\n",
       " 817: 1,\n",
       " 818: 1,\n",
       " 819: 1,\n",
       " 820: 1,\n",
       " 821: 1,\n",
       " 822: 1,\n",
       " 823: 1,\n",
       " 824: 1,\n",
       " 825: 1,\n",
       " 826: 1,\n",
       " 827: 1,\n",
       " 828: 1,\n",
       " 829: 1,\n",
       " 830: 1,\n",
       " 831: 1,\n",
       " 832: 1,\n",
       " 833: 1,\n",
       " 834: 1,\n",
       " 835: 1,\n",
       " 836: 1,\n",
       " 837: 1,\n",
       " 838: 1,\n",
       " 839: 1,\n",
       " 840: 1,\n",
       " 841: 1,\n",
       " 842: 1,\n",
       " 843: 1,\n",
       " 844: 1,\n",
       " 845: 1,\n",
       " 846: 1,\n",
       " 847: 1,\n",
       " 848: 1,\n",
       " 849: 1,\n",
       " 850: 1,\n",
       " 851: 1,\n",
       " 852: 1,\n",
       " 853: 1,\n",
       " 854: 1,\n",
       " 855: 1,\n",
       " 856: 1,\n",
       " 857: 1,\n",
       " 858: 1,\n",
       " 859: 1,\n",
       " 860: 1,\n",
       " 861: 1,\n",
       " 862: 1,\n",
       " 863: 1,\n",
       " 864: 1,\n",
       " 865: 1,\n",
       " 866: 1,\n",
       " 867: 1,\n",
       " 868: 1,\n",
       " 869: 1,\n",
       " 870: 1,\n",
       " 871: 1,\n",
       " 872: 1,\n",
       " 873: 1,\n",
       " 874: 1,\n",
       " 875: 1,\n",
       " 876: 1,\n",
       " 877: 1,\n",
       " 878: 1,\n",
       " 879: 1,\n",
       " 880: 1,\n",
       " 881: 1,\n",
       " 882: 1,\n",
       " 883: 1,\n",
       " 884: 1,\n",
       " 885: 1,\n",
       " 886: 1,\n",
       " 887: 1,\n",
       " 888: 1,\n",
       " 889: 1,\n",
       " 890: 1,\n",
       " 891: 1,\n",
       " 892: 1,\n",
       " 893: 1,\n",
       " 894: 1,\n",
       " 895: 1,\n",
       " 896: 1,\n",
       " 897: 1,\n",
       " 898: 1,\n",
       " 899: 1,\n",
       " 900: 1,\n",
       " 901: 1,\n",
       " 902: 1,\n",
       " 903: 1,\n",
       " 904: 1,\n",
       " 905: 1,\n",
       " 906: 1,\n",
       " 907: 1,\n",
       " 908: 1,\n",
       " 909: 1,\n",
       " 910: 1,\n",
       " 911: 1,\n",
       " 912: 1,\n",
       " 913: 1,\n",
       " 914: 1,\n",
       " 915: 1,\n",
       " 916: 1,\n",
       " 917: 1,\n",
       " 918: 1,\n",
       " 919: 1,\n",
       " 920: 1,\n",
       " 921: 1,\n",
       " 922: 1,\n",
       " 923: 1,\n",
       " 924: 1,\n",
       " 925: 1,\n",
       " 926: 1,\n",
       " 927: 1,\n",
       " 928: 1,\n",
       " 929: 1,\n",
       " 930: 1,\n",
       " 931: 1,\n",
       " 932: 1,\n",
       " 933: 1,\n",
       " 934: 1,\n",
       " 935: 1,\n",
       " 936: 1,\n",
       " 937: 1,\n",
       " 938: 1,\n",
       " 939: 1,\n",
       " 940: 1,\n",
       " 941: 1,\n",
       " 942: 1,\n",
       " 943: 1,\n",
       " 944: 1,\n",
       " 945: 1,\n",
       " 946: 1,\n",
       " 947: 1,\n",
       " 948: 1,\n",
       " 949: 1,\n",
       " 950: 1,\n",
       " 951: 1,\n",
       " 952: 1,\n",
       " 953: 1,\n",
       " 954: 1,\n",
       " 955: 1,\n",
       " 956: 1,\n",
       " 957: 1,\n",
       " 958: 1,\n",
       " 959: 1,\n",
       " 960: 1,\n",
       " 961: 1,\n",
       " 962: 1,\n",
       " 963: 1,\n",
       " 964: 1,\n",
       " 965: 1,\n",
       " 966: 1,\n",
       " 967: 1,\n",
       " 968: 1,\n",
       " 969: 1,\n",
       " 970: 1,\n",
       " 971: 1,\n",
       " 972: 1,\n",
       " 973: 1,\n",
       " 974: 1,\n",
       " 975: 1,\n",
       " 976: 1,\n",
       " 977: 1,\n",
       " 978: 1,\n",
       " 979: 1,\n",
       " 980: 1,\n",
       " 981: 1,\n",
       " 982: 1,\n",
       " 983: 1,\n",
       " 984: 1,\n",
       " 985: 1,\n",
       " 986: 1,\n",
       " 987: 1,\n",
       " 988: 1,\n",
       " 989: 1,\n",
       " 990: 1,\n",
       " 991: 1,\n",
       " 992: 1,\n",
       " 993: 1,\n",
       " 994: 1,\n",
       " 995: 1,\n",
       " 996: 1,\n",
       " 997: 1,\n",
       " 998: 1,\n",
       " 999: 1,\n",
       " 1000: 1,\n",
       " 1001: 1,\n",
       " 1002: 1,\n",
       " 1003: 1,\n",
       " 1004: 1,\n",
       " 1005: 1,\n",
       " 1006: 1,\n",
       " 1007: 1,\n",
       " 1008: 1,\n",
       " 1009: 1,\n",
       " 1010: 1,\n",
       " 1011: 1,\n",
       " 1012: 1,\n",
       " 1013: 1,\n",
       " 1014: 1,\n",
       " 1015: 1,\n",
       " 1016: 1,\n",
       " 1017: 1,\n",
       " 1018: 1,\n",
       " 1019: 1,\n",
       " 1020: 1,\n",
       " 1021: 1,\n",
       " 1022: 1,\n",
       " 1023: 1,\n",
       " 1024: 1,\n",
       " 1025: 1,\n",
       " 1026: 1,\n",
       " 1027: 1,\n",
       " 1028: 1,\n",
       " 1029: 1,\n",
       " 1030: 1,\n",
       " 1031: 1,\n",
       " 1032: 1,\n",
       " 1033: 1,\n",
       " 1034: 1,\n",
       " 1035: 1,\n",
       " 1036: 1,\n",
       " 1037: 1,\n",
       " 1038: 1,\n",
       " 1039: 1,\n",
       " 1040: 1,\n",
       " 1041: 1,\n",
       " 1042: 1,\n",
       " 1043: 1,\n",
       " 1044: 1,\n",
       " 1045: 1,\n",
       " 1046: 1,\n",
       " 1047: 1,\n",
       " 1048: 1,\n",
       " 1049: 1,\n",
       " 1050: 1,\n",
       " 1051: 1,\n",
       " 1052: 1,\n",
       " 1053: 1,\n",
       " 1054: 1,\n",
       " 1055: 1,\n",
       " 1056: 1,\n",
       " 1057: 1,\n",
       " 1058: 1,\n",
       " 1059: 1,\n",
       " 1060: 1,\n",
       " 1061: 1,\n",
       " 1062: 1,\n",
       " 1063: 1,\n",
       " 1064: 1,\n",
       " 1065: 1,\n",
       " 1066: 1,\n",
       " 1067: 1,\n",
       " 1068: 1,\n",
       " 1069: 1,\n",
       " 1070: 1,\n",
       " 1071: 1,\n",
       " 1072: 1,\n",
       " 1073: 1,\n",
       " 1074: 1,\n",
       " 1075: 1,\n",
       " 1076: 1,\n",
       " 1077: 1,\n",
       " 1078: 1,\n",
       " 1079: 1,\n",
       " 1080: 1,\n",
       " 1081: 1,\n",
       " 1082: 1,\n",
       " 1083: 1,\n",
       " 1084: 1,\n",
       " 1085: 1,\n",
       " 1086: 1,\n",
       " 1087: 1,\n",
       " 1088: 1,\n",
       " 1089: 1,\n",
       " 1090: 1,\n",
       " 1091: 1,\n",
       " 1092: 1,\n",
       " 1093: 1,\n",
       " 1094: 1,\n",
       " 1095: 1,\n",
       " 1096: 1,\n",
       " 1097: 1,\n",
       " 1098: 1,\n",
       " 1099: 1,\n",
       " 1100: 1,\n",
       " 1101: 1,\n",
       " 1102: 1,\n",
       " 1103: 1,\n",
       " 1104: 1,\n",
       " 1105: 1,\n",
       " 1106: 1,\n",
       " 1107: 1,\n",
       " 1108: 1,\n",
       " 1109: 1,\n",
       " 1110: 1,\n",
       " 1111: 1,\n",
       " 1112: 1,\n",
       " 1113: 1,\n",
       " 1114: 1,\n",
       " 1115: 1,\n",
       " 1116: 1,\n",
       " 1117: 1,\n",
       " 1118: 1,\n",
       " 1119: 1,\n",
       " 1120: 1,\n",
       " 1121: 1,\n",
       " 1122: 1,\n",
       " 1123: 1,\n",
       " 1124: 1,\n",
       " 1125: 1,\n",
       " 1126: 1,\n",
       " 1127: 1,\n",
       " 1128: 1,\n",
       " 1129: 1,\n",
       " 1130: 1,\n",
       " 1131: 1,\n",
       " 1132: 1,\n",
       " 1133: 1,\n",
       " 1134: 1,\n",
       " 1135: 1,\n",
       " 1136: 1,\n",
       " 1137: 1,\n",
       " 1138: 1,\n",
       " 1139: 1,\n",
       " 1140: 1,\n",
       " 1141: 1,\n",
       " 1142: 1,\n",
       " 1143: 1,\n",
       " 1144: 1,\n",
       " 1145: 1,\n",
       " 1146: 1,\n",
       " 1147: 1,\n",
       " 1148: 1,\n",
       " 1149: 1,\n",
       " 1150: 1,\n",
       " 1151: 1,\n",
       " 1152: 1,\n",
       " 1153: 1,\n",
       " 1154: 1,\n",
       " 1155: 1,\n",
       " 1156: 1,\n",
       " 1157: 1,\n",
       " 1158: 1,\n",
       " 1159: 1,\n",
       " 1160: 1,\n",
       " 1161: 1,\n",
       " 1162: 1,\n",
       " 1163: 1,\n",
       " 1164: 1,\n",
       " 1165: 1,\n",
       " 1166: 1,\n",
       " 1167: 1,\n",
       " 1168: 1,\n",
       " 1169: 1,\n",
       " 1170: 1,\n",
       " 1171: 1,\n",
       " 1172: 1,\n",
       " 1173: 1,\n",
       " 1174: 1,\n",
       " 1175: 1,\n",
       " 1176: 1,\n",
       " 1177: 1,\n",
       " 1178: 1,\n",
       " 1179: 1,\n",
       " 1180: 1,\n",
       " 1181: 1,\n",
       " 1182: 1,\n",
       " 1183: 1,\n",
       " 1184: 1,\n",
       " 1185: 1,\n",
       " 1186: 1,\n",
       " 1187: 1,\n",
       " 1188: 1,\n",
       " 1189: 1,\n",
       " 1190: 1,\n",
       " 1191: 1,\n",
       " 1192: 1,\n",
       " 1193: 1,\n",
       " 1194: 1,\n",
       " 1195: 1,\n",
       " 1196: 1,\n",
       " 1197: 1,\n",
       " 1198: 1,\n",
       " 1199: 1,\n",
       " 1200: 1,\n",
       " 1201: 1,\n",
       " 1202: 1,\n",
       " 1203: 1,\n",
       " 1204: 1,\n",
       " 1205: 1,\n",
       " 1206: 1,\n",
       " 1207: 1,\n",
       " 1208: 1,\n",
       " 1209: 1,\n",
       " 1210: 1,\n",
       " 1211: 1,\n",
       " 1212: 1,\n",
       " 1213: 1,\n",
       " 1214: 1,\n",
       " 1215: 1,\n",
       " 1216: 1,\n",
       " 1217: 1,\n",
       " 1218: 1,\n",
       " 1219: 1,\n",
       " 1220: 1,\n",
       " 1221: 1,\n",
       " 1222: 1,\n",
       " 1223: 1,\n",
       " 1224: 1,\n",
       " 1225: 1,\n",
       " 1226: 1,\n",
       " 1227: 1,\n",
       " 1228: 1,\n",
       " 1229: 1,\n",
       " 1230: 1,\n",
       " 1231: 1,\n",
       " 1232: 1,\n",
       " 1233: 1,\n",
       " 1234: 1,\n",
       " 1235: 1,\n",
       " 1236: 1,\n",
       " 1237: 1,\n",
       " 1238: 1,\n",
       " 1239: 1,\n",
       " 1240: 1,\n",
       " 1241: 1,\n",
       " 1242: 1,\n",
       " 1243: 1,\n",
       " 1244: 1,\n",
       " 1245: 1,\n",
       " 1246: 1,\n",
       " 1247: 1,\n",
       " 1248: 1,\n",
       " 1249: 1,\n",
       " 1250: 1,\n",
       " 1251: 1,\n",
       " 1252: 1,\n",
       " 1253: 1,\n",
       " 1254: 1,\n",
       " 1255: 1,\n",
       " 1256: 1,\n",
       " 1257: 1,\n",
       " 1258: 1,\n",
       " 1259: 1,\n",
       " 1260: 1,\n",
       " 1261: 1,\n",
       " 1262: 1,\n",
       " 1263: 1,\n",
       " 1264: 1,\n",
       " 1265: 1,\n",
       " 1266: 1,\n",
       " 1267: 1,\n",
       " 1268: 1,\n",
       " 1269: 1,\n",
       " 1270: 1,\n",
       " 1271: 1,\n",
       " 1272: 1,\n",
       " 1273: 1,\n",
       " 1274: 1,\n",
       " 1275: 1,\n",
       " 1276: 1,\n",
       " 1277: 1,\n",
       " 1278: 1,\n",
       " 1279: 1,\n",
       " 1280: 1,\n",
       " 1281: 1,\n",
       " 1282: 1,\n",
       " 1283: 1,\n",
       " 1284: 1,\n",
       " 1285: 1,\n",
       " 1286: 1,\n",
       " 1287: 1,\n",
       " 1288: 1,\n",
       " 1289: 1,\n",
       " 1290: 1,\n",
       " 1291: 1,\n",
       " 1292: 1,\n",
       " 1293: 1,\n",
       " 1294: 1,\n",
       " 1295: 1,\n",
       " 1296: 1,\n",
       " 1297: 1,\n",
       " 1298: 1,\n",
       " 1299: 1,\n",
       " 1300: 1,\n",
       " 1301: 1,\n",
       " 1302: 1,\n",
       " 1303: 1,\n",
       " 1304: 1,\n",
       " 1305: 1,\n",
       " 1306: 1,\n",
       " 1307: 1,\n",
       " 1308: 1,\n",
       " 1309: 1,\n",
       " ...}"
      ]
     },
     "execution_count": 53,
     "metadata": {},
     "output_type": "execute_result"
    }
   ],
   "source": [
    "dict(df['DEAD'])"
   ]
  },
  {
   "cell_type": "code",
   "execution_count": 54,
   "metadata": {
    "id": "033e6f99",
    "outputId": "4df3ac09-fcc9-4d9b-ed6d-ad8fc6e2567d"
   },
   "outputs": [
    {
     "data": {
      "text/plain": [
       "Text(0, 0.5, 'Count')"
      ]
     },
     "execution_count": 54,
     "metadata": {},
     "output_type": "execute_result"
    },
    {
     "data": {
      "image/png": "[encoded data removed]",
      "text/plain": [
       "<Figure size 640x480 with 1 Axes>"
      ]
     },
     "metadata": {},
     "output_type": "display_data"
    }
   ],
   "source": [
    "D = df['DEAD']\n",
    "D = D.replace(1, \"Dead\")\n",
    "D = D.replace(2, \"Alive\")\n",
    "fig, ax = plt.subplots()\n",
    "ax.yaxis.set_major_formatter(FormatStrFormatter('%.f'))\n",
    "plt.xticks(fontsize=15)\n",
    "plt.yticks(fontsize=15)\n",
    "plt.title('Deaths Count', color = '#800000', fontsize = 20)\n",
    "sns.countplot(x=D, palette = ['#990000',\"#0a75ad\"])\n",
    "plt.xlabel(\"Dead or Alive\", fontsize=15)\n",
    "plt.ylabel(\"Count\", fontsize=15)"
   ]
  },
  {
   "cell_type": "code",
   "execution_count": 55,
   "metadata": {
    "id": "55608910",
    "outputId": "5aa89b32-2524-438d-858b-c90be2fac2e0"
   },
   "outputs": [
    {
     "ename": "ValueError",
     "evalue": "'label' must be of length 'x'",
     "output_type": "error",
     "traceback": [
      "\u001b[1;31m---------------------------------------------------------------------------\u001b[0m",
      "\u001b[1;31mValueError\u001b[0m                                Traceback (most recent call last)",
      "Cell \u001b[1;32mIn[55], line 5\u001b[0m\n\u001b[0;32m      3\u001b[0m colors \u001b[38;5;241m=\u001b[39m [\u001b[38;5;124m'\u001b[39m\u001b[38;5;124m#0a75ad\u001b[39m\u001b[38;5;124m'\u001b[39m, \u001b[38;5;124m'\u001b[39m\u001b[38;5;124m#990000\u001b[39m\u001b[38;5;124m'\u001b[39m]\n\u001b[0;32m      4\u001b[0m plt\u001b[38;5;241m.\u001b[39mfigure(figsize \u001b[38;5;241m=\u001b[39m (\u001b[38;5;241m10\u001b[39m,\u001b[38;5;241m10\u001b[39m))\n\u001b[1;32m----> 5\u001b[0m plt\u001b[38;5;241m.\u001b[39mpie(sizes, labels\u001b[38;5;241m=\u001b[39mlabels, autopct\u001b[38;5;241m=\u001b[39m\u001b[38;5;124m'\u001b[39m\u001b[38;5;132;01m%1.1f\u001b[39;00m\u001b[38;5;132;01m%%\u001b[39;00m\u001b[38;5;124m'\u001b[39m, textprops\u001b[38;5;241m=\u001b[39m{\u001b[38;5;124m'\u001b[39m\u001b[38;5;124mfontsize\u001b[39m\u001b[38;5;124m'\u001b[39m:\u001b[38;5;241m20\u001b[39m, \u001b[38;5;124m'\u001b[39m\u001b[38;5;124mcolor\u001b[39m\u001b[38;5;124m'\u001b[39m:\u001b[38;5;124m\"\u001b[39m\u001b[38;5;124mblack\u001b[39m\u001b[38;5;124m\"\u001b[39m}, colors \u001b[38;5;241m=\u001b[39m colors,\n\u001b[0;32m      6\u001b[0m         explode\u001b[38;5;241m=\u001b[39m[\u001b[38;5;241m0.05\u001b[39m, \u001b[38;5;241m0.05\u001b[39m])\n\u001b[0;32m      7\u001b[0m plt\u001b[38;5;241m.\u001b[39mtitle(\u001b[38;5;124m'\u001b[39m\u001b[38;5;124mDeath Percentage\u001b[39m\u001b[38;5;124m'\u001b[39m,color \u001b[38;5;241m=\u001b[39m \u001b[38;5;124m'\u001b[39m\u001b[38;5;124m#800000\u001b[39m\u001b[38;5;124m'\u001b[39m,fontsize \u001b[38;5;241m=\u001b[39m \u001b[38;5;241m30\u001b[39m)\n\u001b[0;32m      8\u001b[0m plt\u001b[38;5;241m.\u001b[39mlegend(df[\u001b[38;5;124m'\u001b[39m\u001b[38;5;124mDEAD\u001b[39m\u001b[38;5;124m'\u001b[39m]\u001b[38;5;241m.\u001b[39mvalue_counts(), loc \u001b[38;5;241m=\u001b[39m \u001b[38;5;124m'\u001b[39m\u001b[38;5;124mlower right\u001b[39m\u001b[38;5;124m'\u001b[39m, title \u001b[38;5;241m=\u001b[39m \u001b[38;5;124m'\u001b[39m\u001b[38;5;124mDeath Rate\u001b[39m\u001b[38;5;124m'\u001b[39m)\n",
      "File \u001b[1;32m~\\anaconda3\\Lib\\site-packages\\matplotlib\\pyplot.py:3546\u001b[0m, in \u001b[0;36mpie\u001b[1;34m(x, explode, labels, colors, autopct, pctdistance, shadow, labeldistance, startangle, radius, counterclock, wedgeprops, textprops, center, frame, rotatelabels, normalize, hatch, data)\u001b[0m\n\u001b[0;32m   3523\u001b[0m \u001b[38;5;129m@_copy_docstring_and_deprecators\u001b[39m(Axes\u001b[38;5;241m.\u001b[39mpie)\n\u001b[0;32m   3524\u001b[0m \u001b[38;5;28;01mdef\u001b[39;00m \u001b[38;5;21mpie\u001b[39m(\n\u001b[0;32m   3525\u001b[0m     x: ArrayLike,\n\u001b[1;32m   (...)\u001b[0m\n\u001b[0;32m   3544\u001b[0m     data\u001b[38;5;241m=\u001b[39m\u001b[38;5;28;01mNone\u001b[39;00m,\n\u001b[0;32m   3545\u001b[0m ) \u001b[38;5;241m-\u001b[39m\u001b[38;5;241m>\u001b[39m \u001b[38;5;28mtuple\u001b[39m[\u001b[38;5;28mlist\u001b[39m[Wedge], \u001b[38;5;28mlist\u001b[39m[Text]] \u001b[38;5;241m|\u001b[39m \u001b[38;5;28mtuple\u001b[39m[\u001b[38;5;28mlist\u001b[39m[Wedge], \u001b[38;5;28mlist\u001b[39m[Text], \u001b[38;5;28mlist\u001b[39m[Text]]:\n\u001b[1;32m-> 3546\u001b[0m     \u001b[38;5;28;01mreturn\u001b[39;00m gca()\u001b[38;5;241m.\u001b[39mpie(\n\u001b[0;32m   3547\u001b[0m         x,\n\u001b[0;32m   3548\u001b[0m         explode\u001b[38;5;241m=\u001b[39mexplode,\n\u001b[0;32m   3549\u001b[0m         labels\u001b[38;5;241m=\u001b[39mlabels,\n\u001b[0;32m   3550\u001b[0m         colors\u001b[38;5;241m=\u001b[39mcolors,\n\u001b[0;32m   3551\u001b[0m         autopct\u001b[38;5;241m=\u001b[39mautopct,\n\u001b[0;32m   3552\u001b[0m         pctdistance\u001b[38;5;241m=\u001b[39mpctdistance,\n\u001b[0;32m   3553\u001b[0m         shadow\u001b[38;5;241m=\u001b[39mshadow,\n\u001b[0;32m   3554\u001b[0m         labeldistance\u001b[38;5;241m=\u001b[39mlabeldistance,\n\u001b[0;32m   3555\u001b[0m         startangle\u001b[38;5;241m=\u001b[39mstartangle,\n\u001b[0;32m   3556\u001b[0m         radius\u001b[38;5;241m=\u001b[39mradius,\n\u001b[0;32m   3557\u001b[0m         counterclock\u001b[38;5;241m=\u001b[39mcounterclock,\n\u001b[0;32m   3558\u001b[0m         wedgeprops\u001b[38;5;241m=\u001b[39mwedgeprops,\n\u001b[0;32m   3559\u001b[0m         textprops\u001b[38;5;241m=\u001b[39mtextprops,\n\u001b[0;32m   3560\u001b[0m         center\u001b[38;5;241m=\u001b[39mcenter,\n\u001b[0;32m   3561\u001b[0m         frame\u001b[38;5;241m=\u001b[39mframe,\n\u001b[0;32m   3562\u001b[0m         rotatelabels\u001b[38;5;241m=\u001b[39mrotatelabels,\n\u001b[0;32m   3563\u001b[0m         normalize\u001b[38;5;241m=\u001b[39mnormalize,\n\u001b[0;32m   3564\u001b[0m         hatch\u001b[38;5;241m=\u001b[39mhatch,\n\u001b[0;32m   3565\u001b[0m         \u001b[38;5;241m*\u001b[39m\u001b[38;5;241m*\u001b[39m({\u001b[38;5;124m\"\u001b[39m\u001b[38;5;124mdata\u001b[39m\u001b[38;5;124m\"\u001b[39m: data} \u001b[38;5;28;01mif\u001b[39;00m data \u001b[38;5;129;01mis\u001b[39;00m \u001b[38;5;129;01mnot\u001b[39;00m \u001b[38;5;28;01mNone\u001b[39;00m \u001b[38;5;28;01melse\u001b[39;00m {}),\n\u001b[0;32m   3566\u001b[0m     )\n",
      "File \u001b[1;32m~\\anaconda3\\Lib\\site-packages\\matplotlib\\__init__.py:1465\u001b[0m, in \u001b[0;36m_preprocess_data.<locals>.inner\u001b[1;34m(ax, data, *args, **kwargs)\u001b[0m\n\u001b[0;32m   1462\u001b[0m \u001b[38;5;129m@functools\u001b[39m\u001b[38;5;241m.\u001b[39mwraps(func)\n\u001b[0;32m   1463\u001b[0m \u001b[38;5;28;01mdef\u001b[39;00m \u001b[38;5;21minner\u001b[39m(ax, \u001b[38;5;241m*\u001b[39margs, data\u001b[38;5;241m=\u001b[39m\u001b[38;5;28;01mNone\u001b[39;00m, \u001b[38;5;241m*\u001b[39m\u001b[38;5;241m*\u001b[39mkwargs):\n\u001b[0;32m   1464\u001b[0m     \u001b[38;5;28;01mif\u001b[39;00m data \u001b[38;5;129;01mis\u001b[39;00m \u001b[38;5;28;01mNone\u001b[39;00m:\n\u001b[1;32m-> 1465\u001b[0m         \u001b[38;5;28;01mreturn\u001b[39;00m func(ax, \u001b[38;5;241m*\u001b[39m\u001b[38;5;28mmap\u001b[39m(sanitize_sequence, args), \u001b[38;5;241m*\u001b[39m\u001b[38;5;241m*\u001b[39mkwargs)\n\u001b[0;32m   1467\u001b[0m     bound \u001b[38;5;241m=\u001b[39m new_sig\u001b[38;5;241m.\u001b[39mbind(ax, \u001b[38;5;241m*\u001b[39margs, \u001b[38;5;241m*\u001b[39m\u001b[38;5;241m*\u001b[39mkwargs)\n\u001b[0;32m   1468\u001b[0m     auto_label \u001b[38;5;241m=\u001b[39m (bound\u001b[38;5;241m.\u001b[39marguments\u001b[38;5;241m.\u001b[39mget(label_namer)\n\u001b[0;32m   1469\u001b[0m                   \u001b[38;5;129;01mor\u001b[39;00m bound\u001b[38;5;241m.\u001b[39mkwargs\u001b[38;5;241m.\u001b[39mget(label_namer))\n",
      "File \u001b[1;32m~\\anaconda3\\Lib\\site-packages\\matplotlib\\axes\\_axes.py:3237\u001b[0m, in \u001b[0;36mAxes.pie\u001b[1;34m(self, x, explode, labels, colors, autopct, pctdistance, shadow, labeldistance, startangle, radius, counterclock, wedgeprops, textprops, center, frame, rotatelabels, normalize, hatch)\u001b[0m\n\u001b[0;32m   3235\u001b[0m     explode \u001b[38;5;241m=\u001b[39m [\u001b[38;5;241m0\u001b[39m] \u001b[38;5;241m*\u001b[39m \u001b[38;5;28mlen\u001b[39m(x)\n\u001b[0;32m   3236\u001b[0m \u001b[38;5;28;01mif\u001b[39;00m \u001b[38;5;28mlen\u001b[39m(x) \u001b[38;5;241m!=\u001b[39m \u001b[38;5;28mlen\u001b[39m(labels):\n\u001b[1;32m-> 3237\u001b[0m     \u001b[38;5;28;01mraise\u001b[39;00m \u001b[38;5;167;01mValueError\u001b[39;00m(\u001b[38;5;124m\"\u001b[39m\u001b[38;5;124m'\u001b[39m\u001b[38;5;124mlabel\u001b[39m\u001b[38;5;124m'\u001b[39m\u001b[38;5;124m must be of length \u001b[39m\u001b[38;5;124m'\u001b[39m\u001b[38;5;124mx\u001b[39m\u001b[38;5;124m'\u001b[39m\u001b[38;5;124m\"\u001b[39m)\n\u001b[0;32m   3238\u001b[0m \u001b[38;5;28;01mif\u001b[39;00m \u001b[38;5;28mlen\u001b[39m(x) \u001b[38;5;241m!=\u001b[39m \u001b[38;5;28mlen\u001b[39m(explode):\n\u001b[0;32m   3239\u001b[0m     \u001b[38;5;28;01mraise\u001b[39;00m \u001b[38;5;167;01mValueError\u001b[39;00m(\u001b[38;5;124m\"\u001b[39m\u001b[38;5;124m'\u001b[39m\u001b[38;5;124mexplode\u001b[39m\u001b[38;5;124m'\u001b[39m\u001b[38;5;124m must be of length \u001b[39m\u001b[38;5;124m'\u001b[39m\u001b[38;5;124mx\u001b[39m\u001b[38;5;124m'\u001b[39m\u001b[38;5;124m\"\u001b[39m)\n",
      "\u001b[1;31mValueError\u001b[0m: 'label' must be of length 'x'"
     ]
    },
    {
     "data": {
      "image/png": "[encoded data removed]",
      "text/plain": [
       "<Figure size 1000x1000 with 1 Axes>"
      ]
     },
     "metadata": {},
     "output_type": "display_data"
    }
   ],
   "source": [
    "labels = [\"Alive\", \"Dead\"]\n",
    "sizes = df['DEAD'].value_counts()\n",
    "colors = ['#0a75ad', '#990000']\n",
    "plt.figure(figsize = (10,10))\n",
    "plt.pie(sizes, labels=labels, autopct='%1.1f%%', textprops={'fontsize':20, 'color':\"black\"}, colors = colors,\n",
    "        explode=[0.05, 0.05])\n",
    "plt.title('Death Percentage',color = '#800000',fontsize = 30)\n",
    "plt.legend(df['DEAD'].value_counts(), loc = 'lower right', title = 'Death Rate')\n",
    "plt.show()"
   ]
  },
  {
   "cell_type": "markdown",
   "metadata": {
    "id": "49baa6c4"
   },
   "source": [
    "### We can see that 76,942 patients have died representing 7.3% of the total number of patients in our dataset."
   ]
  },
  {
   "cell_type": "markdown",
   "metadata": {
    "id": "086fde38"
   },
   "source": [
    "## 2-  And, did they all have the same results?"
   ]
  },
  {
   "cell_type": "code",
   "execution_count": null,
   "metadata": {
    "id": "19a59819",
    "outputId": "cab2ce2d-e6a5-47fa-ca2f-d56683128d6a"
   },
   "outputs": [],
   "source": [
    "df_dead = df[df[\"DEAD\"] == 1]\n",
    "df_dead"
   ]
  },
  {
   "cell_type": "code",
   "execution_count": null,
   "metadata": {
    "id": "aba51512",
    "outputId": "ea6b6849-86fb-48b4-f046-583e4452323d"
   },
   "outputs": [],
   "source": [
    "df_dead[\"CLASIFFICATION_FINAL\"].value_counts()"
   ]
  },
  {
   "cell_type": "markdown",
   "metadata": {
    "id": "09b25e55"
   },
   "source": [
    "### We can see that we have dead patients with all \"Classification\" values starting from 1 till we go to 7, meaning we have dead people who were not diagnosed with Covid 19, and hence we can say that **the dead patients didn't have the same results with a majority of whom were being diagnosed with Covid 19**."
   ]
  },
  {
   "cell_type": "markdown",
   "metadata": {
    "id": "28e3f665"
   },
   "source": [
    "## 3- What is the percentage of Covid carriers among those dead patients?"
   ]
  },
  {
   "cell_type": "code",
   "execution_count": null,
   "metadata": {
    "id": "5a6093d1"
   },
   "outputs": [],
   "source": [
    "def Covid_or_Not(val):\n",
    "    if val >= 4:\n",
    "        return \"Not a Covid 19 Carrier\"\n",
    "    else:\n",
    "        return \"A Covid 19 Carrier\""
   ]
  },
  {
   "cell_type": "code",
   "execution_count": null,
   "metadata": {
    "id": "2b99f092"
   },
   "outputs": [],
   "source": [
    "df_dead['Covid_or_Not'] = df_dead[\"CLASIFFICATION_FINAL\"].apply(Covid_or_Not)"
   ]
  },
  {
   "cell_type": "code",
   "execution_count": null,
   "metadata": {
    "id": "933e5307",
    "outputId": "d327206c-4ecc-441c-c975-ab27888bc25a"
   },
   "outputs": [],
   "source": [
    "df_dead"
   ]
  },
  {
   "cell_type": "code",
   "execution_count": null,
   "metadata": {
    "id": "f17e177d",
    "outputId": "0228efd5-58c1-407f-bb3f-b3479ec54019"
   },
   "outputs": [],
   "source": [
    "labels = [\"Carriers\", \"Non Carriers\"]\n",
    "sizes = df_dead['Covid_or_Not'].value_counts()\n",
    "colors = ['#468499', '#ff7373']\n",
    "plt.figure(figsize = (10,10))\n",
    "plt.pie(sizes, labels=labels, autopct='%1.1f%%', textprops={'fontsize':20}, colors = colors)\n",
    "plt.title('Covid Carriers Percentage among Dead Patients', color = 'Maroon', fontsize = 30)\n",
    "plt.legend(df_dead['Covid_or_Not'].value_counts(), loc = 'lower right', title = 'Covid Carriers')\n",
    "plt.show()"
   ]
  },
  {
   "cell_type": "code",
   "execution_count": null,
   "metadata": {
    "id": "8c9249b2",
    "outputId": "c3074401-5eee-4bfa-abc4-09025084794b"
   },
   "outputs": [],
   "source": [
    "df_dead[\"Covid_or_Not\"].value_counts()"
   ]
  },
  {
   "cell_type": "markdown",
   "metadata": {
    "id": "7272efe6"
   },
   "source": [
    "### We can see that there are 54,236 patients who were carriers of Covid 19 among the dead with a percentage of 70.5%.\n",
    "\n",
    "### That indicates the horrifying effect of the pandemic on the death rates back then!!"
   ]
  },
  {
   "cell_type": "markdown",
   "metadata": {
    "id": "a54a4035"
   },
   "source": [
    "## 4- What about the percentage of Covid carriers among all the patients?"
   ]
  },
  {
   "cell_type": "code",
   "execution_count": null,
   "metadata": {
    "id": "0ee45157"
   },
   "outputs": [],
   "source": [
    "df['Covid_or_Not'] = df[\"CLASIFFICATION_FINAL\"].apply(Covid_or_Not)"
   ]
  },
  {
   "cell_type": "code",
   "execution_count": null,
   "metadata": {
    "id": "8b4948e2",
    "outputId": "d9a52654-f5ac-4082-fd1c-3b460b90c557"
   },
   "outputs": [],
   "source": [
    "labels = [\"Non Carriers\", \"Carriers\"]\n",
    "sizes = df['Covid_or_Not'].value_counts()\n",
    "colors = ['#ff7373', '#468499']\n",
    "plt.figure(figsize = (10,10))\n",
    "plt.pie(sizes, labels=labels, autopct='%1.1f%%', textprops={'fontsize':20}, colors = colors)\n",
    "plt.title('Covid Carriers Percentage among All Patients', color = 'Maroon', fontsize = 30)\n",
    "plt.legend(df['Covid_or_Not'].value_counts(), loc = 'lower right', title = 'Covid Carriers')\n",
    "plt.show()"
   ]
  },
  {
   "cell_type": "code",
   "execution_count": null,
   "metadata": {
    "id": "dbdd15ae",
    "outputId": "709b54a0-abb9-48bf-f98e-5816afa2676a"
   },
   "outputs": [],
   "source": [
    "df[\"Covid_or_Not\"].value_counts()"
   ]
  },
  {
   "cell_type": "markdown",
   "metadata": {
    "id": "29ad7555"
   },
   "source": [
    "### We can see that there are 391,979 patients who were carriers of Covid 19 among all patients with a percentage of 37.4%.\n",
    "\n",
    "### That indicates that the majority of the patients were non carriers of Covid 19."
   ]
  },
  {
   "cell_type": "markdown",
   "metadata": {
    "id": "0ec42612"
   },
   "source": [
    "## 5- What is the percentage of death among those carriers?"
   ]
  },
  {
   "cell_type": "code",
   "execution_count": null,
   "metadata": {
    "id": "9ff9bdc6"
   },
   "outputs": [],
   "source": [
    "Covid_deaths = df[(df['Covid_or_Not'] == \"A Covid 19 Carrier\")]"
   ]
  },
  {
   "cell_type": "code",
   "execution_count": null,
   "metadata": {
    "id": "657d79ea",
    "outputId": "8fd4308a-ca94-418f-f457-cdd1824efc79"
   },
   "outputs": [],
   "source": [
    "Covid_deaths[\"DEAD\"].value_counts()"
   ]
  },
  {
   "cell_type": "code",
   "execution_count": null,
   "metadata": {
    "id": "73a6289d",
    "outputId": "eb753399-b8e9-4e63-c7a9-995182449c49"
   },
   "outputs": [],
   "source": [
    "labels = [\"Alive\", \"Dead\"]\n",
    "sizes = Covid_deaths['DEAD'].value_counts()\n",
    "colors = ['#0a75ad', '#990000']\n",
    "plt.figure(figsize = (10,10))\n",
    "plt.pie(sizes, labels=labels, autopct='%1.1f%%', textprops={'fontsize':20, 'color':\"black\"}, colors = colors,\n",
    "        explode=[0.05, 0.05])\n",
    "plt.title('Death Percentage among Covid Carriers',color = 'red',fontsize = 30)\n",
    "plt.legend(Covid_deaths['DEAD'].value_counts(), loc = 'lower right', title = 'Death Rate')\n",
    "plt.show()"
   ]
  },
  {
   "cell_type": "markdown",
   "metadata": {
    "id": "a4902b73"
   },
   "source": [
    "### Here we can see that the 54,236 patients with Covid 19 who have died, reperesented only 13.8% of all the carriers, which means that 86.2% were treated successfully, and the treatment was going well to a certain degree back then accros the world."
   ]
  },
  {
   "cell_type": "markdown",
   "metadata": {
    "id": "e5aa35c9"
   },
   "source": [
    "## 6- Is it true that age has some impact?"
   ]
  },
  {
   "cell_type": "code",
   "execution_count": null,
   "metadata": {
    "id": "24fc6956",
    "outputId": "1cd1b814-1499-41b4-a4f9-1e045f24b2e1"
   },
   "outputs": [],
   "source": [
    "# Let's first check our age distribution\n",
    "sns.histplot(x=df.AGE, kde = True, color = \"blue\")\n",
    "plt.title('Age Distribution', color = 'blue', fontsize = 20)\n",
    "plt.show()"
   ]
  },
  {
   "cell_type": "markdown",
   "metadata": {
    "id": "b721b5e8"
   },
   "source": [
    "### We notice that the majoriy are of people in their 20s up to late 50s."
   ]
  },
  {
   "cell_type": "code",
   "execution_count": null,
   "metadata": {
    "id": "78ff043f",
    "outputId": "ed7d61f0-4b91-4ba8-bd79-1878a5629efd"
   },
   "outputs": [],
   "source": [
    "plt.figure(figsize=(15,8))\n",
    "sns.lineplot(data=df, x=\"AGE\", y=\"Covid_or_Not\")\n",
    "plt.title('Effect of Age on Covid Classification', color = 'blue', fontsize = 30)\n",
    "plt.show()"
   ]
  },
  {
   "cell_type": "markdown",
   "metadata": {
    "id": "e5f9b11c"
   },
   "source": [
    "### As we can see that as age increases probability of getting diagnosed with Covid increases (with the exception of the suspected missing values we've already discussed of ages between 100 and 120), which proves that **indeed age has an impact**."
   ]
  },
  {
   "cell_type": "markdown",
   "metadata": {
    "id": "cf150373"
   },
   "source": [
    "## 7- Does obesity has an impact?"
   ]
  },
  {
   "cell_type": "code",
   "execution_count": null,
   "metadata": {
    "id": "8ba684f8"
   },
   "outputs": [],
   "source": [
    "df_mod = df.copy()"
   ]
  },
  {
   "cell_type": "code",
   "execution_count": null,
   "metadata": {
    "id": "886acfde"
   },
   "outputs": [],
   "source": [
    "df_mod['OBESITY'] = [\"Obese\" if i==1 else \"Not Obese\" for i in df.OBESITY]"
   ]
  },
  {
   "cell_type": "code",
   "execution_count": null,
   "metadata": {
    "id": "a0e1abcd",
    "outputId": "b348f077-61d9-4a93-df66-71c276dcceeb"
   },
   "outputs": [],
   "source": [
    "plt.figure(figsize=(15,8))\n",
    "sns.countplot(data=df_mod, x=\"OBESITY\", hue=\"Covid_or_Not\", palette = ['#468499', '#ff7373'])\n",
    "plt.title('Effect of Obesity on Covid Classification', color = 'black', fontsize = 30)\n",
    "plt.show()"
   ]
  },
  {
   "cell_type": "markdown",
   "metadata": {
    "id": "4f551337"
   },
   "source": [
    "### We can see that for patients with obesity the ratio is so close although they are considered a minority; but that gives us the indication that **the percentage of patients carrying the disease among them is pretty high**, while for patients who don't suffer from obesity the ratio is about 1:2, meaning that **for every 100 patients who are not suffering from obesity there is a chance for only half of them to carry Covid**."
   ]
  },
  {
   "cell_type": "markdown",
   "metadata": {
    "id": "21e0fe52"
   },
   "source": [
    "### So according to our analysis, **people who are suffering form obesity are more likely to carry Covid**."
   ]
  },
  {
   "cell_type": "markdown",
   "metadata": {
    "id": "412fee97"
   },
   "source": [
    "## 8- Does gender has any impact?"
   ]
  },
  {
   "cell_type": "code",
   "execution_count": null,
   "metadata": {
    "id": "373edf80"
   },
   "outputs": [],
   "source": [
    "df_mod['SEX'] = [\"Female\" if i==1 else \"Male\" for i in df.SEX]"
   ]
  },
  {
   "cell_type": "code",
   "execution_count": null,
   "metadata": {
    "id": "42006481",
    "outputId": "431c0995-1892-485e-8975-3caeffd6db84"
   },
   "outputs": [],
   "source": [
    "plt.figure(figsize=(15,8))\n",
    "sns.countplot(data=df_mod, x=\"SEX\", hue=\"Covid_or_Not\", palette = ['#468499', '#ff7373'])\n",
    "plt.title('Effect of Gender on Covid Classification', color = 'black', fontsize = 30)\n",
    "plt.show()"
   ]
  },
  {
   "cell_type": "markdown",
   "metadata": {
    "id": "398b6f00"
   },
   "source": [
    "### We can see that **gender has no effect or impact**, with males being slightly more likely to carry Covid than females but the difference doesn't really matter."
   ]
  },
  {
   "cell_type": "markdown",
   "metadata": {
    "id": "4069186d"
   },
   "source": [
    "## 9- Does pregnancy has any impact?"
   ]
  },
  {
   "cell_type": "code",
   "execution_count": null,
   "metadata": {
    "id": "afd87b59",
    "outputId": "57c81f38-3981-4208-eb68-7926d77a3e94"
   },
   "outputs": [],
   "source": [
    "df_preg = df[df[\"SEX\"] == 1]\n",
    "df_preg[\"PREGNANT\"].value_counts()"
   ]
  },
  {
   "cell_type": "code",
   "execution_count": null,
   "metadata": {
    "id": "9842a54c"
   },
   "outputs": [],
   "source": [
    "df_preg['PREGNANT'] = [\"Pregnant\" if i==1 else \"Non Pregnant\" for i in df_preg.PREGNANT]"
   ]
  },
  {
   "cell_type": "code",
   "execution_count": null,
   "metadata": {
    "id": "3e51c01e",
    "outputId": "ef65d8c8-0680-4c05-e411-9342d3b20c38"
   },
   "outputs": [],
   "source": [
    "plt.figure(figsize=(15,8))\n",
    "sns.countplot(data=df_preg, x=\"PREGNANT\", hue=\"Covid_or_Not\", palette = ['#468499', '#ff7373'])\n",
    "plt.title('Effect of Pregnancy on Covid Classification', color = 'black', fontsize = 30)\n",
    "plt.show()"
   ]
  },
  {
   "cell_type": "markdown",
   "metadata": {
    "id": "bc08a35c"
   },
   "source": [
    "### We can not determine from the above chart; as the pregnant ratio is not visible, during the low amount of pregnant females across our data.\n",
    "\n",
    "### So, let's try another approach:"
   ]
  },
  {
   "cell_type": "code",
   "execution_count": null,
   "metadata": {
    "id": "cbb2e35b",
    "outputId": "626b43cb-a60f-491a-cff9-744713adb60a"
   },
   "outputs": [],
   "source": [
    "df_preg[(df_preg['PREGNANT'] == 'Pregnant')]['Covid_or_Not'].value_counts()"
   ]
  },
  {
   "cell_type": "code",
   "execution_count": null,
   "metadata": {
    "id": "e169e304",
    "outputId": "5e53a1ee-a2a5-4da3-8cf1-95a935e52701"
   },
   "outputs": [],
   "source": [
    "labels = [\"Not a Covid 19 Carrier\", \"A Covid 19 Carrier\"]\n",
    "sizes = df_preg[(df_preg['PREGNANT'] == 'Pregnant')]['Covid_or_Not'].value_counts()\n",
    "colors = ['#ff7373', '#468499']\n",
    "plt.figure(figsize = (10,10))\n",
    "plt.pie(sizes, labels=labels, autopct='%1.1f%%', textprops={'fontsize':20},\n",
    "        colors = colors,)\n",
    "plt.legend(df_preg[(df_preg['PREGNANT'] == 'Pregnant')]['Covid_or_Not'].value_counts(), loc = 'lower left',\n",
    "           title = 'Covid Carriers')\n",
    "plt.title('Covid Carriers among Pregnant Females', color = 'maroon', fontsize = 25)\n",
    "plt.show()"
   ]
  },
  {
   "cell_type": "code",
   "execution_count": null,
   "metadata": {
    "id": "2f58cec9",
    "outputId": "e9ec9c5c-64b2-4626-966a-5e98c65d934f"
   },
   "outputs": [],
   "source": [
    "df_preg[(df_preg['PREGNANT'] == \"Non Pregnant\")]['Covid_or_Not'].value_counts()"
   ]
  },
  {
   "cell_type": "code",
   "execution_count": null,
   "metadata": {
    "id": "2fdeadb7",
    "outputId": "a52e3707-4d20-4617-bfaf-1ec7466af715"
   },
   "outputs": [],
   "source": [
    "labels = [\"Not a Covid 19 Carrier\", \"A Covid 19 Carrier\"]\n",
    "sizes = df_preg[(df_preg['PREGNANT'] == 'Non Pregnant')]['Covid_or_Not'].value_counts()\n",
    "colors = ['#ff7373', '#468499']\n",
    "plt.figure(figsize = (10,10))\n",
    "plt.pie(sizes, labels=labels, autopct='%1.1f%%', textprops={'fontsize':20},\n",
    "        colors = colors,)\n",
    "plt.legend(df_preg[(df_preg['PREGNANT'] == \"Non Pregnant\")]['Covid_or_Not'].value_counts(), loc = 'lower left',\n",
    "           title = 'Covid Carriers')\n",
    "plt.title('Covid Carriers among Non Pregnant Females', color = 'maroon', fontsize = 25)\n",
    "plt.show()"
   ]
  },
  {
   "cell_type": "markdown",
   "metadata": {
    "id": "e211f568"
   },
   "source": [
    "### From the above two charts, we can see that both percentages are pretty much close.\n",
    "\n",
    "### So based on our analysis here, **we can not see any impact from pregnancy on Covid classification**."
   ]
  },
  {
   "cell_type": "markdown",
   "metadata": {
    "id": "84dbf8c2"
   },
   "source": [
    "## 10- Do other diseases affect the patient classification?"
   ]
  },
  {
   "cell_type": "code",
   "execution_count": null,
   "metadata": {
    "id": "dc6641e5",
    "outputId": "ded751af-7d35-40b6-d9a3-434440c710dc"
   },
   "outputs": [],
   "source": [
    "df_med"
   ]
  },
  {
   "cell_type": "code",
   "execution_count": null,
   "metadata": {
    "id": "3d6bfdff"
   },
   "outputs": [],
   "source": [
    "df_diseases = df_med.drop(columns = [\"PREGNANT\", \"OBESITY\", 'DEAD'])"
   ]
  },
  {
   "cell_type": "code",
   "execution_count": null,
   "metadata": {
    "id": "0446e524",
    "outputId": "db5365b5-4ed8-45f4-8fbe-887dac935262"
   },
   "outputs": [],
   "source": [
    "plt.figure(figsize=(20, 25))\n",
    "index = 1\n",
    "for i in df_diseases.columns:\n",
    "    plt.subplot(5, 2, index)\n",
    "    df_diseases[i] = [\"Yes\" if j==1 else \"No\" for j in df_diseases[i]]\n",
    "    sns.countplot(data=df_diseases, x=i, hue=df[\"Covid_or_Not\"], palette = ['#468499', '#ff7373'])\n",
    "    index += 1\n",
    "plt.show()"
   ]
  },
  {
   "cell_type": "markdown",
   "metadata": {
    "id": "a3010103"
   },
   "source": [
    "### We noticed that the following diseases and habits have the highest impact:\n",
    "#### 1- Pneumonia\n",
    "#### 2- Hypertension\n",
    "#### 3- Diabetes\n",
    "#### 4- Tobacco usage\n",
    "\n",
    "### We also notice that Pneumonia patients are more likely to carry Covid with a higher ratio."
   ]
  },
  {
   "cell_type": "markdown",
   "metadata": {
    "id": "79b139e8"
   },
   "source": [
    "## Let's dig deeper into the 7 classifications:"
   ]
  },
  {
   "cell_type": "code",
   "execution_count": null,
   "metadata": {
    "id": "2e7b6bdd",
    "outputId": "04b0f065-564d-4416-92f2-e55007ee9060"
   },
   "outputs": [],
   "source": [
    "plt.figure(figsize=(20, 25))\n",
    "index = 1\n",
    "for i in df_diseases.columns:\n",
    "    plt.subplot(5, 2, index)\n",
    "    sns.countplot(data=df_diseases, x=i, hue=df['CLASIFFICATION_FINAL'],)\n",
    "\n",
    "    index += 1\n",
    "plt.show()"
   ]
  },
  {
   "cell_type": "markdown",
   "metadata": {
    "id": "eb0fb78c"
   },
   "source": [
    "### We can see that among all the patients of these diseases who also carry Covid, **the 3rd classification is the highest by far**."
   ]
  },
  {
   "cell_type": "markdown",
   "metadata": {
    "id": "cdb58a40"
   },
   "source": [
    "## 11- How many patients were hospitalized?"
   ]
  },
  {
   "cell_type": "code",
   "execution_count": null,
   "metadata": {
    "id": "adeb76b1",
    "outputId": "d434ca50-584e-4e8c-9c52-397ee9a50625",
    "scrolled": true
   },
   "outputs": [],
   "source": [
    "df.columns"
   ]
  },
  {
   "cell_type": "code",
   "execution_count": null,
   "metadata": {
    "id": "13dab2d9",
    "outputId": "ea15cab5-bd92-4f35-b62d-55f3ce39c07d"
   },
   "outputs": [],
   "source": [
    "df['PATIENT_TYPE'].value_counts()"
   ]
  },
  {
   "cell_type": "code",
   "execution_count": null,
   "metadata": {
    "id": "5d322941",
    "outputId": "912bf99a-0b7a-482b-fb24-194a2bb2189a"
   },
   "outputs": [],
   "source": [
    "labels = [\"Not Hospitalized\", \"Hospitalized\"]\n",
    "sizes = df['PATIENT_TYPE'].value_counts()\n",
    "colors = ['#e13433', '#46549d']\n",
    "plt.figure(figsize = (10,10))\n",
    "plt.pie(sizes, labels=labels, autopct='%1.1f%%', textprops={'fontsize':20},\n",
    "        colors = colors,)\n",
    "plt.title('Hospitalized Patients',color = 'black',fontsize = 30)\n",
    "plt.legend(df['PATIENT_TYPE'].value_counts(), loc = 'lower right', title = 'Hospitalized Patients')\n",
    "plt.show()"
   ]
  },
  {
   "cell_type": "markdown",
   "metadata": {
    "id": "8e2192cd"
   },
   "source": [
    "### 200,031 patients were hospitalized with a percentage of 19.1%"
   ]
  },
  {
   "cell_type": "markdown",
   "metadata": {
    "id": "2e7971fa"
   },
   "source": [
    "## 12- How many of them (hospitalized people) have died?"
   ]
  },
  {
   "cell_type": "code",
   "execution_count": null,
   "metadata": {
    "id": "cb24ab02"
   },
   "outputs": [],
   "source": [
    "df_hosp = df[df['PATIENT_TYPE']==2]"
   ]
  },
  {
   "cell_type": "code",
   "execution_count": null,
   "metadata": {
    "id": "8e7fe907"
   },
   "outputs": [],
   "source": [
    "df_hosp['DEAD'] = df_hosp['DEAD'].replace(1, \"Dead\")\n",
    "df_hosp['DEAD'] = df_hosp['DEAD'].replace(0, \"Alive\")"
   ]
  },
  {
   "cell_type": "code",
   "execution_count": null,
   "metadata": {
    "id": "4ebf2742",
    "outputId": "a5e5897a-15e6-4f29-8158-a1050b9bbef8"
   },
   "outputs": [],
   "source": [
    "df_hosp['DEAD'].value_counts()"
   ]
  },
  {
   "cell_type": "code",
   "execution_count": null,
   "metadata": {
    "id": "8457cc88",
    "outputId": "16401238-2ec7-4566-8598-3293598a612e"
   },
   "outputs": [],
   "source": [
    "labels = [\"Alive\", \"Dead\"]\n",
    "sizes = df_hosp['DEAD'].value_counts()\n",
    "colors = ['#0a75ad', '#990000']\n",
    "plt.figure(figsize = (10,10))\n",
    "plt.pie(sizes, labels=labels, autopct='%1.1f%%', textprops={'fontsize':20, 'color':\"black\"}, colors = colors,\n",
    "        explode=[0.1, 0.1])\n",
    "plt.title('Death Rate among Hospitalized People', color = 'red', fontsize = 30)\n",
    "plt.legend(df_hosp['DEAD'].value_counts(), loc = 'lower right', title = 'Death Rate')\n",
    "plt.show()"
   ]
  },
  {
   "cell_type": "markdown",
   "metadata": {
    "id": "5cb3cf84"
   },
   "source": [
    "###  Among 200,031 total hospitalized patients, 70,066 patients have died unfortunately, with a percentage of 35% which is a great margin.\n",
    "\n",
    "### This indicates that the hospitalized people were at high risk and although we lost about 35% of them, we could due to treatment save the rest."
   ]
  },
  {
   "cell_type": "markdown",
   "metadata": {
    "id": "e1e6c29f"
   },
   "source": [
    "### Let's check those 35% for their diseases and compare them to the rest (65%) to see if there were any indications that led to their unfortunate death"
   ]
  },
  {
   "cell_type": "code",
   "execution_count": null,
   "metadata": {
    "id": "85e00494",
    "outputId": "c3070a82-1d41-4aa5-9425-0349f878f082"
   },
   "outputs": [],
   "source": [
    "print(df_diseases.shape)\n",
    "print(df_diseases.columns)"
   ]
  },
  {
   "cell_type": "code",
   "execution_count": null,
   "metadata": {
    "id": "c826c7c4",
    "outputId": "23252466-1506-4db3-b9cf-079e6c91e727"
   },
   "outputs": [],
   "source": [
    "print(df_hosp.shape)\n",
    "print(df_hosp.columns)"
   ]
  },
  {
   "cell_type": "code",
   "execution_count": null,
   "metadata": {
    "id": "bf72a6b4"
   },
   "outputs": [],
   "source": [
    "df_diseases2 = df_hosp.drop(columns = ['USMER', 'MEDICAL_UNIT', 'SEX', 'PATIENT_TYPE', 'DATE_DIED', 'INTUBED',\n",
    "                                      'AGE', \"PREGNANT\", \"OBESITY\",'CLASIFFICATION_FINAL', 'ICU', 'DEAD',\n",
    "                                       'Covid_or_Not'])"
   ]
  },
  {
   "cell_type": "code",
   "execution_count": null,
   "metadata": {
    "id": "c9e3ab05",
    "outputId": "8ec5c2d1-4880-4aed-a318-39e9855d545a"
   },
   "outputs": [],
   "source": [
    "plt.figure(figsize=(20, 25))\n",
    "index = 1\n",
    "for i in df_diseases2.columns:\n",
    "    plt.subplot(5, 2, index)\n",
    "    df_diseases2[i] = [\"Yes\" if j==1 else \"No\" for j in df_diseases2[i]]\n",
    "    sns.countplot(data=df_diseases2, x=i, hue=df_hosp['DEAD'],\n",
    "                  palette = [ '#990000', '#0a75ad'])\n",
    "    index += 1\n",
    "plt.show()"
   ]
  },
  {
   "cell_type": "markdown",
   "metadata": {
    "id": "269f6832"
   },
   "source": [
    "### We can see that most of those 35% didn't have any of those diseases except for those who had the following diseases:\n",
    "#### 1- Pneumonia\n",
    "#### 2- Hypertension\n",
    "#### 3- Diabetes\n",
    "\n",
    "### But we can also notice that the only disease that has a great impact on the death rate among the hospitalized patients is the \"Pneumonia\" disease, which makes perfect sense; as it's a lung diseas in the first place."
   ]
  },
  {
   "cell_type": "markdown",
   "metadata": {
    "id": "95cfd8f9"
   },
   "source": [
    "## 13- How many of the dead patients were hospitalized?"
   ]
  },
  {
   "cell_type": "code",
   "execution_count": null,
   "metadata": {
    "id": "4aec4d23",
    "outputId": "1b0375d0-41f0-4719-c13c-6e6f2c6acbd8"
   },
   "outputs": [],
   "source": [
    "df_dead.PATIENT_TYPE.value_counts()"
   ]
  },
  {
   "cell_type": "code",
   "execution_count": null,
   "metadata": {
    "id": "6b0f59fb",
    "outputId": "c254066f-29c4-40c9-919d-4e0cccf60064"
   },
   "outputs": [],
   "source": [
    "labels = [\"Hospitalized\", \"Not Hospitalized\"]\n",
    "sizes = df_dead.PATIENT_TYPE.value_counts()\n",
    "colors = ['#46549d', '#e13433']\n",
    "plt.figure(figsize = (10,10))\n",
    "plt.pie(sizes, labels=labels, autopct='%1.1f%%', textprops={'fontsize':20}, colors = colors)\n",
    "plt.title('Hospitalized Patients Percentage among the Dead', color = 'Maroon', fontsize = 30)\n",
    "plt.legend(df_dead.PATIENT_TYPE.value_counts(), loc = 'lower right', title = 'Hospitalized Patients')\n",
    "plt.show()"
   ]
  },
  {
   "cell_type": "markdown",
   "metadata": {
    "id": "e3b2c022"
   },
   "source": [
    "### There are 70,066 patients who were hospitalized among the dead, with a great percentage of 91.1%, which makes sense and indicates that only few patients have died after sending them home just after getting classified."
   ]
  },
  {
   "cell_type": "markdown",
   "metadata": {
    "id": "1b613ed1"
   },
   "source": [
    "## 14- How many of those hospitalized patients had been admitted to the ICU?"
   ]
  },
  {
   "cell_type": "code",
   "execution_count": null,
   "metadata": {
    "id": "0222f453",
    "outputId": "02087e26-cd98-47f2-efa1-dbc49e0a98cb"
   },
   "outputs": [],
   "source": [
    "df[(df['PATIENT_TYPE'] == 2) & (df['ICU'] == 1)]"
   ]
  },
  {
   "cell_type": "code",
   "execution_count": null,
   "metadata": {
    "id": "741e56c9",
    "outputId": "a13ac060-6582-40a2-fd8c-173161a8b97f"
   },
   "outputs": [],
   "source": [
    "df.ICU.value_counts()"
   ]
  },
  {
   "cell_type": "code",
   "execution_count": null,
   "metadata": {
    "id": "9c3a64c5",
    "outputId": "82346fd3-d982-451c-b28f-5d0abb6df48d"
   },
   "outputs": [],
   "source": [
    "df[(df['PATIENT_TYPE'] == 2)]['ICU'].value_counts()"
   ]
  },
  {
   "cell_type": "code",
   "execution_count": null,
   "metadata": {
    "id": "43296a4c",
    "outputId": "ceaf9c80-9f5a-4eb5-fdd3-4936fa4294aa"
   },
   "outputs": [],
   "source": [
    "labels = [\"Not admitted\", \"Admitted to ICU\"]\n",
    "sizes = df[(df['PATIENT_TYPE'] == 2)]['ICU'].value_counts()\n",
    "colors = [ '#e13433', '#46549d']\n",
    "plt.figure(figsize = (10,10))\n",
    "plt.pie(sizes, labels=labels, autopct='%1.1f%%', textprops={'fontsize':20},\n",
    "        colors = colors,)\n",
    "plt.title('ICU Admitted Patients',color = 'black',fontsize = 30)\n",
    "plt.legend(df[(df['PATIENT_TYPE'] == 2)]['ICU'].value_counts(), loc = 'lower right',\n",
    "           title = 'ICU Patients')\n",
    "plt.show()"
   ]
  },
  {
   "cell_type": "markdown",
   "metadata": {
    "id": "d7bf723d"
   },
   "source": [
    "### There are 16858 patients who had been admitted to the ICU with a percentage of 8.8% out of the total hospitalized patients"
   ]
  },
  {
   "cell_type": "markdown",
   "metadata": {
    "id": "3109c3b7"
   },
   "source": [
    "## 15- How many of those ICU admitted patients had been classified with Covid?"
   ]
  },
  {
   "cell_type": "code",
   "execution_count": null,
   "metadata": {
    "id": "2cc388b3",
    "outputId": "ccd84a07-9ba9-4a9f-87c6-5f47c75c4893"
   },
   "outputs": [],
   "source": [
    "df[(df['CLASIFFICATION_FINAL'] < 4) & (df['ICU'] == 1)]"
   ]
  },
  {
   "cell_type": "code",
   "execution_count": null,
   "metadata": {
    "id": "370c76d6",
    "outputId": "3b3f3029-6ec6-4a75-ff5f-b0f13f9787f6"
   },
   "outputs": [],
   "source": [
    "16858 - 10449"
   ]
  },
  {
   "cell_type": "markdown",
   "metadata": {
    "id": "5a579d76"
   },
   "source": [
    "### There are 6409 patients with no Covid 19 that had been admitted to an Intensive Care Unit, maybe due to other illnesses or diseases."
   ]
  },
  {
   "cell_type": "code",
   "execution_count": null,
   "metadata": {
    "id": "97a1a05e",
    "outputId": "7c46aaf6-2a8b-4c79-e26a-5ef01ad0b35a"
   },
   "outputs": [],
   "source": [
    "df[(df['ICU'] == 1)]['CLASIFFICATION_FINAL'].value_counts()"
   ]
  },
  {
   "cell_type": "markdown",
   "metadata": {
    "id": "5c21a633"
   },
   "source": [
    "### As expected patients with classification of the 3rd degree are the majority, and we can also notice that patients with covid are much more than non carriers."
   ]
  },
  {
   "cell_type": "code",
   "execution_count": null,
   "metadata": {
    "id": "1cdcb7b7",
    "outputId": "a6d86d61-8d81-4b85-f04d-6eb1dbbebeb3"
   },
   "outputs": [],
   "source": [
    "df[(df['ICU'] == 1)]['Covid_or_Not'].value_counts()"
   ]
  },
  {
   "cell_type": "markdown",
   "metadata": {
    "id": "328f0bc7"
   },
   "source": [
    "### We' ve got 10,449 patients who were carriers of Covid among the ICU."
   ]
  },
  {
   "cell_type": "code",
   "execution_count": null,
   "metadata": {
    "id": "3f7d16d2",
    "outputId": "221b33bf-071a-4d07-9521-0bfc35facd52"
   },
   "outputs": [],
   "source": [
    "labels = [\"A Covid 19 Carrier\", \"Not a Covid 19 Carrier\"]\n",
    "sizes = df[(df['PATIENT_TYPE'] == 2)]['Covid_or_Not'].value_counts()\n",
    "colors = ['#468499', '#ff7373']\n",
    "plt.figure(figsize = (10,10))\n",
    "plt.pie(sizes, labels=labels, autopct='%1.1f%%', textprops={'fontsize':20},\n",
    "        colors = colors,)\n",
    "plt.legend(df[(df['PATIENT_TYPE'] == 2)]['ICU'].value_counts(), loc = 'lower left',\n",
    "           title = 'Covid Carriers')\n",
    "plt.title('Covid Carriers among ICU Patients', color = 'maroon', fontsize = 25)\n",
    "plt.show()"
   ]
  },
  {
   "cell_type": "markdown",
   "metadata": {
    "id": "47ea7c45"
   },
   "source": [
    "### We can see the huge percentage of the Covid carriers (91.2%) among the ICU admitted patients."
   ]
  },
  {
   "cell_type": "markdown",
   "metadata": {
    "id": "e4ac2d60"
   },
   "source": [
    "## 16 - How many of those ICU patients have died?"
   ]
  },
  {
   "cell_type": "code",
   "execution_count": null,
   "metadata": {
    "id": "277e923e",
    "outputId": "9338edfa-b842-4d95-b313-38f3e12d0ca7"
   },
   "outputs": [],
   "source": [
    "df[(df['ICU'] == 1)]['DEAD'].value_counts()"
   ]
  },
  {
   "cell_type": "markdown",
   "metadata": {
    "id": "8a004732"
   },
   "source": [
    "### We' ve got 8,195 dead patients among the ICU."
   ]
  },
  {
   "cell_type": "code",
   "execution_count": null,
   "metadata": {
    "id": "e3ab09bd",
    "outputId": "fa0cf3ed-8551-4b13-ce31-2574bc16cba2"
   },
   "outputs": [],
   "source": [
    "labels = [\"Alive\", \"Dead\"]\n",
    "sizes = df[(df['ICU'] == 1)]['DEAD'].value_counts()\n",
    "colors = [ '#0a75ad', '#990000']\n",
    "plt.figure(figsize = (10,10))\n",
    "plt.pie(sizes, labels=labels, autopct='%1.1f%%', textprops={'fontsize':20, 'color':\"black\"}, colors = colors,\n",
    "        explode=[0.1, 0.1])\n",
    "plt.title('Death Rate among ICU Patients', color = 'red', fontsize = 25)\n",
    "plt.legend(df[(df['ICU'] == 1)]['DEAD'].value_counts(), loc = 'lower right', title = 'Death Rate')\n",
    "plt.show()"
   ]
  },
  {
   "cell_type": "markdown",
   "metadata": {
    "id": "078e69be"
   },
   "source": [
    "### Unfortantely about 48.6% of ICU admitted patients have died which is a great percentage, indicating the great losses we found at the ICU; because ICU patients are always at great risk and degrading medical conditions."
   ]
  },
  {
   "cell_type": "code",
   "execution_count": null,
   "metadata": {
    "id": "0d5e388b",
    "outputId": "8850df05-6a35-4596-be64-e612ad0dbf44"
   },
   "outputs": [],
   "source": [
    "df.columns"
   ]
  },
  {
   "cell_type": "markdown",
   "metadata": {
    "id": "cc575f79"
   },
   "source": [
    "## 17- What is the death trend with respect to time?"
   ]
  },
  {
   "cell_type": "code",
   "execution_count": null,
   "metadata": {
    "id": "abc64815",
    "outputId": "44936fc1-e934-4037-92a7-0ad43f5bb034"
   },
   "outputs": [],
   "source": [
    "plt.figure(figsize=(15,8))\n",
    "sns.histplot(data=df, x=\"DATE_DIED\")\n",
    "plt.title('Death Trend through Time', color = 'red', fontsize = 25)"
   ]
  },
  {
   "cell_type": "markdown",
   "metadata": {
    "id": "d2f75576"
   },
   "source": [
    "### We can see that deaths were occuring with high rate at year 2020 specially at the middle of the year (months from April till August)."
   ]
  },
  {
   "cell_type": "markdown",
   "metadata": {
    "id": "c70c0167"
   },
   "source": [
    "-------------------"
   ]
  },
  {
   "cell_type": "markdown",
   "metadata": {
    "id": "6862cf09"
   },
   "source": [
    "# Modeling and Results"
   ]
  },
  {
   "cell_type": "markdown",
   "metadata": {
    "id": "1e883832"
   },
   "source": [
    "## Feature Selection"
   ]
  },
  {
   "cell_type": "code",
   "execution_count": null,
   "metadata": {
    "id": "c7f23b99"
   },
   "outputs": [],
   "source": [
    "df_model = df.drop(columns=['DATE_DIED','SEX'])"
   ]
  },
  {
   "cell_type": "code",
   "execution_count": null,
   "metadata": {
    "id": "990741a9",
    "outputId": "cb8b6d33-5413-4e3f-de8a-c2da2fb2b244"
   },
   "outputs": [],
   "source": [
    "df_model.dropna().shape"
   ]
  },
  {
   "cell_type": "code",
   "execution_count": null,
   "metadata": {
    "id": "29ee5113",
    "outputId": "a72bf210-0469-4bc1-890a-2d110073e289"
   },
   "outputs": [],
   "source": [
    "df_model.shape"
   ]
  },
  {
   "cell_type": "code",
   "execution_count": null,
   "metadata": {
    "id": "c8753683",
    "outputId": "5ec10159-8c2f-4747-dc3c-c03208c881cd"
   },
   "outputs": [],
   "source": [
    "1048575 - 1019473"
   ]
  },
  {
   "cell_type": "code",
   "execution_count": null,
   "metadata": {
    "id": "83d31f56",
    "outputId": "251b9996-5055-4fab-9abc-b345ed92a05a"
   },
   "outputs": [],
   "source": [
    "29102 / 1048575"
   ]
  },
  {
   "cell_type": "markdown",
   "metadata": {
    "id": "281c8b19"
   },
   "source": [
    "### We can now remove the missing values as they are considered as a great minority in our data with a maximum of about 0.03%."
   ]
  },
  {
   "cell_type": "code",
   "execution_count": null,
   "metadata": {
    "id": "7516c8e1"
   },
   "outputs": [],
   "source": [
    "df_model.dropna(inplace = True)"
   ]
  },
  {
   "cell_type": "code",
   "execution_count": null,
   "metadata": {
    "id": "8b897721",
    "outputId": "c10dd727-aad1-4a25-cb90-21c40a9a3bc9"
   },
   "outputs": [],
   "source": [
    "sns.heatmap(df_model.isnull())\n",
    "plt.title('After Dropping the Remaining Missing Values', color = 'black', fontsize = 15)\n",
    "plt.show()"
   ]
  },
  {
   "cell_type": "code",
   "execution_count": null,
   "metadata": {
    "id": "1eee986a",
    "outputId": "449edcc6-a60c-4f3c-9589-00370f8cab78"
   },
   "outputs": [],
   "source": [
    "df_model.Covid_or_Not.value_counts()"
   ]
  },
  {
   "cell_type": "code",
   "execution_count": null,
   "metadata": {
    "id": "fe03a37d"
   },
   "outputs": [],
   "source": [
    "df_model.Covid_or_Not = df_model.Covid_or_Not.apply(lambda x: 2 if x==\"Not a Covid 19 Carrier\" else 1)"
   ]
  },
  {
   "cell_type": "markdown",
   "metadata": {},
   "source": [
    "### Removing unnecessary features"
   ]
  },
  {
   "cell_type": "code",
   "execution_count": null,
   "metadata": {},
   "outputs": [],
   "source": [
    "fig, ax = plt.subplots(figsize=(20, 15))\n",
    "mask=np.triu(np.ones_like(df.corr()))\n",
    "sns.heatmap(df.corr(), annot = True, cmap = \"Reds\", vmin = -1, vmax = 1, mask = mask)\n",
    "plt.title('Features Selection', color = 'black', fontsize = 30)\n",
    "plt.show()"
   ]
  },
  {
   "cell_type": "code",
   "execution_count": null,
   "metadata": {},
   "outputs": [],
   "source": [
    "unrelevant_features = [\"PREGNANT\",\"COPD\",\"ASTHMA\",\"INMSUPR\",\"OTHER_DISEASE\",\"CARDIOVASCULAR\",\n",
    "                      \"OBESITY\",\"TOBACCO\"]\n",
    "df_model.drop(columns=unrelevant_features,inplace=True)"
   ]
  },
  {
   "cell_type": "markdown",
   "metadata": {
    "id": "705651fc"
   },
   "source": [
    "### Data Splitting:"
   ]
  },
  {
   "cell_type": "code",
   "execution_count": null,
   "metadata": {
    "id": "4aa861a9"
   },
   "outputs": [],
   "source": [
    "X = df_model.drop('DEAD' , axis= 1)\n",
    "Y = df_model['DEAD']"
   ]
  },
  {
   "cell_type": "code",
   "execution_count": null,
   "metadata": {
    "id": "5238614a"
   },
   "outputs": [],
   "source": [
    "x_train, x_test, y_train, y_test = train_test_split(X, Y, test_size=0.30, random_state=42)"
   ]
  },
  {
   "cell_type": "markdown",
   "metadata": {
    "id": "7b32592d"
   },
   "source": [
    "### Checking for Correlated Features:"
   ]
  },
  {
   "cell_type": "code",
   "execution_count": null,
   "metadata": {
    "id": "f2bf760d",
    "outputId": "6e3f9cd5-a425-4442-8ab9-61fcf8e7ced9"
   },
   "outputs": [],
   "source": [
    "x_train.head()"
   ]
  },
  {
   "cell_type": "code",
   "execution_count": null,
   "metadata": {
    "id": "4e19573a",
    "outputId": "4ea03bb4-dece-4807-fb72-6cc0e9ba61a6"
   },
   "outputs": [],
   "source": [
    "fig, ax = plt.subplots(figsize=(20, 15))\n",
    "mask=np.triu(np.ones_like(x_train.corr()))\n",
    "sns.heatmap(x_train.corr(), annot = True, cmap = \"Reds\", vmin = -1, vmax = 1, mask = mask)\n",
    "plt.title('Checking for Correlated Features', color = 'black', fontsize = 30)\n",
    "plt.show()"
   ]
  },
  {
   "cell_type": "code",
   "execution_count": null,
   "metadata": {
    "id": "25c419b8"
   },
   "outputs": [],
   "source": [
    "def correlation(dataset, threshold):\n",
    "    col_corr = set()\n",
    "    corr_matrix = dataset.corr()\n",
    "    for i in range(len(corr_matrix.columns)):\n",
    "        for j in range(i):\n",
    "            if abs(corr_matrix.iloc[i, j]) > threshold:\n",
    "                colname = corr_matrix.columns[i]\n",
    "                col_corr.add(colname)\n",
    "    return col_corr"
   ]
  },
  {
   "cell_type": "code",
   "execution_count": null,
   "metadata": {
    "id": "c470d5e8",
    "outputId": "6bd65a7d-6fc5-416e-a83e-5520ac80f673"
   },
   "outputs": [],
   "source": [
    "print(correlation(x_train, 0.7))"
   ]
  },
  {
   "cell_type": "code",
   "execution_count": null,
   "metadata": {
    "id": "df94bc17"
   },
   "outputs": [],
   "source": [
    "x_train.drop('Covid_or_Not',axis=1, inplace = True)\n",
    "x_test.drop('Covid_or_Not',axis=1, inplace = True)"
   ]
  },
  {
   "cell_type": "markdown",
   "metadata": {
    "id": "d1c413c5"
   },
   "source": [
    "### Checking Data for Balance:"
   ]
  },
  {
   "cell_type": "code",
   "execution_count": null,
   "metadata": {
    "id": "c96e6ac6",
    "outputId": "ebf5bb1c-0f34-478b-bfa2-49ebfd2b7e4f"
   },
   "outputs": [],
   "source": [
    "sns.countplot(x = y_train)\n",
    "plt.title('Before Handling the Imbalance', color = 'black', fontsize = 15)\n",
    "plt.show()"
   ]
  },
  {
   "cell_type": "code",
   "execution_count": null,
   "metadata": {
    "id": "ba2e243e"
   },
   "outputs": [],
   "source": [
    "sm = SMOTE(random_state=42)\n",
    "x_train, y_train = sm.fit_resample(x_train, y_train)"
   ]
  },
  {
   "cell_type": "code",
   "execution_count": null,
   "metadata": {
    "id": "06f06840",
    "outputId": "0757b525-2869-4d53-9aab-10a18ac5e8b1"
   },
   "outputs": [],
   "source": [
    "# Let's check our data again:\n",
    "sns.countplot(x = y_train)\n",
    "plt.title('After Handling the Imbalance', color = 'black', fontsize = 15)\n",
    "plt.show()"
   ]
  },
  {
   "cell_type": "markdown",
   "metadata": {
    "id": "6a601227"
   },
   "source": [
    "## Important Note\n",
    "#### We should always split into test and train sets BEFORE trying any resampling techniques! so that we can apply our techniques only on the train sets (**remember we should never miss with our test sets!!**).\n",
    "\n",
    "\n",
    "#### Oversampling before splitting the data can allow the exact same observations to be present in both the test and train sets! (Data Leakage). This can allow our model to simply memorize specific data points and cause overfitting."
   ]
  },
  {
   "cell_type": "markdown",
   "metadata": {
    "id": "e45e3b89"
   },
   "source": [
    "## Training and Testing"
   ]
  },
  {
   "cell_type": "markdown",
   "metadata": {
    "id": "317cf7c8"
   },
   "source": [
    "### Logistic Regression"
   ]
  },
  {
   "cell_type": "code",
   "execution_count": null,
   "metadata": {
    "id": "3a57cc19",
    "outputId": "5b31f12a-90f5-487e-a8e8-9b0711e664ad"
   },
   "outputs": [],
   "source": [
    "lr = LogisticRegression()\n",
    "lr.fit(x_train,y_train)\n",
    "print(\"Logistic Regression Train Accuracy: \", lr.score(x_train,y_train), \"\\n\")\n",
    "print(\"Logistic Regression Test Accuracy: \", lr.score(x_test,y_test))"
   ]
  },
  {
   "cell_type": "code",
   "execution_count": null,
   "metadata": {
    "id": "QFC-TWMqbkzY",
    "outputId": "53ebaad8-99cf-4e29-a310-8f27a78f0d89"
   },
   "outputs": [],
   "source": [
    "Classes = ['Not Dead', 'Dead']\n",
    "print(\"Logistic Regression Classification Report:\", \"\\n\", classification_report(y_test, lr.predict(x_test), target_names = Classes))"
   ]
  },
  {
   "cell_type": "markdown",
   "metadata": {
    "id": "b9dae0d1"
   },
   "source": [
    "### Decision Tree"
   ]
  },
  {
   "cell_type": "code",
   "execution_count": null,
   "metadata": {
    "id": "a460c1bc",
    "outputId": "182be538-0147-479f-b2dd-55f8cdb89adf"
   },
   "outputs": [],
   "source": [
    "dt=DecisionTreeClassifier(random_state=42)\n",
    "dt.fit(x_train,y_train)\n",
    "print(\"Decision Tree Train Accuracy: \", dt.score(x_train,y_train), \"\\n\")\n",
    "print(\"Decision Tree Test Accuracy: \", dt.score(x_test,y_test))"
   ]
  },
  {
   "cell_type": "code",
   "execution_count": null,
   "metadata": {
    "id": "PFczh7Vvc6T3",
    "outputId": "3e9978a3-8ba0-4b15-f582-f2e7d71d384a"
   },
   "outputs": [],
   "source": [
    "print(\"Decision Tree Classification Report:\", \"\\n\",classification_report(y_test, dt.predict(x_test), target_names = Classes))"
   ]
  },
  {
   "cell_type": "markdown",
   "metadata": {
    "id": "682510bb"
   },
   "source": [
    "### Random Forest"
   ]
  },
  {
   "cell_type": "code",
   "execution_count": null,
   "metadata": {
    "id": "bfb0b08a",
    "outputId": "91b31e34-2be4-4806-b4a3-e82b88bceec3"
   },
   "outputs": [],
   "source": [
    "rf=RandomForestClassifier(n_estimators=4,random_state=42)\n",
    "rf.fit(x_train,y_train)\n",
    "print(\"Random Forest Train Accuracy: \", rf.score(x_train,y_train), \"\\n\")\n",
    "print(\"Random Forest Forest Test Accuracy: \", rf.score(x_test,y_test))"
   ]
  },
  {
   "cell_type": "code",
   "execution_count": null,
   "metadata": {
    "id": "LQl7JPYtdBOZ",
    "outputId": "4eb8358f-c4d3-4149-902f-26a27bef380a"
   },
   "outputs": [],
   "source": [
    "print(\"Random Forest Classification Report:\", \"\\n\",classification_report(y_test, rf.predict(x_test), target_names = Classes))"
   ]
  },
  {
   "cell_type": "markdown",
   "metadata": {
    "id": "5d20389f"
   },
   "source": [
    "### Naive Bayes"
   ]
  },
  {
   "cell_type": "code",
   "execution_count": null,
   "metadata": {
    "id": "ff561f92",
    "outputId": "f7dcf939-8e1d-4bf0-c8c4-fef0b7fd28be"
   },
   "outputs": [],
   "source": [
    "gnb = GaussianNB()\n",
    "gnb.fit(x_train , y_train)\n",
    "print(\"Naive Bayes Train Accuracy: \", gnb.score(x_train,y_train), \"\\n\")\n",
    "print(\"Naive Bayes Test Accuracy: \", gnb.score(x_test,y_test))"
   ]
  },
  {
   "cell_type": "code",
   "execution_count": null,
   "metadata": {
    "id": "SLy16UiFdfbj",
    "outputId": "3e987635-54e2-4d0d-b70f-faa06679f32d"
   },
   "outputs": [],
   "source": [
    "print(\"Naive Bayes Classification Report:\", \"\\n\",classification_report(y_test, gnb.predict(x_test), target_names = Classes))"
   ]
  },
  {
   "cell_type": "markdown",
   "metadata": {
    "id": "a9eb4b55"
   },
   "source": [
    "### XGBoost"
   ]
  },
  {
   "cell_type": "code",
   "execution_count": null,
   "metadata": {
    "id": "b45c2940",
    "outputId": "ebddb4af-d3c5-46bd-ec7e-157883fffdbb"
   },
   "outputs": [],
   "source": [
    "XGB = XGBClassifier()\n",
    "XGB.fit(x_train , y_train)\n",
    "print(\"XGBoost Train Accuracy: \", XGB.score(x_train,y_train), \"\\n\")\n",
    "print(\"XGBoost Test Accuracy: \", XGB.score(x_test,y_test))"
   ]
  },
  {
   "cell_type": "code",
   "execution_count": null,
   "metadata": {
    "id": "Yf05p82VdlVV",
    "outputId": "b215169a-0353-442f-d582-b2de6b6f883d"
   },
   "outputs": [],
   "source": [
    "print(\"XGBoost Classification Report:\", \"\\n\",classification_report(y_test, XGB.predict(x_test), target_names = Classes))"
   ]
  },
  {
   "cell_type": "markdown",
   "metadata": {},
   "source": [
    "#### We' ve tried to train and test both the \"Support Vector Machine\" and the \"K-Nearest Neighbors\" algorithms, but they took like forever to run, and that can be expected due to the huge size of our data."
   ]
  },
  {
   "cell_type": "markdown",
   "metadata": {},
   "source": [
    "# Best Model?"
   ]
  },
  {
   "cell_type": "markdown",
   "metadata": {},
   "source": [
    "#### From the above results we can see that althogh we got the highest accuracy (about 92%) from both **Decision Tree & Random Forrest** algorithms, but **the recall was very bad in the \"Dead\" class**, and since we care the most about our **\"false negatives\" --> (predicting a patient to be having no risks, while he/she is actually at high risk)** which results in type 2 error; **our judgement will be based on the recall** and here's where those algorithms fail with their misleading accuracy."
   ]
  },
  {
   "cell_type": "markdown",
   "metadata": {},
   "source": [
    "### So, from the point of view of both the accuracy and the recall togther, the best model was the **\"Logistic Regression\"** with about **90%** accuracy and lowest recall (\"Not dead\" class), and even a bit higher recall in the \"Dead\" class (about 91%).\n",
    "\n",
    "<br>\n",
    "<br>\n",
    "\n",
    "### Comes next the **\"Naive Bayes\"** with an accuracy of **88%** and with a lowest recall of **88%** (both classes)."
   ]
  },
  {
   "cell_type": "markdown",
   "metadata": {},
   "source": [
    "### We can also notice that we sacrificed both the precision and f1 score which came pretty low in every report.\n",
    "\n",
    "### Probably, we could've achieved better results if we undersampled our train dataset instead of oversampling it (as it will reduce the great noise in our data), but this could have resulted in losing a great portion of our data, and thus losing it's integrity."
   ]
  },
  {
   "cell_type": "markdown",
   "metadata": {
    "id": "3ccf9249"
   },
   "source": [
    "-------------------------"
   ]
  },
  {
   "cell_type": "markdown",
   "metadata": {
    "id": "9a33341f"
   },
   "source": [
    "# Conclusion"
   ]
  },
  {
   "cell_type": "markdown",
   "metadata": {
    "id": "c375d442"
   },
   "source": [
    "* Unfortunately 7.3% of the total patients have died, with about 70.5% of them were Covid Carriers.\n",
    "<br>\n",
    "<br>\n",
    "* As for the total carriers they were about 37.5% out of the total patients.\n",
    "<br>\n",
    "<br>\n",
    "* About 14% of those carriers have died.\n",
    "<br>\n",
    "<br>\n",
    "* We found that age has a significant impact; as it increases chances of getting the virus increases.\n",
    "<br>\n",
    "<br>\n",
    "* We also found that people who are suffering from obesity are more likely to carry the virus.\n",
    "<br>\n",
    "<br>\n",
    "* As for pregnancy, we couldn't find any impact on Covid classification.\n",
    "<br>\n",
    "<br>\n",
    "* We noticed that patients with \"Pneumonia\", \"Hypertension\", \"Diabetes\" and tobacco users have a great chance of getting the virus with \"Pneumonia\" patients being the most.\n",
    "<br>\n",
    "<br>\n",
    "* We also noticed that there's a positive correlation between having \"Hypertension\" and \"Diabetes\" diseases; as most patients with one of those two diseases are subjected to get the other.\n",
    "<br>\n",
    "<br>\n",
    "* We saw that among all the patients of these diseases the patients classified with 3rd degree of Covid are the highest by far.\n",
    "<br>\n",
    "<br>\n",
    "* About 19% of the total patients were hospitalized, with a death percentage of 35%.\n",
    "<br>\n",
    "<br>\n",
    "* The \"Pneumonia\" disease has the greatest impact on that percentage (35%).\n",
    "<br>\n",
    "<br>\n",
    "* About 91% of the dead patients were hospitalized.\n",
    "<br>\n",
    "<br>\n",
    "* About 9% out of the hospitalized patients were admitted to the ICU, with about 56% of them being classified as Covid carriers, and with a great percentage of death of about 49%.\n",
    "<br>\n",
    "<br>\n",
    "* The death was very trending during mid 2020 starting from April up till August.\n",
    "<br>\n",
    "<br>\n",
    "* As for our modeling, we got the highest accuracy of 92% using both \"Random Forest\" and \"Decision Tree\"\n",
    "algorithms, but when checking the recall we found that those accuracies are misleading. So, we settled with the **\"Logistic Regression\"** that achieved great scores regarding both accuracy and recall with about **90%**.\n"
   ]
  }
 ],
 "metadata": {
  "kaggle": {
   "accelerator": "none",
   "dataSources": [
    {
     "datasetId": 2633044,
     "sourceId": 4504149,
     "sourceType": "datasetVersion"
    }
   ],
   "dockerImageVersionId": 30527,
   "isGpuEnabled": false,
   "isInternetEnabled": false,
   "language": "python",
   "sourceType": "notebook"
  },
  "kernelspec": {
   "display_name": "Python 3 (ipykernel)",
   "language": "python",
   "name": "python3"
  },
  "language_info": {
   "codemirror_mode": {
    "name": "ipython",
    "version": 3
   },
   "file_extension": ".py",
   "mimetype": "text/x-python",
   "name": "python",
   "nbconvert_exporter": "python",
   "pygments_lexer": "ipython3",
   "version": "3.11.7"
  }
 },
 "nbformat": 4,
 "nbformat_minor": 4
}
